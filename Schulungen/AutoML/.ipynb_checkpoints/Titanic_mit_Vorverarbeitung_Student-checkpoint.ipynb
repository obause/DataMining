{
 "cells": [
  {
   "cell_type": "markdown",
   "id": "6e46cc80",
   "metadata": {
    "id": "neIvhHu_iS_B"
   },
   "source": [
    "# Schulungsnotebook - H2O AutoML\n",
    "In diesem Notebook geht es um die Anwendung vom Supervised Learning mit der H2O AutoML Bibliothek. Dafür verwenden wir den Datensatz \"Titanic_train.csv\".\n",
    "Eine Frage, die sich hier aufdrängt, lautet:  Ob eine Person, die an Bord der RMS Titanic war, eine Überlebenschance hatte oder nicht?"
   ]
  },
  {
   "cell_type": "markdown",
   "id": "1a2acc7d",
   "metadata": {},
   "source": [
    "# 1 Vorverarbeitung"
   ]
  },
  {
   "cell_type": "markdown",
   "id": "ebbd44a1",
   "metadata": {
    "id": "bfQCA8xGsF4U"
   },
   "source": [
    "## 1.1 Importieren der notwendingen Pandas-Bibliothek"
   ]
  },
  {
   "cell_type": "code",
   "execution_count": null,
   "id": "bea61c92",
   "metadata": {
    "id": "EVaKuislRkW0"
   },
   "outputs": [],
   "source": []
  },
  {
   "cell_type": "markdown",
   "id": "e69715f4",
   "metadata": {},
   "source": [
    "## 1.2 Einlesen der CSV-Datei mit Pandas"
   ]
  },
  {
   "cell_type": "code",
   "execution_count": null,
   "id": "98aae448",
   "metadata": {},
   "outputs": [],
   "source": []
  },
  {
   "cell_type": "markdown",
   "id": "4bcfd4dd",
   "metadata": {
    "id": "GuLoaNxxl3pu"
   },
   "source": [
    "## Interpretation der Attribute"
   ]
  },
  {
   "cell_type": "markdown",
   "id": "23671e20",
   "metadata": {
    "id": "Jg000D2fmDBb"
   },
   "source": [
    "*   **PassengerID:** gibt die ID aller Passagiere an.\n",
    "*   **Survived:** Enthält die Werte 0 und 1. Dabei steht 0 für nicht-überlebt und 1 für überlebt.\n",
    "*   **PClass:** gibt die drei verschiedenen Passagierklassen an (1,2,3).\n",
    "*   **Name:** Name des Passagiers.\n",
    "*   **Sex:** Geschlecht der Passagiere.\n",
    "*   **Age:** Alter der Passagiere.\n",
    "*   **SibSp:** Angabe, dass der Passagier Geschwister und Ehepartner hat.\n",
    "*   **Parch:** Ob ein Passagier allein oder mit der Familie unterwegs ist.\n",
    "*   **Ticket:** gibt die Ticketnummer der Passagiere an.\n",
    "*   **Fare:** Angabe des Fahrpreises.\n",
    "*   **Cabine:** Kabine der Passagiere.\n",
    "*   **Embarked:** Ort der Schiffsbesteigung (C = Cherbourg, Q = Queenstown, S = Southampton).\n"
   ]
  },
  {
   "cell_type": "markdown",
   "id": "68f60030",
   "metadata": {
    "id": "pJguY1Y9Kwrf"
   },
   "source": [
    "## 1.3 Behandlung von fehlenden Werten\n",
    "\n",
    "Lassen Sie sich fehlende Werte anzeigen und führen Sie folgende Schritte der Datensäuberung durch:"
   ]
  },
  {
   "cell_type": "code",
   "execution_count": null,
   "id": "3f0ebbcb",
   "metadata": {
    "id": "klmlFcxqR46t"
   },
   "outputs": [],
   "source": [
    "df.isnull().sum()"
   ]
  },
  {
   "cell_type": "markdown",
   "id": "8dfb7172",
   "metadata": {
    "id": "PiBPuXEDJZtA"
   },
   "source": [
    "Aus dem obigen Ergebnis kann entnommen werden, dass Spalten 'Age', 'Cabin' und 'Embarked' viele fehlende Werte haben.\n",
    "\n",
    "Im Folgenden sollen Sie bei der Spalte 'Age' diese durch den Mittelwert (mean), bei 'Embarked' durch den häufigsten Wert (mode()[0]) und bei 'Cabin' durch den Text 'Fehlender Wert' ersetzen."
   ]
  },
  {
   "cell_type": "code",
   "execution_count": null,
   "id": "4f185a98",
   "metadata": {
    "id": "aJLaf1eDKEAI"
   },
   "outputs": [],
   "source": []
  },
  {
   "cell_type": "code",
   "execution_count": null,
   "id": "6a8dfd45",
   "metadata": {
    "id": "YDduVQ0lKJCU"
   },
   "outputs": [],
   "source": []
  },
  {
   "cell_type": "code",
   "execution_count": null,
   "id": "115558a2",
   "metadata": {
    "id": "cF1PD8mPKMin"
   },
   "outputs": [],
   "source": []
  },
  {
   "cell_type": "markdown",
   "id": "51d8b4ec",
   "metadata": {
    "id": "20WraASCS1Ue"
   },
   "source": [
    "Überprüfen Sie, ob alle fehlenden Werte behandelt wurden."
   ]
  },
  {
   "cell_type": "code",
   "execution_count": null,
   "id": "2fda17d4",
   "metadata": {
    "id": "9jWLv7--SpUJ"
   },
   "outputs": [],
   "source": []
  },
  {
   "cell_type": "markdown",
   "id": "5eda7ced",
   "metadata": {
    "id": "Se81k-X6KbEF"
   },
   "source": [
    "Es gibt Spalten, die in diesem Prozess nicht von großer Bedeutung sind. Lassen Sie uns die Spalten PassengerId, Name und Ticket entfernen. "
   ]
  },
  {
   "cell_type": "code",
   "execution_count": null,
   "id": "37e30925",
   "metadata": {
    "id": "f3szs2r4UJ3r"
   },
   "outputs": [],
   "source": []
  },
  {
   "cell_type": "markdown",
   "id": "206135e9",
   "metadata": {
    "id": "8iIkIFJVS6_0"
   },
   "source": [
    "Es ist eine Datentransformation für die Spalten \"Sex\" und \"Embarked\" von kategorischen Werte in numerische Werte notwendig.\n",
    "\n",
    "Ersetzen Sie dabei die Ausprägungen von Sex und Embarked durch numerische Werte (0,1,..)."
   ]
  },
  {
   "cell_type": "code",
   "execution_count": null,
   "id": "dd3f5e47",
   "metadata": {
    "id": "rxmkFSPgSy3G"
   },
   "outputs": [],
   "source": []
  },
  {
   "cell_type": "markdown",
   "id": "11c0801a",
   "metadata": {
    "id": "ICMm7KXcAROU"
   },
   "source": [
    "# 2 H2O AutoML"
   ]
  },
  {
   "cell_type": "markdown",
   "id": "4cd0ab34",
   "metadata": {
    "id": "mw5GERDQBfdA"
   },
   "source": [
    "## 2.1 Installation der H2O AutoML Bibliothek\n",
    "\n",
    "Installieren Sie die H2O-Bibliothek (Die Ausführung kann hier 2-3 Minuten dauern!) "
   ]
  },
  {
   "cell_type": "code",
   "execution_count": null,
   "id": "4a0eb52e",
   "metadata": {
    "id": "J5b31-UxBgEt"
   },
   "outputs": [],
   "source": [
    "!pip install h2o"
   ]
  },
  {
   "cell_type": "markdown",
   "id": "916ba8a0",
   "metadata": {
    "id": "TbhCkbFFBjvC"
   },
   "source": [
    "Importieren von notwendigen Bibliotheken"
   ]
  },
  {
   "cell_type": "code",
   "execution_count": null,
   "id": "49a857c8",
   "metadata": {
    "id": "ZBcJ6P7TBmk-"
   },
   "outputs": [],
   "source": [
    "import h2o\n",
    "from h2o.automl import H2OAutoML"
   ]
  },
  {
   "cell_type": "markdown",
   "id": "07246226",
   "metadata": {
    "id": "t5pC1SWMB8Gv"
   },
   "source": [
    "Initialisieren des H2O Clusters.\n",
    "Dies ist ein notwendiger Schritt, um die in H2O verwendeten Modelle entwickeln zu können."
   ]
  },
  {
   "cell_type": "code",
   "execution_count": null,
   "id": "8ef287bc",
   "metadata": {
    "id": "PtBgEnVRB7df"
   },
   "outputs": [],
   "source": [
    "h2o.init()"
   ]
  },
  {
   "cell_type": "markdown",
   "id": "3f096f0f",
   "metadata": {
    "id": "3_F5MHOZ42DS"
   },
   "source": [
    "## 2.2 Umwandlung des Pandas DataFrame in ein H2O DataFrame.\n",
    "\n",
    "Wandeln Sie das Pandas DataFrame in ein H2O DataFrame um und benennen Sie das neue H2O DataFrame \"titanic_h2o\"."
   ]
  },
  {
   "cell_type": "code",
   "execution_count": null,
   "id": "45a2ffd0",
   "metadata": {
    "id": "5p3n8qNpTjMM"
   },
   "outputs": [],
   "source": []
  },
  {
   "cell_type": "markdown",
   "id": "cbc69ffe",
   "metadata": {},
   "source": [
    "## 2.3 Erstellung der Modelle\n",
    "\n",
    "Teilen Sie die Daten in Trainings- und Testdaten auf. 70% der Daten sollen Trainingsdaten sein und 30% Testdaten.\n",
    "\n",
    "\n",
    "Ergänzt dabei die Parameter 'seed' mit dem Wert 200. Dies bewirkt, dass immer die gleiche Verteilung zwischen Trainings- und Testdaten ausgewählt wird und die Ergebnisse vergleichbar sind."
   ]
  },
  {
   "cell_type": "code",
   "execution_count": null,
   "id": "83f15698",
   "metadata": {
    "id": "-UI786S17F9U"
   },
   "outputs": [],
   "source": []
  },
  {
   "cell_type": "markdown",
   "id": "7ea01ce7",
   "metadata": {},
   "source": [
    "In diesem Schritt werden die zu trainierenden Features und die Zielvariable \"Survived\" identifiziert. Anschließend wird die Zielvariablenspalte 'Survived' aus der Auflistung der Spalten entfernt."
   ]
  },
  {
   "cell_type": "code",
   "execution_count": null,
   "id": "9619c174",
   "metadata": {
    "id": "9ShFOtzO7F9V"
   },
   "outputs": [],
   "source": [
    "features = train.columns\n",
    "target = \"Survived\"\n",
    "features.remove(target)"
   ]
  },
  {
   "cell_type": "markdown",
   "id": "2f840939",
   "metadata": {},
   "source": [
    "Nun wird die Zielvariable als Faktor, sowohl bei den Trainings- als auch bei den Testdaten gespeichert. Bei einer binären Klassifizierung sollte die Zielvariable ein Faktor sein."
   ]
  },
  {
   "cell_type": "code",
   "execution_count": null,
   "id": "70473695",
   "metadata": {
    "id": "lpyxNKsh7F9W"
   },
   "outputs": [],
   "source": [
    "train[target] = train[target].asfactor()\n",
    "test[target] = test[target].asfactor()"
   ]
  },
  {
   "cell_type": "markdown",
   "id": "88a1f6f9",
   "metadata": {},
   "source": [
    "Untersuchen Sie den folgenden Code. Was bewirkt dieser?\n",
    "Die Ausführung kann etwas Zeit in Anspruch nehmen."
   ]
  },
  {
   "cell_type": "code",
   "execution_count": null,
   "id": "eb2cd91a",
   "metadata": {
    "id": "KSRlZD017F9W"
   },
   "outputs": [],
   "source": [
    "aml = H2OAutoML(exclude_algos = [\"StackedEnsemble\"] ,max_models=10, max_runtime_secs=3000, seed=1)\n",
    "aml.train(x=features, y=target, training_frame=train)"
   ]
  },
  {
   "cell_type": "markdown",
   "id": "c2bb7508",
   "metadata": {},
   "source": [
    "Geben Sie das Leaderboard aus und untersuchen Sie die Rangfolge der Modelle."
   ]
  },
  {
   "cell_type": "code",
   "execution_count": null,
   "id": "d32fd3a8",
   "metadata": {
    "id": "jt5S1gmY7F9W"
   },
   "outputs": [],
   "source": []
  },
  {
   "cell_type": "markdown",
   "id": "5c9253e6",
   "metadata": {},
   "source": [
    "## 2.4 Wenden Sie das beste Modell auf die Testdaten an.\n",
    "\n",
    "Die Verwendung der Funktion predict() mit AutoML erzeugt Vorhersagen für das führende Modell des Laufes. Die Reihenfolge der Zeilen in den Ergebnissen entspricht der Reihenfolge, in der die Daten geladen wurden, auch wenn einige Zeilen fehlschlagen (z. B. aufgrund fehlender Werte oder nicht gesehener Faktorstufen).\n",
    "\n",
    "Spalte predict: wirkliche Spalte aus den Testdaten, die vorher gesagt werden soll\n",
    "\n",
    "P0: vorhergesagte Wahrscheinlichkeit, dass eine 0 herauskommt\n",
    "\n",
    "P1: vorhergesagte Wahrscheinlichkeit, dass eine 1 herauskommt\n",
    "\n",
    "Nur die ersten 10 Zeilen werden ausgegeben. Wenn mehr Zeilen ausgegeben werden sollen, muss dies mit der Funktion .head() erfolgen.\n"
   ]
  },
  {
   "cell_type": "code",
   "execution_count": null,
   "id": "bc18e8be",
   "metadata": {
    "id": "g3gpMdznKhoe"
   },
   "outputs": [],
   "source": []
  },
  {
   "cell_type": "markdown",
   "id": "6ddd9ce4",
   "metadata": {},
   "source": [
    "## 2.5 Ergebnisse auswerten\n",
    "\n",
    "Speichen Sie das beste Modell in die Variable m. Hinweis: Geben Sie den Namen des besten Modells mit dem Befehl '.algo' aus.\n",
    "\n",
    "Verwenden Sie darauffolgend diese Variable m, um sich mittels der explain-Funktion Informationen über das Modell ausgeben zu lassen. Ergänzt dabei exclude_explanations=[\"PDP\", \"shap_summary\"], da diese Visualisierungen für unsere Auswertungen nicht relevant sind.\n",
    "\n",
    "\n",
    "Bewerten sie die Confusion-Matrix des besten Modells auf Basis der Testdaten.\n",
    "\n",
    "----------------------------------------------\n",
    "\n",
    "Als kleine Hilfestellung zur Confusion-Matrix:\n",
    "\n",
    "Zeilen: tätsachliche Ereignisse\n",
    "\n",
    "Spalten: vorhergesagte Ereinisse\n",
    "\n",
    "Rate: Fehlerrate der Vorhersagen anhand der wirklichen Ereignisse"
   ]
  },
  {
   "cell_type": "markdown",
   "id": "78d2f2d6",
   "metadata": {},
   "source": [
    "Was können Sie über die Variablen-Wichtigkeit sagen?\n",
    "\n",
    "In welchem Zusammenhang steht die Variablenwichtigkeit und die damaligen Werte in Bezug auf das Szenario der Titanic."
   ]
  },
  {
   "cell_type": "code",
   "execution_count": null,
   "id": "f51b1996",
   "metadata": {
    "id": "YH4M3-Ac7F9X"
   },
   "outputs": [],
   "source": []
  },
  {
   "cell_type": "code",
   "execution_count": null,
   "id": "820c917e",
   "metadata": {
    "id": "3fgD23Tb7F9Y"
   },
   "outputs": [],
   "source": [
    "\n"
   ]
  },
  {
   "cell_type": "code",
   "execution_count": null,
   "id": "f3fb5a89",
   "metadata": {},
   "outputs": [],
   "source": []
  },
  {
   "cell_type": "code",
   "execution_count": null,
   "id": "a71676ee",
   "metadata": {},
   "outputs": [],
   "source": []
  },
  {
   "cell_type": "code",
   "execution_count": null,
   "id": "9c23d1ad",
   "metadata": {},
   "outputs": [],
   "source": []
  }
 ],
 "metadata": {
  "colab": {
   "collapsed_sections": [],
   "name": "Titanic_mit_Vorverarbeitung_Lösung.ipynb",
   "provenance": []
  },
  "kernelspec": {
   "display_name": "Python 3 (ipykernel)",
   "language": "python",
   "name": "python3"
  },
  "language_info": {
   "codemirror_mode": {
    "name": "ipython",
    "version": 3
   },
   "file_extension": ".py",
   "mimetype": "text/x-python",
   "name": "python",
   "nbconvert_exporter": "python",
   "pygments_lexer": "ipython3",
   "version": "3.9.7"
  }
 },
 "nbformat": 4,
 "nbformat_minor": 5
}
