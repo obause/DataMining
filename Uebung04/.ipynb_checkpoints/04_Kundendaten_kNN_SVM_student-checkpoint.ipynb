{
 "cells": [
  {
   "cell_type": "markdown",
   "metadata": {},
   "source": [
    "# Übung 4 - kNN & SVM\n",
    "Notwendige Bibliotheken werden geladen."
   ]
  },
  {
   "cell_type": "code",
   "execution_count": null,
   "metadata": {},
   "outputs": [],
   "source": [
    "import pandas as pd\n",
    "import numpy as np\n",
    "import matplotlib.pyplot as plt"
   ]
  },
  {
   "cell_type": "markdown",
   "metadata": {},
   "source": [
    "## 4.1 Auszug aus der Datenvorbereitung\n",
    "Erläutern Sie mit Kommentaren im Code, was hier jeweils durchgeführt wird durch die einzelnen Befehle."
   ]
  },
  {
   "cell_type": "code",
   "execution_count": null,
   "metadata": {},
   "outputs": [],
   "source": [
    "from sklearn import preprocessing\n",
    "\n",
    "df = pd.read_csv('01_Kundendaten.csv')\n",
    "\n",
    "df['high revenue'] = np.where(df['total_sum'] > 300, 1, 0)\n",
    "\n",
    "dfFilter = df[['gender','age_first_order','user_agent_brand',\n",
    "         'user_agent_os', 'campaign', 'pages_visited_avg','high revenue']]\n",
    "\n",
    "dfCopy = dfFilter.copy()\n",
    "\n",
    "dfCopy['gender'] = dfCopy['gender'].fillna(dfCopy['gender'].mode()[0])\n",
    "dfCopy['age_first_order'] = dfCopy['age_first_order'].fillna(dfFilter['age_first_order'].mode()[0])\n",
    "\n",
    "dfCopy[\"campaign\"] = dfCopy[\"campaign\"].astype(int)\n",
    "\n",
    "dfPrepared = dfCopy.copy()\n",
    "dfPrepared.head()"
   ]
  },
  {
   "cell_type": "markdown",
   "metadata": {},
   "source": [
    "## 4.2 One-Hot-Encoding & Normalisierung\n",
    "Führen Sie nun eine Binärkodierung für alle relevanten Merkmale durch und speichern Sie das Ergebnis im Dataframe dfTrans."
   ]
  },
  {
   "cell_type": "code",
   "execution_count": null,
   "metadata": {
    "scrolled": true
   },
   "outputs": [],
   "source": []
  },
  {
   "cell_type": "markdown",
   "metadata": {},
   "source": [
    "Schauen Sie sich mit der Heatmap die Korrelationen an. Entfernen Sie Merkmale, die mit anderen zu 100% korrelieren."
   ]
  },
  {
   "cell_type": "code",
   "execution_count": null,
   "metadata": {
    "scrolled": true
   },
   "outputs": [],
   "source": [
    "import seaborn as sns\n",
    "\n",
    "sns.heatmap(dfTrans.corr())"
   ]
  },
  {
   "cell_type": "code",
   "execution_count": null,
   "metadata": {},
   "outputs": [],
   "source": []
  },
  {
   "cell_type": "markdown",
   "metadata": {},
   "source": [
    "Nun müssen noch alle nicht binären Attribute normalisiert werden. Dafür soll diesmal minmax_scale verwendet werden. Erläutern Sie durch Kommentare die Funktion der einzelnen Code-Zeilen."
   ]
  },
  {
   "cell_type": "code",
   "execution_count": null,
   "metadata": {},
   "outputs": [],
   "source": [
    "from sklearn.preprocessing import minmax_scale\n",
    "dfnorm = dfTrans.copy()\n",
    "\n",
    "scaled = minmax_scale(dfnorm[['age_first_order','pages_visited_avg']], feature_range = (0, 1))\n",
    "\n",
    "dfnorm['age_first_order'] = scaled[:,0] \n",
    "dfnorm['pages_visited_avg'] = scaled[:,1]\n",
    "\n",
    "dfnorm[['age_first_order', 'pages_visited_avg']].head()"
   ]
  },
  {
   "cell_type": "markdown",
   "metadata": {},
   "source": [
    "## 4.3 Training & Bewertung der Modelle\n",
    "\n",
    "Im Folgenden sollen die Algorithmen kNN und SVM trainiert und getestet werden. Dazu ist hier vorab ein Datensplit von 70 % (Trainingsdaten) zu 30 % (Testdaten) durchzuführen."
   ]
  },
  {
   "cell_type": "code",
   "execution_count": null,
   "metadata": {},
   "outputs": [],
   "source": [
    "from sklearn.model_selection import train_test_split\n",
    "\n",
    "x = dfnorm.drop(['high revenue'], axis = 1)\n",
    "y = dfnorm['high revenue'].astype(int)\n",
    "\n",
    "x_train, x_test, y_train, y_test = train_test_split(x, y,\n",
    "                                    random_state = 101, stratify = y, test_size = 0.3)"
   ]
  },
  {
   "cell_type": "markdown",
   "metadata": {},
   "source": [
    "### A1: k-Nearest Neighbours (kNN)\n",
    "Trainieren Sie den kNN auf den Trainingsdaten und evaluieren Sie auf den Testdaten. Testen Sie verschiedene Werte für k."
   ]
  },
  {
   "cell_type": "code",
   "execution_count": null,
   "metadata": {},
   "outputs": [],
   "source": []
  },
  {
   "cell_type": "markdown",
   "metadata": {},
   "source": [
    "#### Modellbewertung\n",
    "Verwenden Sie danach den Scorer oder andere behandelte Methoden, um die Confusion Matrix und die Accuracy Ihrer Modelle zu bewerten."
   ]
  },
  {
   "cell_type": "code",
   "execution_count": null,
   "metadata": {},
   "outputs": [],
   "source": []
  },
  {
   "cell_type": "code",
   "execution_count": null,
   "metadata": {},
   "outputs": [],
   "source": []
  },
  {
   "cell_type": "markdown",
   "metadata": {},
   "source": [
    "### A2: Support Vector Machine\n",
    "Trainieren Sie eine SVM auf den Trainingsdaten und evaluieren Sie auf den Testdaten. Testen Sie mit der Parameterübergabe (kernel = 'rbf', gamma = 'scale')."
   ]
  },
  {
   "cell_type": "code",
   "execution_count": null,
   "metadata": {},
   "outputs": [],
   "source": []
  },
  {
   "cell_type": "markdown",
   "metadata": {},
   "source": [
    "#### Modellbewertung\n",
    "Verwenden Sie danach den Scorer oder andere behandelte Methoden, um die Confusion Matrix und die Accuracy Ihrer Modelle zu bewerten."
   ]
  },
  {
   "cell_type": "code",
   "execution_count": null,
   "metadata": {},
   "outputs": [],
   "source": []
  },
  {
   "cell_type": "code",
   "execution_count": null,
   "metadata": {},
   "outputs": [],
   "source": []
  },
  {
   "cell_type": "markdown",
   "metadata": {},
   "source": [
    "### Evaluation der Algorithmen\n",
    "Bewerten Sie die Güte der beiden Algorithmen durch Evaluation der Ergebnisse. Welchen würden Sie einsetzen?"
   ]
  },
  {
   "cell_type": "code",
   "execution_count": null,
   "metadata": {},
   "outputs": [],
   "source": []
  },
  {
   "cell_type": "markdown",
   "metadata": {},
   "source": [
    "## 4.4 Optimierung mit GridSearch (Ausblick)\n",
    "Gridsearch ist eine Methode zur Hyperparameteroptimierung. Gridsearch probiert iterativ alle Kombinationen der gewählten Parameter aus. Die Kombination mit dem höchsten Score wird anschließend ausgegeben.\n",
    "\n",
    "Einfacheishalber wird hier auf eine Cross-Validation in der Übung verzichtet."
   ]
  },
  {
   "cell_type": "code",
   "execution_count": 1,
   "metadata": {},
   "outputs": [],
   "source": [
    "from sklearn.model_selection import GridSearchCV\n",
    "\n",
    "from sklearn.metrics import classification_report\n",
    "from sklearn.metrics import confusion_matrix"
   ]
  },
  {
   "cell_type": "markdown",
   "metadata": {},
   "source": [
    "### A1: SVM"
   ]
  },
  {
   "cell_type": "code",
   "execution_count": null,
   "metadata": {},
   "outputs": [],
   "source": [
    "from sklearn.svm import SVC\n",
    "\n",
    "svm_model = SVC(random_state = 1)\n",
    "param_grid1 = {\"kernel\": [\"poly\", \"rbf\", \"sigmoid\"], \n",
    "              \"gamma\": [\"scale\",\"auto\"] }\n",
    "gridSearch1 = GridSearchCV(estimator = svm_model, param_grid = param_grid1)\n",
    "gridSearch1.fit(x_train, y_train)\n",
    "\n",
    "results1 = pd.DataFrame(gridSearch1.cv_results_)\n",
    "\n",
    "params1 = results1.loc[results1['rank_test_score'].idxmax()]\n",
    "params1['params']"
   ]
  },
  {
   "cell_type": "markdown",
   "metadata": {},
   "source": [
    "Nun wollen wir mit den besten Parametern das Modell trainieren."
   ]
  },
  {
   "cell_type": "code",
   "execution_count": null,
   "metadata": {},
   "outputs": [],
   "source": []
  },
  {
   "cell_type": "markdown",
   "metadata": {},
   "source": [
    "Schauen Sie sich nun erneut die ConfusionMatrix an und vergleichen Sie."
   ]
  },
  {
   "cell_type": "code",
   "execution_count": null,
   "metadata": {},
   "outputs": [],
   "source": []
  },
  {
   "cell_type": "markdown",
   "metadata": {},
   "source": [
    "### A1: k-Nearest Neighbours"
   ]
  },
  {
   "cell_type": "markdown",
   "metadata": {},
   "source": [
    "Setzen Sie GridSearch nun für k-Nearest Neighbours um und wählen im param_grid verschiedene Werte für metric und n_neighbors."
   ]
  },
  {
   "cell_type": "code",
   "execution_count": null,
   "metadata": {},
   "outputs": [],
   "source": []
  }
 ],
 "metadata": {
  "kernelspec": {
   "display_name": "Python 3",
   "language": "python",
   "name": "python3"
  },
  "language_info": {
   "codemirror_mode": {
    "name": "ipython",
    "version": 3
   },
   "file_extension": ".py",
   "mimetype": "text/x-python",
   "name": "python",
   "nbconvert_exporter": "python",
   "pygments_lexer": "ipython3",
   "version": "3.8.5"
  }
 },
 "nbformat": 4,
 "nbformat_minor": 4
}
