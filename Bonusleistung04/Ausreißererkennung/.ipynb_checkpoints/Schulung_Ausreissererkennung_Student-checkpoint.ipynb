{
 "cells": [
  {
   "cell_type": "markdown",
   "metadata": {},
   "source": [
    "# Schulung Ausreißererkennung - DBSCAN und Prophet"
   ]
  },
  {
   "cell_type": "markdown",
   "metadata": {},
   "source": [
    "In dieser Schulung soll der Umgang mit dem DBSCAN gelernt und angewandt werden. Zusätzlich kann der Prophet Algorithmus beispielhaft benutzt werden."
   ]
  },
  {
   "cell_type": "markdown",
   "metadata": {},
   "source": [
    "### 1. DBSCAN"
   ]
  },
  {
   "cell_type": "markdown",
   "metadata": {},
   "source": [
    "In dem vorliegenden Datensatz sind verschiedene Fischarten mit deren Gewicht (in Gramm), Größe (in cm) und Lebensraum aufgelistet. Ziel der Übung ist es die Fische zu erkennen, die untypische Merkmale aufweisen.\n",
    "Dies soll mit Hilfe des DBSCANs realisiert werden. Untypische Datensätze (Ausreißer) können dann näher betrachtet werden und sofern notwendig bearbeitet werden. (Handelt es sich um fehlerhafte Daten oder um Zufälle?)"
   ]
  },
  {
   "cell_type": "markdown",
   "metadata": {},
   "source": [
    "Zuerst werden die notwendigen Standardbibliotheken importiert. "
   ]
  },
  {
   "cell_type": "code",
   "execution_count": null,
   "metadata": {},
   "outputs": [],
   "source": [
    "import pandas as pd\n",
    "import numpy as np \n",
    "import matplotlib.pyplot as plt"
   ]
  },
  {
   "cell_type": "markdown",
   "metadata": {},
   "source": [
    "Nun soll der Datensatz Fischarten.xslx eingelesen werden (pd.read_excel) und die Spalte Index soll als Index übernommen werden."
   ]
  },
  {
   "cell_type": "code",
   "execution_count": null,
   "metadata": {},
   "outputs": [],
   "source": []
  },
  {
   "cell_type": "markdown",
   "metadata": {},
   "source": [
    "Der eingelesene Datensatz soll um seine vorerst nicht notwendigen Spalten (Fisch und Gewässer) gekürzt werden und unter neuem Namen abgespeichert werden."
   ]
  },
  {
   "cell_type": "code",
   "execution_count": null,
   "metadata": {
    "scrolled": false
   },
   "outputs": [],
   "source": []
  },
  {
   "cell_type": "markdown",
   "metadata": {},
   "source": [
    "Da der DBSCAN ein Clustering Algorithmus ist, ist es sinnvoll sich einen Überblick über die Daten zu machen. Hierfür soll ein Scatterplot für die beiden Merkmale Größe und Gewicht erstellt werden (plt.scatter). Wie viele Cluster sind zu erkennen? Sind schon Ausreißer erkennbar? Wie viele Fischarten sind im Datensatz vorhanden? (df['Fisch'].unique())"
   ]
  },
  {
   "cell_type": "code",
   "execution_count": null,
   "metadata": {},
   "outputs": [],
   "source": []
  },
  {
   "cell_type": "markdown",
   "metadata": {},
   "source": [
    "Um einen einfacheren Umgang mit dem DBSCAN zu ermöglichen, ist es sinnvoll die Daten mit dem MinMaxScaler zu transformieren (zu Werten zwischen 0 und 1). Dieser Schritt sollte aus den Übungen bekannt sein (bei Problemen schaut nochmal in Übung 8 Fortnite Daten Clustering vorbei (8.2)). Der skalierte Dataframe soll hier df_scaled heißen."
   ]
  },
  {
   "cell_type": "code",
   "execution_count": null,
   "metadata": {},
   "outputs": [],
   "source": [
    "from sklearn.preprocessing import MinMaxScaler\n",
    "\n"
   ]
  },
  {
   "cell_type": "markdown",
   "metadata": {},
   "source": [
    "Der DBSCAN kann folgendermaßen importiert werden (from sklearn.cluster import DBSCAN) und mit folgendem Befehl ausgeführt werden: clustering = DBSCAN(eps=Ein Wert, min_samples=Anderer Wert).fit(df_scaled). Der Wert für eps steht für den Radius, in dem nach Nachbarn gesucht wird und min_samples steht für die Mindestanzahl an Nachbarn, die für einen Cluster benötigt wird. (Beachte: Alle Werte sind nach dem MinMaxScaler zwischen 0 und 1. eps sollte also auch zwischen 0 und 1 liegen.)"
   ]
  },
  {
   "cell_type": "code",
   "execution_count": null,
   "metadata": {},
   "outputs": [],
   "source": [
    "from sklearn.cluster import DBSCAN\n",
    "\n"
   ]
  },
  {
   "cell_type": "markdown",
   "metadata": {},
   "source": [
    "Die clustering.labels_ sollen einem neuen Dataframe (df_final) hinzugefügt werden als Spalte Cluster, genauso wie die Spalte Fisch, die anfänglich entfernt wurde. Außerdem sollen die Spalten Gewicht und Größe enthalten sein. (MinMax Skaliert)"
   ]
  },
  {
   "cell_type": "code",
   "execution_count": null,
   "metadata": {},
   "outputs": [],
   "source": [
    "df_final = pd.DataFrame()\n",
    "\n"
   ]
  },
  {
   "cell_type": "markdown",
   "metadata": {},
   "source": [
    "Nun sollen die Cluster geplotted werden. Hierfür ist es am Einfachsten für jeden Cluster einen eigenen Dataframe zu erstellen. Ausreißer haben den Cluster-Wert -1 und werden als x dargestellt.\n",
    "Sofern ihr die 5 Cluster und 5 Ausreißer gefunden habt könnt ihr den unten stehenden Code einfach ausführen.\n",
    "\n",
    "(Um zu überprüfen ob ihr sie gefunden habt könnt ihr den Plot natürlich auch benutzen. Sofern ihr nicht 5 Cluster und 5 Ausreißer habt müsst ihr den Wert für eps beim DBSCAN noch anpassen.)"
   ]
  },
  {
   "cell_type": "code",
   "execution_count": null,
   "metadata": {},
   "outputs": [],
   "source": [
    "plt.figure(figsize=(10,10))\n",
    "df1 = df_final[df_final.Cluster==0]\n",
    "df2 = df_final[df_final.Cluster==1]\n",
    "df3 = df_final[df_final.Cluster==2]\n",
    "df4 = df_final[df_final.Cluster==3]\n",
    "df5 = df_final[df_final.Cluster==4]\n",
    "df6 = df_final[df_final.Cluster==-1]\n",
    "plt.scatter(df1[\"Größe\"],df1[\"Gewicht\"],color='green', label='Bullenhai')\n",
    "plt.scatter(df2[\"Größe\"],df2[\"Gewicht\"],color='magenta', label='Wels')\n",
    "plt.scatter(df3[\"Größe\"],df3[\"Gewicht\"],color='orange', label='Karpfen')\n",
    "plt.scatter(df4[\"Größe\"],df4[\"Gewicht\"],color='red', label='Zander und Forelle')\n",
    "plt.scatter(df5[\"Größe\"],df5[\"Gewicht\"],color='blue', label='Rotauge')\n",
    "plt.scatter(df6[\"Größe\"],df6[\"Gewicht\"],color='black', marker=\"x\", label=\"Ausreißer\")\n",
    "plt.title('Clustering Result', fontweight='bold',fontsize=20)\n",
    "plt.xlabel('Größe',fontsize=15)\n",
    "plt.ylabel('Gewicht',fontsize=15)\n",
    "plt.legend(fontsize=15)\n",
    "plt.show()"
   ]
  },
  {
   "cell_type": "markdown",
   "metadata": {},
   "source": [
    "### 2. Prophet"
   ]
  },
  {
   "cell_type": "markdown",
   "metadata": {},
   "source": [
    "Sofern die obige Übung vollständig erledigt ist, könnt ihr hier einmal ein Beispiel für den prophet Algorithmus von Facebook sehen und versuchen nachzuvollziehen.\n",
    "\n",
    "Zuerst müssen dafür 2 Pakete installiert werden. Prophet kann nur installiert werden, wenn C++ Version 14.0 vorhanden ist. (Sofern ihr Visual Studio Code installiert habt sollte es kein Problem geben)\n",
    "\n",
    "Falls ihr das nicht installiert habt bzw. es eine Fehlermeldung gibt. Könnt ihr das Notebook auch in Google colab ausführen.\n",
    "(https://colab.research.google.com/)\n",
    "\n",
    "##### Achtung! Bitte nur ausführen sofern Anaconda mindestens 4Gb Arbeitsspeicher zur Verfügung stehen! \n",
    "Es Werden 4Gb Arbeitsspeicher für die Installation benötigt und 2Gb zum Ausführen."
   ]
  },
  {
   "cell_type": "code",
   "execution_count": null,
   "metadata": {},
   "outputs": [],
   "source": [
    "!pip install pystan==2.19.1.1"
   ]
  },
  {
   "cell_type": "code",
   "execution_count": null,
   "metadata": {},
   "outputs": [],
   "source": [
    "!pip install prophet"
   ]
  },
  {
   "cell_type": "code",
   "execution_count": null,
   "metadata": {},
   "outputs": [],
   "source": [
    "from prophet import Prophet"
   ]
  },
  {
   "cell_type": "markdown",
   "metadata": {},
   "source": [
    "Der Prophet Algorithmus soll hier auf den DAX seit 1998 angewandt werden. Der Algorithmus wird mit den gewählten Einstellungen eine Trendlinie berechnen, eine Prognose für die nächsten 750 Handelstage erstellen und uncertainty intervals berechnen. \n",
    "Werte außerhalb der uncertainty intervals gelten als Ausreißer."
   ]
  },
  {
   "cell_type": "code",
   "execution_count": null,
   "metadata": {},
   "outputs": [],
   "source": [
    "df_dax = pd.read_excel('Dax_ab98.xlsx')"
   ]
  },
  {
   "cell_type": "code",
   "execution_count": null,
   "metadata": {},
   "outputs": [],
   "source": [
    "m = Prophet()\n",
    "m.fit(df_dax)\n",
    "future = m.make_future_dataframe(periods=750)\n",
    "forecast = m.predict(future)\n",
    "fig = m.plot(forecast)"
   ]
  },
  {
   "cell_type": "markdown",
   "metadata": {},
   "source": [
    "Mit den Standardeinstellungen fällt auf, dass der Einfluss der Coronakrise anfang 2020 hier als Ausreißer erkannt wird. "
   ]
  },
  {
   "cell_type": "markdown",
   "metadata": {},
   "source": [
    "Wenn ihr hiermit fertig seit, meldet euch gerne im Chat, damit wir euch den Link zum Quiz zu Verfügung stellen können.\n",
    "\n",
    "## Vielen Dank für die Mitarbeit!"
   ]
  }
 ],
 "metadata": {
  "kernelspec": {
   "display_name": "Python 3",
   "language": "python",
   "name": "python3"
  },
  "language_info": {
   "codemirror_mode": {
    "name": "ipython",
    "version": 3
   },
   "file_extension": ".py",
   "mimetype": "text/x-python",
   "name": "python",
   "nbconvert_exporter": "python",
   "pygments_lexer": "ipython3",
   "version": "3.8.5"
  }
 },
 "nbformat": 4,
 "nbformat_minor": 4
}
