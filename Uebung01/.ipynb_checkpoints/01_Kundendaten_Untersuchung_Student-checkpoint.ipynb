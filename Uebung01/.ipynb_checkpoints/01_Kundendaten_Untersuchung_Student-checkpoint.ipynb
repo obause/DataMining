{
 "cells": [
  {
   "cell_type": "markdown",
   "metadata": {},
   "source": [
    "# Übung 1 - Untersuchung des Datensatzes"
   ]
  },
  {
   "cell_type": "code",
   "execution_count": null,
   "metadata": {},
   "outputs": [],
   "source": [
    "import pandas as pd\n",
    "import numpy as np\n",
    "\n",
    "import matplotlib.pyplot as plt\n",
    "import seaborn as sn"
   ]
  },
  {
   "cell_type": "markdown",
   "metadata": {},
   "source": [
    "Lesen Sie die Datei 01_Kundendaten.csv einmal in die Variable df ein. Damit erzeugen Sie einen Pandas Dataframe.\n",
    "(df = pd.read_csv('Dateiname'))\n",
    "\n",
    "Lassen Sie sich die ersten 10 Zeilen des Dataframes anzeigen."
   ]
  },
  {
   "cell_type": "code",
   "execution_count": null,
   "metadata": {},
   "outputs": [],
   "source": []
  },
  {
   "cell_type": "markdown",
   "metadata": {},
   "source": [
    "## 1.1 Kategorisierung der Attribute\n",
    "\n",
    "\n",
    "Ist die Kopfzeile korrekt eingelesen, ordnen Sie nun die Attribute in folgende Kategorien ein:\n",
    "\n",
    "**Nominale Attribute**\n",
    "\n",
    "- ..\n",
    "\n",
    "\n",
    "**Ordinale Attribute**\n",
    "\n",
    "\n",
    "**Metrische kontinuierliche Attribute**\n",
    "\n",
    "\n",
    "**Metrisch diskrete Attribute**\n"
   ]
  },
  {
   "cell_type": "markdown",
   "metadata": {},
   "source": [
    "## 1.2 Statistische Parameter\n",
    "Berechnen Sie zunächst wesentliche statistische Kennzahlen der numerischen Spalten mit der Beschreiben-Funktion."
   ]
  },
  {
   "cell_type": "code",
   "execution_count": null,
   "metadata": {},
   "outputs": [],
   "source": []
  },
  {
   "cell_type": "markdown",
   "metadata": {},
   "source": [
    "Nun lassen Sie sich die Varianz der der Spalten ausgeben."
   ]
  },
  {
   "cell_type": "code",
   "execution_count": null,
   "metadata": {},
   "outputs": [],
   "source": []
  },
  {
   "cell_type": "markdown",
   "metadata": {},
   "source": [
    "Folgender Code erzeugt eine neue Variable param, die die wesentlichen Kennzahlen plus Varianz und Schiefe enthält. Versuchen Sie den Code nachzuvollziehen und die einzelnen Befehle im CheatSheet wiederzufinden. Ergänzen Sie eine Zeile für den Median."
   ]
  },
  {
   "cell_type": "code",
   "execution_count": null,
   "metadata": {},
   "outputs": [],
   "source": [
    "param = df.describe()\n",
    "metricAttributes = ['age_first_order','pages_visited_avg','total_sum','count']\n",
    "param.loc['var',:] = df[metricAttributes].var()\n",
    "param.loc['skew',:] = df[metricAttributes].skew()\n",
    "param.head(10)"
   ]
  },
  {
   "cell_type": "markdown",
   "metadata": {},
   "source": [
    "## 1.3 Histogramm\n",
    "\n",
    "Erstellen Sie ein (pandas)-Histogramm für die Spalte \"age_first_order\".\n",
    "\n",
    "Achtung: \"Missing Values\" wurden hier nicht betrachtet und können für weitere Untersuchungen relevant sein."
   ]
  },
  {
   "cell_type": "code",
   "execution_count": null,
   "metadata": {},
   "outputs": [],
   "source": []
  },
  {
   "cell_type": "markdown",
   "metadata": {},
   "source": [
    "**Was fällt Ihnen im Vergelich des oberen und unteren Histogramms auf?**\n",
    "\n",
    "Dies ist ein Histogramm für die Spalte \"age_first_order\" in Abhängigkeit von \"y = total_sum\"."
   ]
  },
  {
   "cell_type": "code",
   "execution_count": null,
   "metadata": {},
   "outputs": [],
   "source": [
    "plt.hist(df[\"age_first_order\"],\n",
    "         weights = df['total_sum'])\n",
    "plt.show()"
   ]
  },
  {
   "cell_type": "markdown",
   "metadata": {},
   "source": [
    "## 1.4 Box-Plot\n",
    "Der untere Code erzeugt ein Boxplot für das Attribut \"pages_visited_avg\".\n",
    "\n",
    "**Welche statistische Größe repräsentiert diese?**\n",
    "\n",
    "\n",
    "**Was sagt der Unterschied zwischen Median und Mittelwert über die Verteilung aus?**\n"
   ]
  },
  {
   "cell_type": "code",
   "execution_count": null,
   "metadata": {},
   "outputs": [],
   "source": [
    "vel_arr = df['pages_visited_avg']\n",
    "fig = plt.figure(1, figsize = (9, 6))\n",
    "ax = fig.add_subplot()\n",
    "\n",
    "ax.boxplot(vel_arr, vert = False)\n",
    "ax.set_xlabel('pages_visited_avg')\n",
    "\n",
    "quantiles = np.quantile(vel_arr, np.array([0.00, 0.25, 0.50, 0.75, 1.00]))\n",
    "\n",
    "ax.set_xticks(quantiles)\n",
    "plt.show()"
   ]
  },
  {
   "cell_type": "markdown",
   "metadata": {},
   "source": [
    "## 1.5 Lineare Korrelationen\n",
    "Der Befehl corr() erstellt eine Tabelle mit allen (linearen) Korrelationen eines Dataframes. Die Tabelle ist redundant aufgebaut und daher ist nur eine der beiden \"Dreieckmatrizen\" wichtig zu betrachten. Wenden Sie den Befehl auf das Dataframe an.\n",
    "\n",
    "**Welche beiden Werte korrelieren am stärksten positiv und welche am stärksten negativ?**\n"
   ]
  },
  {
   "cell_type": "code",
   "execution_count": null,
   "metadata": {
    "scrolled": false
   },
   "outputs": [],
   "source": []
  },
  {
   "cell_type": "markdown",
   "metadata": {},
   "source": [
    "## 1.6 Korrelationen-Heatmap\n",
    "Da Tabellen für das menschliche Auge nur schwer zu interpretieren sind, ist hier eine Heatmap einer Korrelationsmatrix dargestellt. Dem Parameter data muss die oben erstellte Korrelationstabelle übergeben werden."
   ]
  },
  {
   "cell_type": "code",
   "execution_count": null,
   "metadata": {},
   "outputs": [],
   "source": [
    "sn.heatmap(data = XXX, annot = True)"
   ]
  },
  {
   "cell_type": "markdown",
   "metadata": {},
   "source": [
    "## 1.7 Streudiagramme\n",
    "Erzeugen Sie ein (pandas)-Streudiagramm (engl. scatter plot) zwischen age_first_order und total_sum."
   ]
  },
  {
   "cell_type": "code",
   "execution_count": null,
   "metadata": {},
   "outputs": [],
   "source": []
  },
  {
   "cell_type": "markdown",
   "metadata": {},
   "source": [
    "Vergleichen Sie das Scatterplot mit der unteren Variante. Ändern Sie den Paramter s und beobachten Sie die Veränderung."
   ]
  },
  {
   "cell_type": "code",
   "execution_count": null,
   "metadata": {},
   "outputs": [],
   "source": [
    "plt.scatter(df['age_first_order'], df['total_sum'], s = 0.5)\n",
    "plt.xlabel('age_first_order')\n",
    "plt.ylabel('total_Sum')"
   ]
  },
  {
   "cell_type": "markdown",
   "metadata": {},
   "source": [
    "Der untere Befehl erzeugt Streudiagramme von Kombinationen der Attributen und ordnet diese in Form einer Matrix an."
   ]
  },
  {
   "cell_type": "code",
   "execution_count": null,
   "metadata": {},
   "outputs": [],
   "source": [
    "sn.pairplot(data = df[[\"age_first_order\", \"total_sum\", \"pages_visited_avg\"]])"
   ]
  },
  {
   "cell_type": "markdown",
   "metadata": {},
   "source": [
    "## 1.8 Histogramme für kategorische Variablen\n",
    "\n",
    "Bevor Histogramme mit dem obigen Befehlen plot.hist() erzeugt werden können, werden die Zeichenketten in numerische Werte konvertiert."
   ]
  },
  {
   "cell_type": "code",
   "execution_count": null,
   "metadata": {},
   "outputs": [],
   "source": [
    "dfNumeric=df.copy()\n",
    "dfNumeric['gender'].replace(to_replace=['M','F'] , value=[0, 1], inplace=True)\n",
    "dfNumeric['gender'] = pd.to_numeric(dfNumeric['gender'])"
   ]
  },
  {
   "cell_type": "code",
   "execution_count": null,
   "metadata": {},
   "outputs": [],
   "source": [
    "dfNumeric['gender'].plot.hist()"
   ]
  },
  {
   "cell_type": "markdown",
   "metadata": {},
   "source": [
    "Schauen Sie sich nun das folgende Histogramm an. Recherchieren Sie den Unterschied der beiden Befehle."
   ]
  },
  {
   "cell_type": "code",
   "execution_count": null,
   "metadata": {},
   "outputs": [],
   "source": [
    "df['gender'].hist()"
   ]
  },
  {
   "cell_type": "markdown",
   "metadata": {},
   "source": [
    "Nun erzeugen Sie ein Histogramm mit beiden Befehlen für user_agent_brand. Finden Sie dazu zunächst mit einem geeingneten Befehl heraus, welche unterschiedlichen Werte in der Spalte vorkommen."
   ]
  },
  {
   "cell_type": "code",
   "execution_count": null,
   "metadata": {},
   "outputs": [],
   "source": []
  },
  {
   "cell_type": "code",
   "execution_count": null,
   "metadata": {},
   "outputs": [],
   "source": []
  },
  {
   "cell_type": "code",
   "execution_count": null,
   "metadata": {},
   "outputs": [],
   "source": []
  },
  {
   "cell_type": "code",
   "execution_count": null,
   "metadata": {},
   "outputs": [],
   "source": []
  }
 ],
 "metadata": {
  "kernelspec": {
   "display_name": "Python 3",
   "language": "python",
   "name": "python3"
  },
  "language_info": {
   "codemirror_mode": {
    "name": "ipython",
    "version": 3
   },
   "file_extension": ".py",
   "mimetype": "text/x-python",
   "name": "python",
   "nbconvert_exporter": "python",
   "pygments_lexer": "ipython3",
   "version": "3.8.5"
  }
 },
 "nbformat": 4,
 "nbformat_minor": 4
}
