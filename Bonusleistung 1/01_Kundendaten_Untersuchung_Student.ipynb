{
 "cells": [
  {
   "cell_type": "markdown",
   "metadata": {},
   "source": [
    "# Übung 1 - Untersuchung des Datensatzes"
   ]
  },
  {
   "cell_type": "code",
   "execution_count": 2,
   "metadata": {},
   "outputs": [],
   "source": [
    "import pandas as pd\n",
    "import numpy as np\n",
    "\n",
    "import matplotlib.pyplot as plt\n",
    "import seaborn as sn"
   ]
  },
  {
   "cell_type": "markdown",
   "metadata": {},
   "source": [
    "Lesen Sie die Datei 01_Kundendaten.csv einmal in die Variable df ein. Damit erzeugen Sie einen Pandas Dataframe.\n",
    "(df = pd.read_csv('Dateiname'))\n",
    "\n",
    "Lassen Sie sich die ersten 10 Zeilen des Dataframes anzeigen."
   ]
  },
  {
   "cell_type": "code",
   "execution_count": 127,
   "metadata": {},
   "outputs": [
    {
     "data": {
      "text/html": [
       "<div>\n",
       "<style scoped>\n",
       "    .dataframe tbody tr th:only-of-type {\n",
       "        vertical-align: middle;\n",
       "    }\n",
       "\n",
       "    .dataframe tbody tr th {\n",
       "        vertical-align: top;\n",
       "    }\n",
       "\n",
       "    .dataframe thead th {\n",
       "        text-align: right;\n",
       "    }\n",
       "</style>\n",
       "<table border=\"1\" class=\"dataframe\">\n",
       "  <thead>\n",
       "    <tr style=\"text-align: right;\">\n",
       "      <th></th>\n",
       "      <th>state</th>\n",
       "      <th>county</th>\n",
       "      <th>age_group</th>\n",
       "      <th>gender</th>\n",
       "      <th>date</th>\n",
       "      <th>cases</th>\n",
       "      <th>deaths</th>\n",
       "      <th>recovered</th>\n",
       "    </tr>\n",
       "  </thead>\n",
       "  <tbody>\n",
       "    <tr>\n",
       "      <th>0</th>\n",
       "      <td>Baden-Wuerttemberg</td>\n",
       "      <td>LK Alb-Donau-Kreis</td>\n",
       "      <td>00-04</td>\n",
       "      <td>F</td>\n",
       "      <td>2020-03-27</td>\n",
       "      <td>1</td>\n",
       "      <td>0</td>\n",
       "      <td>1</td>\n",
       "    </tr>\n",
       "    <tr>\n",
       "      <th>1</th>\n",
       "      <td>Baden-Wuerttemberg</td>\n",
       "      <td>LK Alb-Donau-Kreis</td>\n",
       "      <td>00-04</td>\n",
       "      <td>F</td>\n",
       "      <td>2020-03-28</td>\n",
       "      <td>1</td>\n",
       "      <td>0</td>\n",
       "      <td>1</td>\n",
       "    </tr>\n",
       "    <tr>\n",
       "      <th>2</th>\n",
       "      <td>Baden-Wuerttemberg</td>\n",
       "      <td>LK Alb-Donau-Kreis</td>\n",
       "      <td>00-04</td>\n",
       "      <td>F</td>\n",
       "      <td>2020-04-03</td>\n",
       "      <td>1</td>\n",
       "      <td>0</td>\n",
       "      <td>1</td>\n",
       "    </tr>\n",
       "    <tr>\n",
       "      <th>3</th>\n",
       "      <td>Baden-Wuerttemberg</td>\n",
       "      <td>LK Alb-Donau-Kreis</td>\n",
       "      <td>00-04</td>\n",
       "      <td>F</td>\n",
       "      <td>2020-10-18</td>\n",
       "      <td>1</td>\n",
       "      <td>0</td>\n",
       "      <td>1</td>\n",
       "    </tr>\n",
       "    <tr>\n",
       "      <th>4</th>\n",
       "      <td>Baden-Wuerttemberg</td>\n",
       "      <td>LK Alb-Donau-Kreis</td>\n",
       "      <td>00-04</td>\n",
       "      <td>F</td>\n",
       "      <td>2020-10-22</td>\n",
       "      <td>1</td>\n",
       "      <td>0</td>\n",
       "      <td>1</td>\n",
       "    </tr>\n",
       "    <tr>\n",
       "      <th>...</th>\n",
       "      <td>...</td>\n",
       "      <td>...</td>\n",
       "      <td>...</td>\n",
       "      <td>...</td>\n",
       "      <td>...</td>\n",
       "      <td>...</td>\n",
       "      <td>...</td>\n",
       "      <td>...</td>\n",
       "    </tr>\n",
       "    <tr>\n",
       "      <th>1094912</th>\n",
       "      <td>Thueringen</td>\n",
       "      <td>SK Weimar</td>\n",
       "      <td>80-99</td>\n",
       "      <td>M</td>\n",
       "      <td>2021-10-13</td>\n",
       "      <td>1</td>\n",
       "      <td>0</td>\n",
       "      <td>0</td>\n",
       "    </tr>\n",
       "    <tr>\n",
       "      <th>1094913</th>\n",
       "      <td>Thueringen</td>\n",
       "      <td>SK Weimar</td>\n",
       "      <td>80-99</td>\n",
       "      <td>M</td>\n",
       "      <td>2021-10-21</td>\n",
       "      <td>1</td>\n",
       "      <td>0</td>\n",
       "      <td>0</td>\n",
       "    </tr>\n",
       "    <tr>\n",
       "      <th>1094914</th>\n",
       "      <td>Thueringen</td>\n",
       "      <td>SK Weimar</td>\n",
       "      <td>NaN</td>\n",
       "      <td>F</td>\n",
       "      <td>2021-10-21</td>\n",
       "      <td>1</td>\n",
       "      <td>0</td>\n",
       "      <td>0</td>\n",
       "    </tr>\n",
       "    <tr>\n",
       "      <th>1094915</th>\n",
       "      <td>Thueringen</td>\n",
       "      <td>SK Weimar</td>\n",
       "      <td>NaN</td>\n",
       "      <td>F</td>\n",
       "      <td>2021-10-22</td>\n",
       "      <td>1</td>\n",
       "      <td>0</td>\n",
       "      <td>0</td>\n",
       "    </tr>\n",
       "    <tr>\n",
       "      <th>1094916</th>\n",
       "      <td>Thueringen</td>\n",
       "      <td>SK Weimar</td>\n",
       "      <td>NaN</td>\n",
       "      <td>M</td>\n",
       "      <td>2021-10-23</td>\n",
       "      <td>1</td>\n",
       "      <td>0</td>\n",
       "      <td>0</td>\n",
       "    </tr>\n",
       "  </tbody>\n",
       "</table>\n",
       "<p>1094917 rows × 8 columns</p>\n",
       "</div>"
      ],
      "text/plain": [
       "                      state              county age_group gender        date  \\\n",
       "0        Baden-Wuerttemberg  LK Alb-Donau-Kreis     00-04      F  2020-03-27   \n",
       "1        Baden-Wuerttemberg  LK Alb-Donau-Kreis     00-04      F  2020-03-28   \n",
       "2        Baden-Wuerttemberg  LK Alb-Donau-Kreis     00-04      F  2020-04-03   \n",
       "3        Baden-Wuerttemberg  LK Alb-Donau-Kreis     00-04      F  2020-10-18   \n",
       "4        Baden-Wuerttemberg  LK Alb-Donau-Kreis     00-04      F  2020-10-22   \n",
       "...                     ...                 ...       ...    ...         ...   \n",
       "1094912          Thueringen           SK Weimar     80-99      M  2021-10-13   \n",
       "1094913          Thueringen           SK Weimar     80-99      M  2021-10-21   \n",
       "1094914          Thueringen           SK Weimar       NaN      F  2021-10-21   \n",
       "1094915          Thueringen           SK Weimar       NaN      F  2021-10-22   \n",
       "1094916          Thueringen           SK Weimar       NaN      M  2021-10-23   \n",
       "\n",
       "         cases  deaths  recovered  \n",
       "0            1       0          1  \n",
       "1            1       0          1  \n",
       "2            1       0          1  \n",
       "3            1       0          1  \n",
       "4            1       0          1  \n",
       "...        ...     ...        ...  \n",
       "1094912      1       0          0  \n",
       "1094913      1       0          0  \n",
       "1094914      1       0          0  \n",
       "1094915      1       0          0  \n",
       "1094916      1       0          0  \n",
       "\n",
       "[1094917 rows x 8 columns]"
      ]
     },
     "execution_count": 127,
     "metadata": {},
     "output_type": "execute_result"
    }
   ],
   "source": [
    "df_orig = pd.read_csv('covid_de.csv')\n",
    "#df = df_orig.tail(1122) # Nur Datensätze ab 21. Juli 2020\n",
    "df = df_orig\n",
    "\n",
    "df"
   ]
  },
  {
   "cell_type": "markdown",
   "metadata": {},
   "source": [
    "## 1.1 Kategorisierung der Attribute\n",
    "\n",
    "\n",
    "Ist die Kopfzeile korrekt eingelesen, ordnen Sie nun die Attribute in folgende Kategorien ein:\n",
    "\n",
    "**Nominale Attribute**\n",
    "\n",
    "- state\n",
    "- country\n",
    "- gender\n",
    "\n",
    "\n",
    "**Ordinale Attribute**\n",
    "\n",
    "- age_group\n",
    "\n",
    "**Metrische kontinuierliche Attribute**\n",
    "\n",
    "- \n",
    "\n",
    "**Metrisch diskrete Attribute**\n",
    "\n",
    "- date (Intervallskala)\n",
    "- cases\n",
    "- deaths\n",
    "- recovered"
   ]
  },
  {
   "cell_type": "markdown",
   "metadata": {},
   "source": [
    "## 1.2 Statistische Parameter\n",
    "Berechnen Sie zunächst wesentliche statistische Kennzahlen der numerischen Spalten mit der Beschreiben-Funktion."
   ]
  },
  {
   "cell_type": "code",
   "execution_count": 128,
   "metadata": {},
   "outputs": [
    {
     "data": {
      "text/html": [
       "<div>\n",
       "<style scoped>\n",
       "    .dataframe tbody tr th:only-of-type {\n",
       "        vertical-align: middle;\n",
       "    }\n",
       "\n",
       "    .dataframe tbody tr th {\n",
       "        vertical-align: top;\n",
       "    }\n",
       "\n",
       "    .dataframe thead th {\n",
       "        text-align: right;\n",
       "    }\n",
       "</style>\n",
       "<table border=\"1\" class=\"dataframe\">\n",
       "  <thead>\n",
       "    <tr style=\"text-align: right;\">\n",
       "      <th></th>\n",
       "      <th>cases</th>\n",
       "      <th>deaths</th>\n",
       "      <th>recovered</th>\n",
       "    </tr>\n",
       "  </thead>\n",
       "  <tbody>\n",
       "    <tr>\n",
       "      <th>count</th>\n",
       "      <td>1.094917e+06</td>\n",
       "      <td>1.094917e+06</td>\n",
       "      <td>1.094917e+06</td>\n",
       "    </tr>\n",
       "    <tr>\n",
       "      <th>mean</th>\n",
       "      <td>4.084929e+00</td>\n",
       "      <td>8.687142e-02</td>\n",
       "      <td>3.849734e+00</td>\n",
       "    </tr>\n",
       "    <tr>\n",
       "      <th>std</th>\n",
       "      <td>5.914369e+00</td>\n",
       "      <td>4.234638e-01</td>\n",
       "      <td>5.823496e+00</td>\n",
       "    </tr>\n",
       "    <tr>\n",
       "      <th>min</th>\n",
       "      <td>0.000000e+00</td>\n",
       "      <td>0.000000e+00</td>\n",
       "      <td>-1.000000e+00</td>\n",
       "    </tr>\n",
       "    <tr>\n",
       "      <th>25%</th>\n",
       "      <td>1.000000e+00</td>\n",
       "      <td>0.000000e+00</td>\n",
       "      <td>1.000000e+00</td>\n",
       "    </tr>\n",
       "    <tr>\n",
       "      <th>50%</th>\n",
       "      <td>2.000000e+00</td>\n",
       "      <td>0.000000e+00</td>\n",
       "      <td>2.000000e+00</td>\n",
       "    </tr>\n",
       "    <tr>\n",
       "      <th>75%</th>\n",
       "      <td>5.000000e+00</td>\n",
       "      <td>0.000000e+00</td>\n",
       "      <td>4.000000e+00</td>\n",
       "    </tr>\n",
       "    <tr>\n",
       "      <th>max</th>\n",
       "      <td>1.710000e+02</td>\n",
       "      <td>2.100000e+01</td>\n",
       "      <td>1.680000e+02</td>\n",
       "    </tr>\n",
       "  </tbody>\n",
       "</table>\n",
       "</div>"
      ],
      "text/plain": [
       "              cases        deaths     recovered\n",
       "count  1.094917e+06  1.094917e+06  1.094917e+06\n",
       "mean   4.084929e+00  8.687142e-02  3.849734e+00\n",
       "std    5.914369e+00  4.234638e-01  5.823496e+00\n",
       "min    0.000000e+00  0.000000e+00 -1.000000e+00\n",
       "25%    1.000000e+00  0.000000e+00  1.000000e+00\n",
       "50%    2.000000e+00  0.000000e+00  2.000000e+00\n",
       "75%    5.000000e+00  0.000000e+00  4.000000e+00\n",
       "max    1.710000e+02  2.100000e+01  1.680000e+02"
      ]
     },
     "execution_count": 128,
     "metadata": {},
     "output_type": "execute_result"
    }
   ],
   "source": [
    "df.describe()"
   ]
  },
  {
   "cell_type": "markdown",
   "metadata": {},
   "source": [
    "Nun lassen Sie sich die Varianz der der Spalten ausgeben."
   ]
  },
  {
   "cell_type": "code",
   "execution_count": 129,
   "metadata": {},
   "outputs": [
    {
     "data": {
      "text/plain": [
       "cases        34.979763\n",
       "deaths        0.179322\n",
       "recovered    33.913100\n",
       "dtype: float64"
      ]
     },
     "execution_count": 129,
     "metadata": {},
     "output_type": "execute_result"
    }
   ],
   "source": [
    "df.var()"
   ]
  },
  {
   "cell_type": "markdown",
   "metadata": {},
   "source": [
    "Folgender Code erzeugt eine neue Variable param, die die wesentlichen Kennzahlen plus Varianz und Schiefe enthält. Versuchen Sie den Code nachzuvollziehen und die einzelnen Befehle im CheatSheet wiederzufinden. Ergänzen Sie eine Zeile für den Median."
   ]
  },
  {
   "cell_type": "code",
   "execution_count": 131,
   "metadata": {},
   "outputs": [
    {
     "data": {
      "text/html": [
       "<div>\n",
       "<style scoped>\n",
       "    .dataframe tbody tr th:only-of-type {\n",
       "        vertical-align: middle;\n",
       "    }\n",
       "\n",
       "    .dataframe tbody tr th {\n",
       "        vertical-align: top;\n",
       "    }\n",
       "\n",
       "    .dataframe thead th {\n",
       "        text-align: right;\n",
       "    }\n",
       "</style>\n",
       "<table border=\"1\" class=\"dataframe\">\n",
       "  <thead>\n",
       "    <tr style=\"text-align: right;\">\n",
       "      <th></th>\n",
       "      <th>cases</th>\n",
       "      <th>deaths</th>\n",
       "      <th>recovered</th>\n",
       "    </tr>\n",
       "  </thead>\n",
       "  <tbody>\n",
       "    <tr>\n",
       "      <th>count</th>\n",
       "      <td>1.094917e+06</td>\n",
       "      <td>1.094917e+06</td>\n",
       "      <td>1.094917e+06</td>\n",
       "    </tr>\n",
       "    <tr>\n",
       "      <th>mean</th>\n",
       "      <td>4.084929e+00</td>\n",
       "      <td>8.687142e-02</td>\n",
       "      <td>3.849734e+00</td>\n",
       "    </tr>\n",
       "    <tr>\n",
       "      <th>std</th>\n",
       "      <td>5.914369e+00</td>\n",
       "      <td>4.234638e-01</td>\n",
       "      <td>5.823496e+00</td>\n",
       "    </tr>\n",
       "    <tr>\n",
       "      <th>min</th>\n",
       "      <td>0.000000e+00</td>\n",
       "      <td>0.000000e+00</td>\n",
       "      <td>-1.000000e+00</td>\n",
       "    </tr>\n",
       "    <tr>\n",
       "      <th>25%</th>\n",
       "      <td>1.000000e+00</td>\n",
       "      <td>0.000000e+00</td>\n",
       "      <td>1.000000e+00</td>\n",
       "    </tr>\n",
       "    <tr>\n",
       "      <th>50%</th>\n",
       "      <td>2.000000e+00</td>\n",
       "      <td>0.000000e+00</td>\n",
       "      <td>2.000000e+00</td>\n",
       "    </tr>\n",
       "    <tr>\n",
       "      <th>75%</th>\n",
       "      <td>5.000000e+00</td>\n",
       "      <td>0.000000e+00</td>\n",
       "      <td>4.000000e+00</td>\n",
       "    </tr>\n",
       "    <tr>\n",
       "      <th>max</th>\n",
       "      <td>1.710000e+02</td>\n",
       "      <td>2.100000e+01</td>\n",
       "      <td>1.680000e+02</td>\n",
       "    </tr>\n",
       "    <tr>\n",
       "      <th>var</th>\n",
       "      <td>3.497976e+01</td>\n",
       "      <td>1.793216e-01</td>\n",
       "      <td>3.391310e+01</td>\n",
       "    </tr>\n",
       "    <tr>\n",
       "      <th>skew</th>\n",
       "      <td>5.440069e+00</td>\n",
       "      <td>9.298944e+00</td>\n",
       "      <td>5.555649e+00</td>\n",
       "    </tr>\n",
       "    <tr>\n",
       "      <th>median</th>\n",
       "      <td>2.000000e+00</td>\n",
       "      <td>0.000000e+00</td>\n",
       "      <td>2.000000e+00</td>\n",
       "    </tr>\n",
       "  </tbody>\n",
       "</table>\n",
       "</div>"
      ],
      "text/plain": [
       "               cases        deaths     recovered\n",
       "count   1.094917e+06  1.094917e+06  1.094917e+06\n",
       "mean    4.084929e+00  8.687142e-02  3.849734e+00\n",
       "std     5.914369e+00  4.234638e-01  5.823496e+00\n",
       "min     0.000000e+00  0.000000e+00 -1.000000e+00\n",
       "25%     1.000000e+00  0.000000e+00  1.000000e+00\n",
       "50%     2.000000e+00  0.000000e+00  2.000000e+00\n",
       "75%     5.000000e+00  0.000000e+00  4.000000e+00\n",
       "max     1.710000e+02  2.100000e+01  1.680000e+02\n",
       "var     3.497976e+01  1.793216e-01  3.391310e+01\n",
       "skew    5.440069e+00  9.298944e+00  5.555649e+00\n",
       "median  2.000000e+00  0.000000e+00  2.000000e+00"
      ]
     },
     "execution_count": 131,
     "metadata": {},
     "output_type": "execute_result"
    }
   ],
   "source": [
    "param = df.describe()\n",
    "metricAttributes = ['date','cases','deaths','recovered']\n",
    "param.loc['var',:] = df[metricAttributes].var()\n",
    "param.loc['skew',:] = df[metricAttributes].skew()\n",
    "param.loc['median',:] = df[metricAttributes].median()\n",
    "param"
   ]
  },
  {
   "cell_type": "markdown",
   "metadata": {},
   "source": [
    "## 1.3 Histogramm\n",
    "\n",
    "Erstellen Sie ein (pandas)-Histogramm für die Spalte \"age_first_order\".\n",
    "\n",
    "Achtung: \"Missing Values\" wurden hier nicht betrachtet und können für weitere Untersuchungen relevant sein."
   ]
  },
  {
   "cell_type": "code",
   "execution_count": 136,
   "metadata": {},
   "outputs": [
    {
     "data": {
      "text/plain": [
       "<AxesSubplot:ylabel='Frequency'>"
      ]
     },
     "execution_count": 136,
     "metadata": {},
     "output_type": "execute_result"
    },
    {
     "data": {
      "image/png": "[encoded data removed]",
      "text/plain": [
       "<Figure size 432x288 with 1 Axes>"
      ]
     },
     "metadata": {
      "needs_background": "light"
     },
     "output_type": "display_data"
    }
   ],
   "source": [
    "df['cases'].plot.hist()"
   ]
  },
  {
   "cell_type": "markdown",
   "metadata": {},
   "source": [
    "**Was fällt Ihnen im Vergelich des oberen und unteren Histogramms auf?**\n",
    "\n",
    "Dies ist ein Histogramm für die Spalte \"age_first_order\" in Abhängigkeit von \"y = total_sum\"."
   ]
  },
  {
   "cell_type": "code",
   "execution_count": 139,
   "metadata": {},
   "outputs": [
    {
     "data": {
      "image/png": "[encoded data removed]",
      "text/plain": [
       "<Figure size 432x288 with 1 Axes>"
      ]
     },
     "metadata": {
      "needs_background": "light"
     },
     "output_type": "display_data"
    }
   ],
   "source": [
    "plt.hist(df[\"cases\"],\n",
    "         weights = df['deaths'])\n",
    "plt.show()"
   ]
  },
  {
   "cell_type": "markdown",
   "metadata": {},
   "source": [
    "## 1.4 Box-Plot\n",
    "Der untere Code erzeugt ein Boxplot für das Attribut \"pages_visited_avg\".\n",
    "\n",
    "**Welche statistische Größe repräsentiert diese?**\n",
    " - Median\n",
    "\n",
    "**Was sagt der Unterschied zwischen Median und Mittelwert über die Verteilung aus?**\n",
    "- Schiefe, im Beispiel starke Linksschiefe"
   ]
  },
  {
   "cell_type": "code",
   "execution_count": 142,
   "metadata": {},
   "outputs": [
    {
     "data": {
      "image/png": "[encoded data removed]",
      "text/plain": [
       "<Figure size 648x432 with 1 Axes>"
      ]
     },
     "metadata": {
      "needs_background": "light"
     },
     "output_type": "display_data"
    }
   ],
   "source": [
    "vel_arr = df['cases']\n",
    "fig = plt.figure(1, figsize = (9, 6))\n",
    "ax = fig.add_subplot()\n",
    "\n",
    "ax.boxplot(vel_arr, vert = False, showfliers=False)\n",
    "ax.set_xlabel('Bestätigte Fälle')\n",
    "quantiles = np.quantile(vel_arr, np.array([0.25, 0.50, 0.75]))\n",
    "\n",
    "ax.set_xticks(quantiles)\n",
    "\n",
    "plt.show()\n",
    "# Ausreißer wurden weg gelassen für eine bessere Darstellung"
   ]
  },
  {
   "cell_type": "markdown",
   "metadata": {},
   "source": [
    "## 1.5 Lineare Korrelationen\n",
    "Der Befehl corr() erstellt eine Tabelle mit allen (linearen) Korrelationen eines Dataframes. Die Tabelle ist redundant aufgebaut und daher ist nur eine der beiden \"Dreieckmatrizen\" wichtig zu betrachten. Wenden Sie den Befehl auf das Dataframe an.\n",
    "\n",
    "**Welche beiden Werte korrelieren am stärksten positiv und welche am stärksten negativ?**    \n",
    "Positiv: cases und recovered   \n",
    "Negativ: Keine"
   ]
  },
  {
   "cell_type": "code",
   "execution_count": 143,
   "metadata": {},
   "outputs": [
    {
     "data": {
      "text/html": [
       "<div>\n",
       "<style scoped>\n",
       "    .dataframe tbody tr th:only-of-type {\n",
       "        vertical-align: middle;\n",
       "    }\n",
       "\n",
       "    .dataframe tbody tr th {\n",
       "        vertical-align: top;\n",
       "    }\n",
       "\n",
       "    .dataframe thead th {\n",
       "        text-align: right;\n",
       "    }\n",
       "</style>\n",
       "<table border=\"1\" class=\"dataframe\">\n",
       "  <thead>\n",
       "    <tr style=\"text-align: right;\">\n",
       "      <th></th>\n",
       "      <th>cases</th>\n",
       "      <th>deaths</th>\n",
       "      <th>recovered</th>\n",
       "    </tr>\n",
       "  </thead>\n",
       "  <tbody>\n",
       "    <tr>\n",
       "      <th>cases</th>\n",
       "      <td>1.000000</td>\n",
       "      <td>0.142567</td>\n",
       "      <td>0.977723</td>\n",
       "    </tr>\n",
       "    <tr>\n",
       "      <th>deaths</th>\n",
       "      <td>0.142567</td>\n",
       "      <td>1.000000</td>\n",
       "      <td>0.077025</td>\n",
       "    </tr>\n",
       "    <tr>\n",
       "      <th>recovered</th>\n",
       "      <td>0.977723</td>\n",
       "      <td>0.077025</td>\n",
       "      <td>1.000000</td>\n",
       "    </tr>\n",
       "  </tbody>\n",
       "</table>\n",
       "</div>"
      ],
      "text/plain": [
       "              cases    deaths  recovered\n",
       "cases      1.000000  0.142567   0.977723\n",
       "deaths     0.142567  1.000000   0.077025\n",
       "recovered  0.977723  0.077025   1.000000"
      ]
     },
     "execution_count": 143,
     "metadata": {},
     "output_type": "execute_result"
    }
   ],
   "source": [
    "df_corr = df.corr()\n",
    "df_corr.head()"
   ]
  },
  {
   "cell_type": "markdown",
   "metadata": {},
   "source": [
    "## 1.6 Korrelationen-Heatmap\n",
    "Da Tabellen für das menschliche Auge nur schwer zu interpretieren sind, ist hier eine Heatmap einer Korrelationsmatrix dargestellt. Dem Parameter data muss die oben erstellte Korrelationstabelle übergeben werden."
   ]
  },
  {
   "cell_type": "code",
   "execution_count": 144,
   "metadata": {},
   "outputs": [
    {
     "data": {
      "text/plain": [
       "<AxesSubplot:>"
      ]
     },
     "execution_count": 144,
     "metadata": {},
     "output_type": "execute_result"
    },
    {
     "data": {
      "image/png": "[encoded data removed]",
      "text/plain": [
       "<Figure size 432x288 with 2 Axes>"
      ]
     },
     "metadata": {
      "needs_background": "light"
     },
     "output_type": "display_data"
    }
   ],
   "source": [
    "sn.heatmap(data = df_corr, annot = True)"
   ]
  },
  {
   "cell_type": "markdown",
   "metadata": {},
   "source": [
    "## 1.7 Streudiagramme\n",
    "Erzeugen Sie ein (pandas)-Streudiagramm (engl. scatter plot) zwischen age_first_order und total_sum."
   ]
  },
  {
   "cell_type": "code",
   "execution_count": 145,
   "metadata": {},
   "outputs": [
    {
     "data": {
      "text/plain": [
       "<AxesSubplot:xlabel='cases', ylabel='deaths'>"
      ]
     },
     "execution_count": 145,
     "metadata": {},
     "output_type": "execute_result"
    },
    {
     "data": {
      "image/png": "[encoded data removed]",
      "text/plain": [
       "<Figure size 432x288 with 1 Axes>"
      ]
     },
     "metadata": {
      "needs_background": "light"
     },
     "output_type": "display_data"
    }
   ],
   "source": [
    "df.plot.scatter(x=\"cases\", y=\"deaths\")"
   ]
  },
  {
   "cell_type": "markdown",
   "metadata": {},
   "source": [
    "Vergleichen Sie das Scatterplot mit der unteren Variante. Ändern Sie den Paramter s und beobachten Sie die Veränderung."
   ]
  },
  {
   "cell_type": "code",
   "execution_count": 146,
   "metadata": {},
   "outputs": [
    {
     "data": {
      "text/plain": [
       "Text(0, 0.5, 'Tode')"
      ]
     },
     "execution_count": 146,
     "metadata": {},
     "output_type": "execute_result"
    },
    {
     "data": {
      "image/png": "[encoded data removed]",
      "text/plain": [
       "<Figure size 432x288 with 1 Axes>"
      ]
     },
     "metadata": {
      "needs_background": "light"
     },
     "output_type": "display_data"
    }
   ],
   "source": [
    "plt.scatter(df['cases'], df['deaths'], s = 1)\n",
    "plt.xlabel('Fälle')\n",
    "plt.ylabel('Tode')"
   ]
  },
  {
   "cell_type": "markdown",
   "metadata": {},
   "source": [
    "Der untere Befehl erzeugt Streudiagramme von Kombinationen der Attributen und ordnet diese in Form einer Matrix an."
   ]
  },
  {
   "cell_type": "code",
   "execution_count": 147,
   "metadata": {},
   "outputs": [
    {
     "data": {
      "text/plain": [
       "<seaborn.axisgrid.PairGrid at 0x7fc8500a9700>"
      ]
     },
     "execution_count": 147,
     "metadata": {},
     "output_type": "execute_result"
    },
    {
     "data": {
      "image/png": "[encoded data removed]",
      "text/plain": [
       "<Figure size 540x540 with 12 Axes>"
      ]
     },
     "metadata": {
      "needs_background": "light"
     },
     "output_type": "display_data"
    }
   ],
   "source": [
    "sn.pairplot(data = df[[\"cases\", \"deaths\", \"recovered\"]])"
   ]
  },
  {
   "cell_type": "markdown",
   "metadata": {},
   "source": [
    "## 1.8 Histogramme für kategorische Variablen\n",
    "\n",
    "Bevor Histogramme mit dem obigen Befehlen plot.hist() erzeugt werden können, werden die Zeichenketten in numerische Werte konvertiert."
   ]
  },
  {
   "cell_type": "code",
   "execution_count": 148,
   "metadata": {},
   "outputs": [],
   "source": [
    "dfNumeric=df.copy()\n",
    "dfNumeric['gender'].replace(to_replace=['M','F'] , value=[0, 1], inplace=True)\n",
    "dfNumeric['gender'] = pd.to_numeric(dfNumeric['gender'])"
   ]
  },
  {
   "cell_type": "code",
   "execution_count": 149,
   "metadata": {},
   "outputs": [
    {
     "data": {
      "text/plain": [
       "<AxesSubplot:ylabel='Frequency'>"
      ]
     },
     "execution_count": 149,
     "metadata": {},
     "output_type": "execute_result"
    },
    {
     "data": {
      "image/png": "[encoded data removed]",
      "text/plain": [
       "<Figure size 432x288 with 1 Axes>"
      ]
     },
     "metadata": {
      "needs_background": "light"
     },
     "output_type": "display_data"
    }
   ],
   "source": [
    "dfNumeric['gender'].plot.hist()"
   ]
  },
  {
   "cell_type": "markdown",
   "metadata": {},
   "source": [
    "Schauen Sie sich nun das folgende Histogramm an. Recherchieren Sie den Unterschied der beiden Befehle."
   ]
  },
  {
   "cell_type": "code",
   "execution_count": 150,
   "metadata": {},
   "outputs": [
    {
     "data": {
      "text/plain": [
       "<AxesSubplot:>"
      ]
     },
     "execution_count": 150,
     "metadata": {},
     "output_type": "execute_result"
    },
    {
     "data": {
      "image/png": "[encoded data removed]",
      "text/plain": [
       "<Figure size 432x288 with 1 Axes>"
      ]
     },
     "metadata": {
      "needs_background": "light"
     },
     "output_type": "display_data"
    }
   ],
   "source": [
    "df['gender'].hist()"
   ]
  },
  {
   "cell_type": "markdown",
   "metadata": {},
   "source": [
    "Nun erzeugen Sie ein Histogramm mit beiden Befehlen für user_agent_brand. Finden Sie dazu zunächst mit einem geeingneten Befehl heraus, welche unterschiedlichen Werte in der Spalte vorkommen."
   ]
  },
  {
   "cell_type": "code",
   "execution_count": 151,
   "metadata": {},
   "outputs": [
    {
     "data": {
      "text/plain": [
       "<AxesSubplot:ylabel='Frequency'>"
      ]
     },
     "execution_count": 151,
     "metadata": {},
     "output_type": "execute_result"
    },
    {
     "data": {
      "image/png": "[encoded data removed]",
      "text/plain": [
       "<Figure size 432x288 with 1 Axes>"
      ]
     },
     "metadata": {
      "needs_background": "light"
     },
     "output_type": "display_data"
    }
   ],
   "source": [
    "dfNumeric2 = df.copy()\n",
    "dfNumeric2['age_group'].replace(to_replace=['00-04', '05-14', '15-34', '35-59', '60-79', '80-99'] , value=[0, 1, 2, 3, 4, 5], inplace=True)\n",
    "dfNumeric2['age_group'] = pd.to_numeric(dfNumeric2['age_group'])\n",
    "dfNumeric2['age_group'].plot.hist()"
   ]
  },
  {
   "cell_type": "code",
   "execution_count": 153,
   "metadata": {},
   "outputs": [
    {
     "data": {
      "text/plain": [
       "<AxesSubplot:>"
      ]
     },
     "execution_count": 153,
     "metadata": {},
     "output_type": "execute_result"
    },
    {
     "data": {
      "image/png": "[encoded data removed]",
      "text/plain": [
       "<Figure size 432x288 with 1 Axes>"
      ]
     },
     "metadata": {
      "needs_background": "light"
     },
     "output_type": "display_data"
    }
   ],
   "source": [
    "df['age_group'].hist()"
   ]
  },
  {
   "cell_type": "code",
   "execution_count": null,
   "metadata": {},
   "outputs": [],
   "source": []
  }
 ],
 "metadata": {
  "kernelspec": {
   "display_name": "Python 3",
   "language": "python",
   "name": "python3"
  },
  "language_info": {
   "codemirror_mode": {
    "name": "ipython",
    "version": 3
   },
   "file_extension": ".py",
   "mimetype": "text/x-python",
   "name": "python",
   "nbconvert_exporter": "python",
   "pygments_lexer": "ipython3",
   "version": "3.8.10"
  }
 },
 "nbformat": 4,
 "nbformat_minor": 4
}
