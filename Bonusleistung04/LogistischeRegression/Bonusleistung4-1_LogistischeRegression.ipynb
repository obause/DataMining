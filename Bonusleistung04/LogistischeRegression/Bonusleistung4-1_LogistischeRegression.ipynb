{
 "cells": [
  {
   "cell_type": "markdown",
   "id": "dfb9839e",
   "metadata": {},
   "source": [
    "# Bonusleistung Paket 4 Teil 1 \n",
    "### Aus der Schulung Logistische Regressionsanalyse"
   ]
  },
  {
   "cell_type": "code",
   "execution_count": 1,
   "id": "763b2d5f",
   "metadata": {},
   "outputs": [],
   "source": [
    "import pandas as pd\n",
    "import numpy as np\n",
    "import matplotlib.pyplot as plt\n",
    "import seaborn as sns\n",
    "sns.set()\n",
    "%matplotlib inline"
   ]
  },
  {
   "cell_type": "markdown",
   "id": "306aa58b-4d7a-4e0c-a764-c0523a9e7d85",
   "metadata": {},
   "source": [
    "Für diese Schulung habe ich ein Dataset ausgewählt, das Daten über Werbeanzeigen auf Sozialen Netzwerken beinhaltet. Dieses entsprach den Anforderungen am besten."
   ]
  },
  {
   "cell_type": "markdown",
   "id": "c0859569",
   "metadata": {},
   "source": [
    "### Dataset einlesen und Überblick über die Daten verschaffen\n"
   ]
  },
  {
   "cell_type": "code",
   "execution_count": 3,
   "id": "f1e253ec",
   "metadata": {},
   "outputs": [
    {
     "data": {
      "text/html": [
       "<div>\n",
       "<style scoped>\n",
       "    .dataframe tbody tr th:only-of-type {\n",
       "        vertical-align: middle;\n",
       "    }\n",
       "\n",
       "    .dataframe tbody tr th {\n",
       "        vertical-align: top;\n",
       "    }\n",
       "\n",
       "    .dataframe thead th {\n",
       "        text-align: right;\n",
       "    }\n",
       "</style>\n",
       "<table border=\"1\" class=\"dataframe\">\n",
       "  <thead>\n",
       "    <tr style=\"text-align: right;\">\n",
       "      <th></th>\n",
       "      <th>User ID</th>\n",
       "      <th>Gender</th>\n",
       "      <th>Age</th>\n",
       "      <th>EstimatedSalary</th>\n",
       "      <th>Purchased</th>\n",
       "    </tr>\n",
       "  </thead>\n",
       "  <tbody>\n",
       "    <tr>\n",
       "      <th>0</th>\n",
       "      <td>15624510</td>\n",
       "      <td>Male</td>\n",
       "      <td>19</td>\n",
       "      <td>19000</td>\n",
       "      <td>0</td>\n",
       "    </tr>\n",
       "    <tr>\n",
       "      <th>1</th>\n",
       "      <td>15810944</td>\n",
       "      <td>Male</td>\n",
       "      <td>35</td>\n",
       "      <td>20000</td>\n",
       "      <td>0</td>\n",
       "    </tr>\n",
       "    <tr>\n",
       "      <th>2</th>\n",
       "      <td>15668575</td>\n",
       "      <td>Female</td>\n",
       "      <td>26</td>\n",
       "      <td>43000</td>\n",
       "      <td>0</td>\n",
       "    </tr>\n",
       "    <tr>\n",
       "      <th>3</th>\n",
       "      <td>15603246</td>\n",
       "      <td>Female</td>\n",
       "      <td>27</td>\n",
       "      <td>57000</td>\n",
       "      <td>0</td>\n",
       "    </tr>\n",
       "    <tr>\n",
       "      <th>4</th>\n",
       "      <td>15804002</td>\n",
       "      <td>Male</td>\n",
       "      <td>19</td>\n",
       "      <td>76000</td>\n",
       "      <td>0</td>\n",
       "    </tr>\n",
       "  </tbody>\n",
       "</table>\n",
       "</div>"
      ],
      "text/plain": [
       "    User ID  Gender  Age  EstimatedSalary  Purchased\n",
       "0  15624510    Male   19            19000          0\n",
       "1  15810944    Male   35            20000          0\n",
       "2  15668575  Female   26            43000          0\n",
       "3  15603246  Female   27            57000          0\n",
       "4  15804002    Male   19            76000          0"
      ]
     },
     "execution_count": 3,
     "metadata": {},
     "output_type": "execute_result"
    }
   ],
   "source": [
    "df = pd.read_csv(\"Social_Network_Ads.csv\")\n",
    "df.head()"
   ]
  },
  {
   "cell_type": "code",
   "execution_count": 4,
   "id": "20fe23eb-ecb3-43dc-a668-c841277cb66f",
   "metadata": {},
   "outputs": [
    {
     "name": "stdout",
     "output_type": "stream",
     "text": [
      "<class 'pandas.core.frame.DataFrame'>\n",
      "RangeIndex: 400 entries, 0 to 399\n",
      "Data columns (total 5 columns):\n",
      " #   Column           Non-Null Count  Dtype \n",
      "---  ------           --------------  ----- \n",
      " 0   User ID          400 non-null    int64 \n",
      " 1   Gender           400 non-null    object\n",
      " 2   Age              400 non-null    int64 \n",
      " 3   EstimatedSalary  400 non-null    int64 \n",
      " 4   Purchased        400 non-null    int64 \n",
      "dtypes: int64(4), object(1)\n",
      "memory usage: 15.8+ KB\n"
     ]
    }
   ],
   "source": [
    "df.info()"
   ]
  },
  {
   "cell_type": "code",
   "execution_count": 5,
   "id": "63a164d4-a8bd-4432-8d4e-bd807a682c10",
   "metadata": {},
   "outputs": [
    {
     "data": {
      "text/html": [
       "<div>\n",
       "<style scoped>\n",
       "    .dataframe tbody tr th:only-of-type {\n",
       "        vertical-align: middle;\n",
       "    }\n",
       "\n",
       "    .dataframe tbody tr th {\n",
       "        vertical-align: top;\n",
       "    }\n",
       "\n",
       "    .dataframe thead th {\n",
       "        text-align: right;\n",
       "    }\n",
       "</style>\n",
       "<table border=\"1\" class=\"dataframe\">\n",
       "  <thead>\n",
       "    <tr style=\"text-align: right;\">\n",
       "      <th></th>\n",
       "      <th>User ID</th>\n",
       "      <th>Age</th>\n",
       "      <th>EstimatedSalary</th>\n",
       "      <th>Purchased</th>\n",
       "    </tr>\n",
       "  </thead>\n",
       "  <tbody>\n",
       "    <tr>\n",
       "      <th>count</th>\n",
       "      <td>4.000000e+02</td>\n",
       "      <td>400.000000</td>\n",
       "      <td>400.000000</td>\n",
       "      <td>400.000000</td>\n",
       "    </tr>\n",
       "    <tr>\n",
       "      <th>mean</th>\n",
       "      <td>1.569154e+07</td>\n",
       "      <td>37.655000</td>\n",
       "      <td>69742.500000</td>\n",
       "      <td>0.357500</td>\n",
       "    </tr>\n",
       "    <tr>\n",
       "      <th>std</th>\n",
       "      <td>7.165832e+04</td>\n",
       "      <td>10.482877</td>\n",
       "      <td>34096.960282</td>\n",
       "      <td>0.479864</td>\n",
       "    </tr>\n",
       "    <tr>\n",
       "      <th>min</th>\n",
       "      <td>1.556669e+07</td>\n",
       "      <td>18.000000</td>\n",
       "      <td>15000.000000</td>\n",
       "      <td>0.000000</td>\n",
       "    </tr>\n",
       "    <tr>\n",
       "      <th>25%</th>\n",
       "      <td>1.562676e+07</td>\n",
       "      <td>29.750000</td>\n",
       "      <td>43000.000000</td>\n",
       "      <td>0.000000</td>\n",
       "    </tr>\n",
       "    <tr>\n",
       "      <th>50%</th>\n",
       "      <td>1.569434e+07</td>\n",
       "      <td>37.000000</td>\n",
       "      <td>70000.000000</td>\n",
       "      <td>0.000000</td>\n",
       "    </tr>\n",
       "    <tr>\n",
       "      <th>75%</th>\n",
       "      <td>1.575036e+07</td>\n",
       "      <td>46.000000</td>\n",
       "      <td>88000.000000</td>\n",
       "      <td>1.000000</td>\n",
       "    </tr>\n",
       "    <tr>\n",
       "      <th>max</th>\n",
       "      <td>1.581524e+07</td>\n",
       "      <td>60.000000</td>\n",
       "      <td>150000.000000</td>\n",
       "      <td>1.000000</td>\n",
       "    </tr>\n",
       "  </tbody>\n",
       "</table>\n",
       "</div>"
      ],
      "text/plain": [
       "            User ID         Age  EstimatedSalary   Purchased\n",
       "count  4.000000e+02  400.000000       400.000000  400.000000\n",
       "mean   1.569154e+07   37.655000     69742.500000    0.357500\n",
       "std    7.165832e+04   10.482877     34096.960282    0.479864\n",
       "min    1.556669e+07   18.000000     15000.000000    0.000000\n",
       "25%    1.562676e+07   29.750000     43000.000000    0.000000\n",
       "50%    1.569434e+07   37.000000     70000.000000    0.000000\n",
       "75%    1.575036e+07   46.000000     88000.000000    1.000000\n",
       "max    1.581524e+07   60.000000    150000.000000    1.000000"
      ]
     },
     "execution_count": 5,
     "metadata": {},
     "output_type": "execute_result"
    }
   ],
   "source": [
    "df.describe()"
   ]
  },
  {
   "cell_type": "code",
   "execution_count": 6,
   "id": "f0c2ea04-af0b-4b18-ae55-9e2032a91a6c",
   "metadata": {},
   "outputs": [
    {
     "data": {
      "text/plain": [
       "User ID            False\n",
       "Gender             False\n",
       "Age                False\n",
       "EstimatedSalary    False\n",
       "Purchased          False\n",
       "dtype: bool"
      ]
     },
     "execution_count": 6,
     "metadata": {},
     "output_type": "execute_result"
    }
   ],
   "source": [
    "df.isnull().all()"
   ]
  },
  {
   "cell_type": "markdown",
   "id": "7664ffdb-ddc7-4589-824f-f50cc9477821",
   "metadata": {},
   "source": [
    "Auf den ersten Blick sehen die Daten gut aus, um mit ihnen ein Modell zu trainieren. Es gibt keine Null-Werte und auch keine Ausreißer (Min/Max bei Alter: 18/60, Min/Max bei Salary: 15000/150000 sieht plausibel aus).    "
   ]
  },
  {
   "cell_type": "markdown",
   "id": "e00f0f4d",
   "metadata": {},
   "source": [
    "## Datenbereinigung und Transformation"
   ]
  },
  {
   "cell_type": "code",
   "execution_count": 8,
   "id": "25f77e26",
   "metadata": {},
   "outputs": [],
   "source": [
    "dfPrepared = df.copy()"
   ]
  },
  {
   "cell_type": "markdown",
   "id": "41b184d3-f550-4a5f-9592-636b84111db1",
   "metadata": {},
   "source": [
    "##### Die Spalte User ID wird nicht benötigt und kann entfernt werden."
   ]
  },
  {
   "cell_type": "code",
   "execution_count": 10,
   "id": "283dcd89-d7c6-4198-aec0-f3ea740fffbc",
   "metadata": {},
   "outputs": [],
   "source": [
    "dfPrepared.drop('User ID', axis=1, inplace=True)"
   ]
  },
  {
   "cell_type": "markdown",
   "id": "a6494cb0-6c53-4333-b6c1-2e71053496e1",
   "metadata": {},
   "source": [
    "##### One Hot encoding für kategorische Variablen (Gender)"
   ]
  },
  {
   "cell_type": "code",
   "execution_count": 11,
   "id": "1b4d399f-08e1-4d71-ac6f-92236a3305c4",
   "metadata": {},
   "outputs": [
    {
     "data": {
      "text/html": [
       "<div>\n",
       "<style scoped>\n",
       "    .dataframe tbody tr th:only-of-type {\n",
       "        vertical-align: middle;\n",
       "    }\n",
       "\n",
       "    .dataframe tbody tr th {\n",
       "        vertical-align: top;\n",
       "    }\n",
       "\n",
       "    .dataframe thead th {\n",
       "        text-align: right;\n",
       "    }\n",
       "</style>\n",
       "<table border=\"1\" class=\"dataframe\">\n",
       "  <thead>\n",
       "    <tr style=\"text-align: right;\">\n",
       "      <th></th>\n",
       "      <th>Age</th>\n",
       "      <th>EstimatedSalary</th>\n",
       "      <th>Purchased</th>\n",
       "      <th>Female</th>\n",
       "      <th>Male</th>\n",
       "    </tr>\n",
       "  </thead>\n",
       "  <tbody>\n",
       "    <tr>\n",
       "      <th>0</th>\n",
       "      <td>19</td>\n",
       "      <td>19000</td>\n",
       "      <td>0</td>\n",
       "      <td>0</td>\n",
       "      <td>1</td>\n",
       "    </tr>\n",
       "    <tr>\n",
       "      <th>1</th>\n",
       "      <td>35</td>\n",
       "      <td>20000</td>\n",
       "      <td>0</td>\n",
       "      <td>0</td>\n",
       "      <td>1</td>\n",
       "    </tr>\n",
       "    <tr>\n",
       "      <th>2</th>\n",
       "      <td>26</td>\n",
       "      <td>43000</td>\n",
       "      <td>0</td>\n",
       "      <td>1</td>\n",
       "      <td>0</td>\n",
       "    </tr>\n",
       "    <tr>\n",
       "      <th>3</th>\n",
       "      <td>27</td>\n",
       "      <td>57000</td>\n",
       "      <td>0</td>\n",
       "      <td>1</td>\n",
       "      <td>0</td>\n",
       "    </tr>\n",
       "    <tr>\n",
       "      <th>4</th>\n",
       "      <td>19</td>\n",
       "      <td>76000</td>\n",
       "      <td>0</td>\n",
       "      <td>0</td>\n",
       "      <td>1</td>\n",
       "    </tr>\n",
       "    <tr>\n",
       "      <th>...</th>\n",
       "      <td>...</td>\n",
       "      <td>...</td>\n",
       "      <td>...</td>\n",
       "      <td>...</td>\n",
       "      <td>...</td>\n",
       "    </tr>\n",
       "    <tr>\n",
       "      <th>395</th>\n",
       "      <td>46</td>\n",
       "      <td>41000</td>\n",
       "      <td>1</td>\n",
       "      <td>1</td>\n",
       "      <td>0</td>\n",
       "    </tr>\n",
       "    <tr>\n",
       "      <th>396</th>\n",
       "      <td>51</td>\n",
       "      <td>23000</td>\n",
       "      <td>1</td>\n",
       "      <td>0</td>\n",
       "      <td>1</td>\n",
       "    </tr>\n",
       "    <tr>\n",
       "      <th>397</th>\n",
       "      <td>50</td>\n",
       "      <td>20000</td>\n",
       "      <td>1</td>\n",
       "      <td>1</td>\n",
       "      <td>0</td>\n",
       "    </tr>\n",
       "    <tr>\n",
       "      <th>398</th>\n",
       "      <td>36</td>\n",
       "      <td>33000</td>\n",
       "      <td>0</td>\n",
       "      <td>0</td>\n",
       "      <td>1</td>\n",
       "    </tr>\n",
       "    <tr>\n",
       "      <th>399</th>\n",
       "      <td>49</td>\n",
       "      <td>36000</td>\n",
       "      <td>1</td>\n",
       "      <td>1</td>\n",
       "      <td>0</td>\n",
       "    </tr>\n",
       "  </tbody>\n",
       "</table>\n",
       "<p>400 rows × 5 columns</p>\n",
       "</div>"
      ],
      "text/plain": [
       "     Age  EstimatedSalary  Purchased  Female  Male\n",
       "0     19            19000          0       0     1\n",
       "1     35            20000          0       0     1\n",
       "2     26            43000          0       1     0\n",
       "3     27            57000          0       1     0\n",
       "4     19            76000          0       0     1\n",
       "..   ...              ...        ...     ...   ...\n",
       "395   46            41000          1       1     0\n",
       "396   51            23000          1       0     1\n",
       "397   50            20000          1       1     0\n",
       "398   36            33000          0       0     1\n",
       "399   49            36000          1       1     0\n",
       "\n",
       "[400 rows x 5 columns]"
      ]
     },
     "execution_count": 11,
     "metadata": {},
     "output_type": "execute_result"
    }
   ],
   "source": [
    "df_OneHot = dfPrepared.copy()\n",
    "df_OneHot = pd.get_dummies(dfPrepared, prefix = '', prefix_sep = '')\n",
    "df_OneHot"
   ]
  },
  {
   "cell_type": "code",
   "execution_count": 12,
   "id": "6cf517b3",
   "metadata": {},
   "outputs": [],
   "source": [
    "dfPrepared = df_OneHot.copy()"
   ]
  },
  {
   "cell_type": "markdown",
   "id": "dd23f836",
   "metadata": {},
   "source": [
    "## Datensatz in Test- & Trainingdatensatz aufteilen\n",
    "##### Zielvariable bestimmen"
   ]
  },
  {
   "cell_type": "code",
   "execution_count": 14,
   "id": "b9ea805e",
   "metadata": {},
   "outputs": [],
   "source": [
    "# Import the library\n",
    "from sklearn.model_selection import train_test_split\n",
    "\n",
    "x = dfPrepared.drop('Purchased', axis = 1)\n",
    "y = dfPrepared['Purchased']"
   ]
  },
  {
   "cell_type": "markdown",
   "id": "4e574516-c828-4929-b1ed-888823d2de6d",
   "metadata": {},
   "source": [
    "Da die Daten am Ende (mal wieder) zu einer sehr schlechten Vorhersage geführt haben versuche ich hier einmal einen Scaler anzuwenden, um ein besseres Ergebnis zu bekommen"
   ]
  },
  {
   "cell_type": "code",
   "execution_count": 40,
   "id": "129245dc-aa0a-4c40-bd03-ad96618663c1",
   "metadata": {},
   "outputs": [
    {
     "data": {
      "text/html": [
       "<div>\n",
       "<style scoped>\n",
       "    .dataframe tbody tr th:only-of-type {\n",
       "        vertical-align: middle;\n",
       "    }\n",
       "\n",
       "    .dataframe tbody tr th {\n",
       "        vertical-align: top;\n",
       "    }\n",
       "\n",
       "    .dataframe thead th {\n",
       "        text-align: right;\n",
       "    }\n",
       "</style>\n",
       "<table border=\"1\" class=\"dataframe\">\n",
       "  <thead>\n",
       "    <tr style=\"text-align: right;\">\n",
       "      <th></th>\n",
       "      <th>0</th>\n",
       "      <th>1</th>\n",
       "      <th>2</th>\n",
       "      <th>3</th>\n",
       "    </tr>\n",
       "  </thead>\n",
       "  <tbody>\n",
       "    <tr>\n",
       "      <th>0</th>\n",
       "      <td>-1.781797</td>\n",
       "      <td>-1.490046</td>\n",
       "      <td>-1.020204</td>\n",
       "      <td>1.020204</td>\n",
       "    </tr>\n",
       "    <tr>\n",
       "      <th>1</th>\n",
       "      <td>-0.253587</td>\n",
       "      <td>-1.460681</td>\n",
       "      <td>-1.020204</td>\n",
       "      <td>1.020204</td>\n",
       "    </tr>\n",
       "    <tr>\n",
       "      <th>2</th>\n",
       "      <td>-1.113206</td>\n",
       "      <td>-0.785290</td>\n",
       "      <td>0.980196</td>\n",
       "      <td>-0.980196</td>\n",
       "    </tr>\n",
       "    <tr>\n",
       "      <th>3</th>\n",
       "      <td>-1.017692</td>\n",
       "      <td>-0.374182</td>\n",
       "      <td>0.980196</td>\n",
       "      <td>-0.980196</td>\n",
       "    </tr>\n",
       "    <tr>\n",
       "      <th>4</th>\n",
       "      <td>-1.781797</td>\n",
       "      <td>0.183751</td>\n",
       "      <td>-1.020204</td>\n",
       "      <td>1.020204</td>\n",
       "    </tr>\n",
       "  </tbody>\n",
       "</table>\n",
       "</div>"
      ],
      "text/plain": [
       "          0         1         2         3\n",
       "0 -1.781797 -1.490046 -1.020204  1.020204\n",
       "1 -0.253587 -1.460681 -1.020204  1.020204\n",
       "2 -1.113206 -0.785290  0.980196 -0.980196\n",
       "3 -1.017692 -0.374182  0.980196 -0.980196\n",
       "4 -1.781797  0.183751 -1.020204  1.020204"
      ]
     },
     "execution_count": 40,
     "metadata": {},
     "output_type": "execute_result"
    }
   ],
   "source": [
    "from sklearn.preprocessing import StandardScaler\n",
    "\n",
    "scaler = StandardScaler()\n",
    "d_scaled = scaler.fit_transform(x)\n",
    "data_scaled1 = pd.DataFrame(d_scaled)\n",
    "data_scaled1.head()"
   ]
  },
  {
   "cell_type": "markdown",
   "id": "70a8637b-c133-47f3-9771-4b3b838f23cd",
   "metadata": {},
   "source": [
    "##### Datensätze aufteilen (70/30)"
   ]
  },
  {
   "cell_type": "code",
   "execution_count": 42,
   "id": "d41cf43c",
   "metadata": {},
   "outputs": [],
   "source": [
    "x_train, x_test, y_train, y_test = train_test_split(d_scaled, y, random_state = 101, stratify = y, test_size = 0.3)"
   ]
  },
  {
   "cell_type": "markdown",
   "id": "8ffe72aa",
   "metadata": {},
   "source": [
    "# Anpassen der Logistischen Regression an das Trainingset"
   ]
  },
  {
   "cell_type": "markdown",
   "id": "558a02e3",
   "metadata": {},
   "source": [
    "### Erstellung & Trainieren des Modells"
   ]
  },
  {
   "cell_type": "code",
   "execution_count": 45,
   "id": "948c4f91",
   "metadata": {},
   "outputs": [],
   "source": [
    "from sklearn.linear_model import LogisticRegression"
   ]
  },
  {
   "cell_type": "code",
   "execution_count": 46,
   "id": "73957c8e",
   "metadata": {},
   "outputs": [],
   "source": [
    "lr_model = LogisticRegression(random_state=25)"
   ]
  },
  {
   "cell_type": "code",
   "execution_count": 47,
   "id": "f4b57e4d",
   "metadata": {},
   "outputs": [
    {
     "data": {
      "text/plain": [
       "LogisticRegression(random_state=25)"
      ]
     },
     "execution_count": 47,
     "metadata": {},
     "output_type": "execute_result"
    }
   ],
   "source": [
    "lr_model.fit(x_train, y_train)"
   ]
  },
  {
   "cell_type": "markdown",
   "id": "821c50a5-ee99-4486-9b04-960354ea1cab",
   "metadata": {},
   "source": [
    "**Anmerkung: Theoretisch wäre hier auch eine Hyperparameteroptimierung mit Gridsearch möglich.**"
   ]
  },
  {
   "cell_type": "markdown",
   "id": "e47244a6",
   "metadata": {},
   "source": [
    "### Sigmoide Kurve\n",
    "führen Sie das Code durch um die Sigmoide Kurve zeichnen zu lassen"
   ]
  },
  {
   "cell_type": "code",
   "execution_count": 96,
   "id": "f68777a9",
   "metadata": {},
   "outputs": [
    {
     "data": {
      "text/plain": [
       "([<matplotlib.axis.YTick at 0x7f82422e8040>,\n",
       "  <matplotlib.axis.YTick at 0x7f824224e0a0>],\n",
       " [Text(0, 0, 'Nicht gekauft'), Text(0, 1, 'Gekauft')])"
      ]
     },
     "execution_count": 96,
     "metadata": {},
     "output_type": "execute_result"
    },
    {
     "data": {
      "image/png": "[encoded data removed]",
      "text/plain": [
       "<Figure size 1080x1080 with 1 Axes>"
      ]
     },
     "metadata": {
      "needs_background": "light"
     },
     "output_type": "display_data"
    }
   ],
   "source": [
    "#use seaborn.lmplot to graph the logistic regression function\n",
    "data = df\n",
    "data1 = df.copy()\n",
    "sns.lmplot(x=\"EstimatedSalary\", y=\"Purchased\", data=dfPrepared,\n",
    "           logistic=True, y_jitter=.03, height=15, aspect=1)\n",
    "plt.yticks([0, 1], ['Nicht gekauft', 'Gekauft'])"
   ]
  },
  {
   "cell_type": "markdown",
   "id": "b9718377",
   "metadata": {},
   "source": [
    "## Vorhersage des Testergebnisses & Modellevaluation"
   ]
  },
  {
   "cell_type": "code",
   "execution_count": 48,
   "id": "ce257fa0",
   "metadata": {},
   "outputs": [],
   "source": [
    "pred = lr_model.predict(x_test)"
   ]
  },
  {
   "cell_type": "code",
   "execution_count": 49,
   "id": "80de2012",
   "metadata": {},
   "outputs": [
    {
     "data": {
      "text/plain": [
       "array([1, 0, 0, 0, 0, 0, 0, 0, 1])"
      ]
     },
     "execution_count": 49,
     "metadata": {},
     "output_type": "execute_result"
    }
   ],
   "source": [
    "pred[0:9]"
   ]
  },
  {
   "cell_type": "markdown",
   "id": "ad4713df",
   "metadata": {},
   "source": [
    "Vorassage der Auftrittswahrscheinlichkeiten von 0 & 1"
   ]
  },
  {
   "cell_type": "code",
   "execution_count": 50,
   "id": "ebc48fe0",
   "metadata": {},
   "outputs": [],
   "source": [
    "pred_prb = lr_model.predict_proba(x_test)"
   ]
  },
  {
   "cell_type": "code",
   "execution_count": 51,
   "id": "cc998f37",
   "metadata": {},
   "outputs": [
    {
     "data": {
      "text/plain": [
       "array([[0.02088276, 0.97911724],\n",
       "       [0.64958167, 0.35041833],\n",
       "       [0.93445451, 0.06554549],\n",
       "       [0.99569691, 0.00430309],\n",
       "       [0.99724571, 0.00275429],\n",
       "       [0.91040951, 0.08959049],\n",
       "       [0.94739868, 0.05260132],\n",
       "       [0.78787939, 0.21212061],\n",
       "       [0.01020309, 0.98979691]])"
      ]
     },
     "execution_count": 51,
     "metadata": {},
     "output_type": "execute_result"
    }
   ],
   "source": [
    "pred_prb[0:9, 0:9]"
   ]
  },
  {
   "cell_type": "markdown",
   "id": "ea28a6dd",
   "metadata": {},
   "source": [
    "Erster Wert in Numpy Array ist Wahrscheinlichkeit von 0 und der zweite die Wahrscheinlichkeit von 1"
   ]
  },
  {
   "cell_type": "markdown",
   "id": "4458cb84",
   "metadata": {},
   "source": [
    "Mit dem folgenden Code werden die Auftrittswahrscheinlichkeiten von 1 vorausgesagt und extrahiert"
   ]
  },
  {
   "cell_type": "code",
   "execution_count": 52,
   "id": "1bc61a50",
   "metadata": {},
   "outputs": [],
   "source": [
    "lr_pred_prb = lr_model.predict_proba(x_test)[:, 1]"
   ]
  },
  {
   "cell_type": "markdown",
   "id": "0c6b904b",
   "metadata": {},
   "source": [
    "## Vergleich der vorhandenen und vorhergesagten Daten"
   ]
  },
  {
   "cell_type": "code",
   "execution_count": 60,
   "id": "a182d585-7f64-4fb3-a7b6-2cb15c8b30c3",
   "metadata": {},
   "outputs": [
    {
     "name": "stdout",
     "output_type": "stream",
     "text": [
      "Testdaten Genauigkeit: 0.8083333333333333\n",
      "Trainingsdaten Genauigkeit: 0.8535714285714285\n"
     ]
    }
   ],
   "source": [
    "print(f'Testdaten Genauigkeit: {lr_model.score(x_test,y_test)}')\n",
    "print(f'Trainingsdaten Genauigkeit: {lr_model.score(x_train,y_train)}')"
   ]
  },
  {
   "cell_type": "markdown",
   "id": "0b3a30e8-bbae-4969-9583-c409ef6bc873",
   "metadata": {},
   "source": [
    "##### Confusion Matrix"
   ]
  },
  {
   "cell_type": "code",
   "execution_count": 30,
   "id": "e4aa52fe",
   "metadata": {},
   "outputs": [],
   "source": [
    "from sklearn.metrics import confusion_matrix"
   ]
  },
  {
   "cell_type": "markdown",
   "id": "9c202067-d5bd-4cdb-bf90-0542a587baf4",
   "metadata": {},
   "source": [
    "##### Confusion Matrix:"
   ]
  },
  {
   "cell_type": "code",
   "execution_count": 32,
   "id": "4f34c847",
   "metadata": {},
   "outputs": [
    {
     "data": {
      "text/plain": [
       "array([77,  0, 43,  0])"
      ]
     },
     "execution_count": 32,
     "metadata": {},
     "output_type": "execute_result"
    }
   ],
   "source": [
    "confusion_matrix(y_test, pred).ravel()"
   ]
  },
  {
   "cell_type": "code",
   "execution_count": 72,
   "id": "3b811b2c-675a-4830-827e-fec308611a1c",
   "metadata": {},
   "outputs": [
    {
     "data": {
      "text/html": [
       "<div>\n",
       "<style scoped>\n",
       "    .dataframe tbody tr th:only-of-type {\n",
       "        vertical-align: middle;\n",
       "    }\n",
       "\n",
       "    .dataframe tbody tr th {\n",
       "        vertical-align: top;\n",
       "    }\n",
       "\n",
       "    .dataframe thead th {\n",
       "        text-align: right;\n",
       "    }\n",
       "</style>\n",
       "<table border=\"1\" class=\"dataframe\">\n",
       "  <thead>\n",
       "    <tr style=\"text-align: right;\">\n",
       "      <th></th>\n",
       "      <th>Kauf vorhergesagt</th>\n",
       "      <th>Kein Kauf vorhergesagt</th>\n",
       "    </tr>\n",
       "  </thead>\n",
       "  <tbody>\n",
       "    <tr>\n",
       "      <th>Gekauft</th>\n",
       "      <td>23</td>\n",
       "      <td>20</td>\n",
       "    </tr>\n",
       "    <tr>\n",
       "      <th>Nicht gekauft</th>\n",
       "      <td>3</td>\n",
       "      <td>74</td>\n",
       "    </tr>\n",
       "  </tbody>\n",
       "</table>\n",
       "</div>"
      ],
      "text/plain": [
       "               Kauf vorhergesagt  Kein Kauf vorhergesagt\n",
       "Gekauft                       23                      20\n",
       "Nicht gekauft                  3                      74"
      ]
     },
     "execution_count": 72,
     "metadata": {},
     "output_type": "execute_result"
    }
   ],
   "source": [
    "tn, fp, fn, tp = confusion_matrix(y_test, pred).ravel()\n",
    "conf_matrix = pd.DataFrame({\"Kauf vorhergesagt\": [tp, fp], \"Kein Kauf vorhergesagt\": [\n",
    "                           fn, tn]}, index=[\"Gekauft\", \"Nicht gekauft\"])\n",
    "conf_matrix"
   ]
  },
  {
   "cell_type": "markdown",
   "id": "dc0df01e",
   "metadata": {},
   "source": [
    "### Accuracy (Berechnungsgenauigkeit)"
   ]
  },
  {
   "cell_type": "code",
   "execution_count": 62,
   "id": "b0b401ae",
   "metadata": {},
   "outputs": [],
   "source": [
    "from sklearn.metrics import accuracy_score"
   ]
  },
  {
   "cell_type": "markdown",
   "id": "83d2b2a7",
   "metadata": {},
   "source": [
    "#### Accuracy"
   ]
  },
  {
   "cell_type": "code",
   "execution_count": 67,
   "id": "a67bd97d",
   "metadata": {},
   "outputs": [
    {
     "name": "stdout",
     "output_type": "stream",
     "text": [
      "Accuracy: 0.8083333333333333\n"
     ]
    }
   ],
   "source": [
    "accuracy_lr = accuracy_score(y_test, pred)\n",
    "print(\"Accuracy: {}\".format(accuracy_lr))"
   ]
  },
  {
   "cell_type": "markdown",
   "id": "c43ca2d5",
   "metadata": {},
   "source": [
    "### Modellgenauigkeit"
   ]
  },
  {
   "cell_type": "code",
   "execution_count": 75,
   "id": "5ae48773",
   "metadata": {},
   "outputs": [],
   "source": [
    "from sklearn.metrics import precision_score"
   ]
  },
  {
   "cell_type": "code",
   "execution_count": 76,
   "id": "1205a011",
   "metadata": {},
   "outputs": [
    {
     "name": "stdout",
     "output_type": "stream",
     "text": [
      "Precision for 1: 0.8846153846153846\n",
      "Precision for 0: 0.7872340425531915\n"
     ]
    }
   ],
   "source": [
    "precision_1 = tp / (tp + fp)\n",
    "print(\"Precision for 1: {}\".format(precision_1))\n",
    "precision_0 = tn / (tn + fn)\n",
    "print(\"Precision for 0: {}\".format(precision_0))"
   ]
  },
  {
   "cell_type": "code",
   "execution_count": 78,
   "id": "482a183f",
   "metadata": {},
   "outputs": [
    {
     "name": "stdout",
     "output_type": "stream",
     "text": [
      "Precision: 0.8846153846153846\n"
     ]
    }
   ],
   "source": [
    "precision_lr = precision_score(y_test, pred)\n",
    "print(\"Precision: {}\".format(precision_lr))"
   ]
  },
  {
   "cell_type": "markdown",
   "id": "4ec9d226",
   "metadata": {},
   "source": [
    "### Recall"
   ]
  },
  {
   "cell_type": "code",
   "execution_count": 79,
   "id": "c6dc16ac",
   "metadata": {},
   "outputs": [],
   "source": [
    "from sklearn.metrics import recall_score"
   ]
  },
  {
   "cell_type": "code",
   "execution_count": 80,
   "id": "3966040b",
   "metadata": {},
   "outputs": [
    {
     "name": "stdout",
     "output_type": "stream",
     "text": [
      "Recall for 1: 0.5348837209302325\n",
      "Recall for 0: 0.961038961038961\n"
     ]
    }
   ],
   "source": [
    "recall_1 = tp / (tp + fn)\n",
    "print(\"Recall for 1: {}\".format(recall_1))\n",
    "recall_0 = tn / (tn + fp)\n",
    "print(\"Recall for 0: {}\".format(recall_0))"
   ]
  },
  {
   "cell_type": "code",
   "execution_count": 83,
   "id": "d81ad24e",
   "metadata": {},
   "outputs": [
    {
     "name": "stdout",
     "output_type": "stream",
     "text": [
      "Recall: 0.5348837209302325\n"
     ]
    }
   ],
   "source": [
    "recall_lr = recall_score(y_test, pred)\n",
    "print(\"Recall: {}\".format(recall_lr))"
   ]
  },
  {
   "cell_type": "markdown",
   "id": "8863a4f0",
   "metadata": {},
   "source": [
    "### F1 Score"
   ]
  },
  {
   "cell_type": "code",
   "execution_count": 84,
   "id": "371a286e",
   "metadata": {},
   "outputs": [],
   "source": [
    "from sklearn.metrics import f1_score"
   ]
  },
  {
   "cell_type": "code",
   "execution_count": 85,
   "id": "73b699d1",
   "metadata": {},
   "outputs": [
    {
     "name": "stdout",
     "output_type": "stream",
     "text": [
      "F1 Score for 1: 0.6666666666666665\n",
      "F1 Score for 0: 0.8654970760233919\n"
     ]
    }
   ],
   "source": [
    "f1_1 = (2 * precision_1 * recall_1) / (precision_1 + recall_1)\n",
    "print(\"F1 Score for 1: {}\".format(f1_1))\n",
    "f1_0 = (2 * precision_0 * recall_0) / (precision_0 + recall_0)\n",
    "print(\"F1 Score for 0: {}\".format(f1_0))"
   ]
  },
  {
   "cell_type": "code",
   "execution_count": 87,
   "id": "ac187bfe",
   "metadata": {},
   "outputs": [
    {
     "name": "stdout",
     "output_type": "stream",
     "text": [
      "F1 Score: 0.6666666666666665\n"
     ]
    }
   ],
   "source": [
    "f1_lr = f1_score(y_test, pred)\n",
    "print(\"F1 Score: {}\".format(f1_lr))"
   ]
  },
  {
   "cell_type": "markdown",
   "id": "c03fa0cb",
   "metadata": {},
   "source": [
    "### Classification Report"
   ]
  },
  {
   "cell_type": "code",
   "execution_count": 90,
   "id": "b17da955",
   "metadata": {},
   "outputs": [],
   "source": [
    "from sklearn.metrics import classification_report"
   ]
  },
  {
   "cell_type": "code",
   "execution_count": 91,
   "id": "66a4f724",
   "metadata": {},
   "outputs": [
    {
     "name": "stdout",
     "output_type": "stream",
     "text": [
      "              precision    recall  f1-score   support\n",
      "\n",
      "           0       0.79      0.96      0.87        77\n",
      "           1       0.88      0.53      0.67        43\n",
      "\n",
      "    accuracy                           0.81       120\n",
      "   macro avg       0.84      0.75      0.77       120\n",
      "weighted avg       0.82      0.81      0.79       120\n",
      "\n"
     ]
    }
   ],
   "source": [
    "print(classification_report(y_test, pred))"
   ]
  },
  {
   "cell_type": "markdown",
   "id": "658fcf73-d192-468e-99b2-6c583426bd32",
   "metadata": {},
   "source": [
    "# Fazit"
   ]
  },
  {
   "cell_type": "markdown",
   "id": "59d75775-dcfe-4ebf-9497-79dc975860e1",
   "metadata": {},
   "source": [
    "Ich bin mit meinem selbst ausgewählten Dataset letzendlich auf eine akzeptable Vorhersage gekommen. Auch hier war, wie so oft, das schwierigste ein geeignetes Dataset zu finden.    \n",
    "Tatsächlich bin ich hier anfangs auf Probleme gestoßen, weil das trainierte Modell mal wieder eine sehr schlechte Vorhersage durchgeführt hat. Außerdem hat das Modell nur \"Nicht-Käufer\" vorhergesagt womit es nicht zu gebrauchen war.    \n",
    "Da ich kein neues Dataset heraussuchen wollte habe ich dann eine Normalisierung mithilfe des StandardScaler durchgeführt. Damit konnte ich die Vorhersage von unter 60% auf 80% steigern was zu einem akzeptablen Ergebnis der Vorhersage geführt hat. Theoretisch hätte ich mithilfe der Hyperparametisierung z.B. mit GridSearch die Parameter des Modells noch etwas optimieren können.      \n",
    "    \n",
    "Auch wenn vieles an der Schulung \"Standard\" war, fand ich die Auswertung der Genauigkeit anhand verschiedener Kennzahlen interessant, sowie die eigene Berechnung dieser Kennzahlen mit den Werten aus der Confusion Matrix"
   ]
  },
  {
   "cell_type": "code",
   "execution_count": null,
   "id": "28e7c631-3e9f-4d7b-9337-c2fe5e8c81b2",
   "metadata": {},
   "outputs": [],
   "source": []
  }
 ],
 "metadata": {
  "kernelspec": {
   "display_name": "Python 3",
   "language": "python",
   "name": "python3"
  },
  "language_info": {
   "codemirror_mode": {
    "name": "ipython",
    "version": 3
   },
   "file_extension": ".py",
   "mimetype": "text/x-python",
   "name": "python",
   "nbconvert_exporter": "python",
   "pygments_lexer": "ipython3",
   "version": "3.8.10"
  }
 },
 "nbformat": 4,
 "nbformat_minor": 5
}
