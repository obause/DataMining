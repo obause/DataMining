{
 "cells": [
  {
   "cell_type": "markdown",
   "metadata": {},
   "source": [
    "# Übung 8 - Clusteranalyse\n",
    "\n",
    "Importiert die Standardpakete."
   ]
  },
  {
   "cell_type": "code",
   "execution_count": 1,
   "metadata": {},
   "outputs": [],
   "source": [
    "import pandas as pd\n",
    "import matplotlib.pyplot as plt"
   ]
  },
  {
   "cell_type": "markdown",
   "metadata": {},
   "source": [
    "Lesen Sie die Fortnitedaten ein und schauen sich die ersten Zeilen an."
   ]
  },
  {
   "cell_type": "code",
   "execution_count": 3,
   "metadata": {
    "scrolled": true
   },
   "outputs": [
    {
     "data": {
      "text/html": [
       "<div>\n",
       "<style scoped>\n",
       "    .dataframe tbody tr th:only-of-type {\n",
       "        vertical-align: middle;\n",
       "    }\n",
       "\n",
       "    .dataframe tbody tr th {\n",
       "        vertical-align: top;\n",
       "    }\n",
       "\n",
       "    .dataframe thead th {\n",
       "        text-align: right;\n",
       "    }\n",
       "</style>\n",
       "<table border=\"1\" class=\"dataframe\">\n",
       "  <thead>\n",
       "    <tr style=\"text-align: right;\">\n",
       "      <th></th>\n",
       "      <th>Name</th>\n",
       "      <th>DPS</th>\n",
       "      <th>Damage</th>\n",
       "      <th>Critical %</th>\n",
       "      <th>Crit. Damage</th>\n",
       "      <th>Fire Rate</th>\n",
       "      <th>Mag. Size</th>\n",
       "      <th>Range</th>\n",
       "      <th>Durability</th>\n",
       "      <th>Reload Time</th>\n",
       "      <th>Ammo Cost</th>\n",
       "      <th>Impact</th>\n",
       "      <th>Rarity</th>\n",
       "      <th>Type</th>\n",
       "    </tr>\n",
       "  </thead>\n",
       "  <tbody>\n",
       "    <tr>\n",
       "      <th>0</th>\n",
       "      <td>Scar</td>\n",
       "      <td>198.0</td>\n",
       "      <td>36</td>\n",
       "      <td>0</td>\n",
       "      <td>0</td>\n",
       "      <td>5.5</td>\n",
       "      <td>30</td>\n",
       "      <td>1.0</td>\n",
       "      <td>?</td>\n",
       "      <td>2.1</td>\n",
       "      <td>1</td>\n",
       "      <td>31</td>\n",
       "      <td>Legendary</td>\n",
       "      <td>Assault Rifles</td>\n",
       "    </tr>\n",
       "    <tr>\n",
       "      <th>1</th>\n",
       "      <td>Scar</td>\n",
       "      <td>192.5</td>\n",
       "      <td>35</td>\n",
       "      <td>0</td>\n",
       "      <td>0</td>\n",
       "      <td>5.5</td>\n",
       "      <td>30</td>\n",
       "      <td>1.0</td>\n",
       "      <td>?</td>\n",
       "      <td>2.1</td>\n",
       "      <td>1</td>\n",
       "      <td>29</td>\n",
       "      <td>Epic</td>\n",
       "      <td>Assault Rifles</td>\n",
       "    </tr>\n",
       "    <tr>\n",
       "      <th>2</th>\n",
       "      <td>Scoped Rifle</td>\n",
       "      <td>84.0</td>\n",
       "      <td>24</td>\n",
       "      <td>0</td>\n",
       "      <td>0</td>\n",
       "      <td>3.5</td>\n",
       "      <td>20</td>\n",
       "      <td>1.0</td>\n",
       "      <td>?</td>\n",
       "      <td>2.2</td>\n",
       "      <td>1</td>\n",
       "      <td>29</td>\n",
       "      <td>Epic</td>\n",
       "      <td>Assault Rifles</td>\n",
       "    </tr>\n",
       "    <tr>\n",
       "      <th>3</th>\n",
       "      <td>Scoped Rifle</td>\n",
       "      <td>80.5</td>\n",
       "      <td>23</td>\n",
       "      <td>0</td>\n",
       "      <td>0</td>\n",
       "      <td>3.5</td>\n",
       "      <td>20</td>\n",
       "      <td>1.0</td>\n",
       "      <td>?</td>\n",
       "      <td>2.3</td>\n",
       "      <td>1</td>\n",
       "      <td>28</td>\n",
       "      <td>Rare</td>\n",
       "      <td>Assault Rifles</td>\n",
       "    </tr>\n",
       "    <tr>\n",
       "      <th>4</th>\n",
       "      <td>M4</td>\n",
       "      <td>181.5</td>\n",
       "      <td>33</td>\n",
       "      <td>0</td>\n",
       "      <td>0</td>\n",
       "      <td>5.5</td>\n",
       "      <td>30</td>\n",
       "      <td>1.0</td>\n",
       "      <td>?</td>\n",
       "      <td>2.2</td>\n",
       "      <td>1</td>\n",
       "      <td>28</td>\n",
       "      <td>Rare</td>\n",
       "      <td>Assault Rifles</td>\n",
       "    </tr>\n",
       "  </tbody>\n",
       "</table>\n",
       "</div>"
      ],
      "text/plain": [
       "           Name    DPS  Damage  Critical %  Crit. Damage  Fire Rate  \\\n",
       "0          Scar  198.0      36           0             0        5.5   \n",
       "1          Scar  192.5      35           0             0        5.5   \n",
       "2  Scoped Rifle   84.0      24           0             0        3.5   \n",
       "3  Scoped Rifle   80.5      23           0             0        3.5   \n",
       "4            M4  181.5      33           0             0        5.5   \n",
       "\n",
       "   Mag. Size  Range Durability  Reload Time  Ammo Cost  Impact     Rarity  \\\n",
       "0         30    1.0          ?          2.1          1      31  Legendary   \n",
       "1         30    1.0          ?          2.1          1      29       Epic   \n",
       "2         20    1.0          ?          2.2          1      29       Epic   \n",
       "3         20    1.0          ?          2.3          1      28       Rare   \n",
       "4         30    1.0          ?          2.2          1      28       Rare   \n",
       "\n",
       "             Type  \n",
       "0  Assault Rifles  \n",
       "1  Assault Rifles  \n",
       "2  Assault Rifles  \n",
       "3  Assault Rifles  \n",
       "4  Assault Rifles  "
      ]
     },
     "execution_count": 3,
     "metadata": {},
     "output_type": "execute_result"
    }
   ],
   "source": [
    "#df = pd.read_csv(\"08_Fortnitedaten.csv\", encoding = 'ANSI', sep = \";\")\n",
    "df = pd.read_csv(\"08_Fortnitedaten.csv\", sep = \";\")\n",
    "df.head()"
   ]
  },
  {
   "cell_type": "markdown",
   "metadata": {},
   "source": [
    "## 8.1 Interpretation der Attribte\n",
    "- **Name** beschreibt den Namen der Waffe, die in Fortnite verwendet werden kann.\n",
    "- **DPS** steht für \"Damage Per Second\" und beschreibt den Schaden, den eine Waffe pro Sekunde verursachen kann an einem gegnerischen Spieler.\n",
    "- **Damage** entspricht dem Schaden, den die Waffe pro Kugel an einem gegnerischen Spieler verursachen kann.\n",
    "- **Fire Rate** beschreibt die geschwindigkeit pro Sekunde, in der eine Kugel der Waffe abgefeuert werden kann.\n",
    "- **Mag. Size** steht für die größe des Magazins einer Waffe, die Anzahl an Kugeln die gefeuert werden können, bevor nachgeladen werden muss.\n",
    "- **Reload** Time stellt dar, wie lange es dauert, bis die Waffe nachgeladen ist.\n",
    "- **Impact** beschreibt im \"Save The World\"-Modus wie sehr eine Waffe ein Monster ins taumeln bringen kann. Im \"Battle Royal\"-Modus hat der Impact keine Auswirkung.\n",
    "\n",
    "## 8.2 Auswahl der Attribute\n",
    "Wählen Sie die Attribute \"DPS\", \"Damage\", \"Fire Rate\", \"Mag. Size\", \"Reload Time\", \"Impact\" für das Clustering. Schauen Sie sich die Datentypen an und nehmen Sie ggf. notwendige Datentransformation vor."
   ]
  },
  {
   "cell_type": "code",
   "execution_count": 3,
   "metadata": {
    "scrolled": true
   },
   "outputs": [
    {
     "name": "stdout",
     "output_type": "stream",
     "text": [
      "<class 'pandas.core.frame.DataFrame'>\n",
      "RangeIndex: 43 entries, 0 to 42\n",
      "Data columns (total 6 columns):\n",
      " #   Column       Non-Null Count  Dtype  \n",
      "---  ------       --------------  -----  \n",
      " 0   DPS          43 non-null     float64\n",
      " 1   Damage       43 non-null     int64  \n",
      " 2   Fire Rate    43 non-null     float64\n",
      " 3   Mag. Size    43 non-null     int64  \n",
      " 4   Reload Time  43 non-null     float64\n",
      " 5   Impact       43 non-null     int64  \n",
      "dtypes: float64(3), int64(3)\n",
      "memory usage: 2.1 KB\n"
     ]
    }
   ],
   "source": [
    "df = df[[\"DPS\", \"Damage\", \"Fire Rate\", \"Mag. Size\", \"Reload Time\", \"Impact\"]]\n",
    "df.info()"
   ]
  },
  {
   "cell_type": "markdown",
   "metadata": {},
   "source": [
    "#### 1.4 Normalisierung für Clusteranalyse"
   ]
  },
  {
   "cell_type": "code",
   "execution_count": 4,
   "metadata": {},
   "outputs": [
    {
     "data": {
      "text/html": [
       "<div>\n",
       "<style scoped>\n",
       "    .dataframe tbody tr th:only-of-type {\n",
       "        vertical-align: middle;\n",
       "    }\n",
       "\n",
       "    .dataframe tbody tr th {\n",
       "        vertical-align: top;\n",
       "    }\n",
       "\n",
       "    .dataframe thead th {\n",
       "        text-align: right;\n",
       "    }\n",
       "</style>\n",
       "<table border=\"1\" class=\"dataframe\">\n",
       "  <thead>\n",
       "    <tr style=\"text-align: right;\">\n",
       "      <th></th>\n",
       "      <th>DPS</th>\n",
       "      <th>Damage</th>\n",
       "      <th>Fire Rate</th>\n",
       "      <th>Mag. Size</th>\n",
       "      <th>Reload Time</th>\n",
       "      <th>Impact</th>\n",
       "    </tr>\n",
       "  </thead>\n",
       "  <tbody>\n",
       "    <tr>\n",
       "      <th>0</th>\n",
       "      <td>0.795421</td>\n",
       "      <td>0.205607</td>\n",
       "      <td>0.352420</td>\n",
       "      <td>0.852941</td>\n",
       "      <td>0.16</td>\n",
       "      <td>0.002759</td>\n",
       "    </tr>\n",
       "    <tr>\n",
       "      <th>1</th>\n",
       "      <td>0.768631</td>\n",
       "      <td>0.196262</td>\n",
       "      <td>0.352420</td>\n",
       "      <td>0.852941</td>\n",
       "      <td>0.16</td>\n",
       "      <td>0.001839</td>\n",
       "    </tr>\n",
       "    <tr>\n",
       "      <th>2</th>\n",
       "      <td>0.240136</td>\n",
       "      <td>0.093458</td>\n",
       "      <td>0.216087</td>\n",
       "      <td>0.558824</td>\n",
       "      <td>0.18</td>\n",
       "      <td>0.001839</td>\n",
       "    </tr>\n",
       "    <tr>\n",
       "      <th>3</th>\n",
       "      <td>0.223088</td>\n",
       "      <td>0.084112</td>\n",
       "      <td>0.216087</td>\n",
       "      <td>0.558824</td>\n",
       "      <td>0.20</td>\n",
       "      <td>0.001379</td>\n",
       "    </tr>\n",
       "    <tr>\n",
       "      <th>4</th>\n",
       "      <td>0.715051</td>\n",
       "      <td>0.177570</td>\n",
       "      <td>0.352420</td>\n",
       "      <td>0.852941</td>\n",
       "      <td>0.18</td>\n",
       "      <td>0.001379</td>\n",
       "    </tr>\n",
       "  </tbody>\n",
       "</table>\n",
       "</div>"
      ],
      "text/plain": [
       "        DPS    Damage  Fire Rate  Mag. Size  Reload Time    Impact\n",
       "0  0.795421  0.205607   0.352420   0.852941         0.16  0.002759\n",
       "1  0.768631  0.196262   0.352420   0.852941         0.16  0.001839\n",
       "2  0.240136  0.093458   0.216087   0.558824         0.18  0.001839\n",
       "3  0.223088  0.084112   0.216087   0.558824         0.20  0.001379\n",
       "4  0.715051  0.177570   0.352420   0.852941         0.18  0.001379"
      ]
     },
     "execution_count": 4,
     "metadata": {},
     "output_type": "execute_result"
    }
   ],
   "source": [
    "from sklearn.preprocessing import MinMaxScaler\n",
    "\n",
    "scaler = MinMaxScaler()\n",
    "df = pd.DataFrame(scaler.fit_transform(df), columns = df.columns, index = df.index)\n",
    "df.head()"
   ]
  },
  {
   "cell_type": "markdown",
   "metadata": {},
   "source": [
    "## 8.2 Training & Bewertung der Modelle\n",
    "Ziel ist es drei Cluster in den Daten zu finden und diese optisch ansprechend darzustellen. Nutzen Sie den kMeans Algorithmus für die Clusteranalyse. Wählen Sie als initiale Cluster die ersten drei Datensätze.\n"
   ]
  },
  {
   "cell_type": "markdown",
   "metadata": {},
   "source": [
    "#### A1: k-Means-Algorithmus\n",
    "Die Datenstruktur \"init\" dient zur Festlegung der initialen Centroide. Bei drei Zielcluster sind daher drei Punkte wichtig."
   ]
  },
  {
   "cell_type": "code",
   "execution_count": 5,
   "metadata": {},
   "outputs": [
    {
     "name": "stderr",
     "output_type": "stream",
     "text": [
      "C:\\ProgramData\\Anaconda3\\lib\\site-packages\\sklearn\\cluster\\_kmeans.py:1035: RuntimeWarning: Explicit initial center position passed: performing only one init in KMeans instead of n_init=10.\n",
      "  self._check_params(X)\n"
     ]
    }
   ],
   "source": [
    "from sklearn.cluster import KMeans\n",
    "\n",
    "init = df.loc[:2]\n",
    "kmeans = KMeans(n_clusters = 3, init = init, max_iter = 99).fit(df)"
   ]
  },
  {
   "cell_type": "markdown",
   "metadata": {},
   "source": [
    "## 8.3 Streudiagramme\n",
    "Nutzen Sie einen Scatterplot, um die Cluster in jeweils 2 Dimensionen zu visualisieren. Über die Dictionary-Datenstruktur können Farben zugewiesen werden. Testen Sie verschiedene Kombinationen an Merkmalen aus."
   ]
  },
  {
   "cell_type": "code",
   "execution_count": 6,
   "metadata": {},
   "outputs": [
    {
     "data": {
      "image/png": "[encoded data removed]",
      "text/plain": [
       "<Figure size 432x288 with 1 Axes>"
      ]
     },
     "metadata": {
      "needs_background": "light"
     },
     "output_type": "display_data"
    }
   ],
   "source": [
    "label_color_map = { 0: 'green',\n",
    "                    1: 'red',\n",
    "                    2: 'brown'}\n",
    "label_color = [label_color_map[l] for l in kmeans.labels_]\n",
    "plt.scatter(df[\"DPS\"], df[\"Damage\"], c = label_color)\n",
    "x = plt.ylabel(\"Damage\")\n",
    "y = plt.xlabel(\"DPS\")"
   ]
  },
  {
   "cell_type": "markdown",
   "metadata": {},
   "source": [
    "## 8.4 Silhouetten-Koeffizient\n"
   ]
  },
  {
   "cell_type": "markdown",
   "metadata": {},
   "source": [
    "Berechnen Sie den Silhoutten-Koeffizienten des gesamten Clusterings."
   ]
  },
  {
   "cell_type": "code",
   "execution_count": 7,
   "metadata": {},
   "outputs": [
    {
     "name": "stdout",
     "output_type": "stream",
     "text": [
      "silhouette_score overall: 0.4760829050541078\n"
     ]
    }
   ],
   "source": [
    "from sklearn.metrics import silhouette_score\n",
    "from sklearn.metrics import silhouette_samples\n",
    "\n",
    "print(\"silhouette_score overall:\", silhouette_score(df, kmeans.labels_))"
   ]
  },
  {
   "cell_type": "markdown",
   "metadata": {},
   "source": [
    "## 8.5 Interpretation der Ergebnisse\n",
    "Schauen Sie sich die Ergebnisse des Scatterplots an und versuchen Sie fachliche Interpretationen der Ergbnisse zu finden. Was stellen die Cluster da?"
   ]
  },
  {
   "cell_type": "markdown",
   "metadata": {},
   "source": [
    "Interpretation der Ergebnisse\n",
    "\n",
    "Es gibt Waffencluster, deren Waffen wenig Schaden pro Sekunde austeilen (DPS). Dafür ist der Schadensoutput allgemein (Damage) höher (Cluster braun). Dies wären Waffen, die Damage over Time verursachen. Das rote Waffencluster enthält Waffen, die deutlich mehr DPS im Vergleich zu dem Braunen verursachen, aber der Damage an sich ist niedriger. Schließlich gibt es grüne Cluster, welche Waffen mit einem sehr hohen DPS verursachen.\n",
    "\n",
    "Der Silhouetten-Koeffizient dient als Gütekriterium für die Clusteranalyse. Bei dem Wert von 0,5 ist davon auszugehen, dass eine schwache bis mittlere Strukturierung vorliegt."
   ]
  },
  {
   "cell_type": "code",
   "execution_count": null,
   "metadata": {},
   "outputs": [],
   "source": []
  }
 ],
 "metadata": {
  "kernelspec": {
   "display_name": "Python 3",
   "language": "python",
   "name": "python3"
  },
  "language_info": {
   "codemirror_mode": {
    "name": "ipython",
    "version": 3
   },
   "file_extension": ".py",
   "mimetype": "text/x-python",
   "name": "python",
   "nbconvert_exporter": "python",
   "pygments_lexer": "ipython3",
   "version": "3.8.5"
  }
 },
 "nbformat": 4,
 "nbformat_minor": 4
}
