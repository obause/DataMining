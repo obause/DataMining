{
 "cells": [
  {
   "cell_type": "markdown",
   "metadata": {},
   "source": [
    "# Übung 8 - Clusteranalyse\n",
    "\n",
    "Importiert die Standardpakete."
   ]
  },
  {
   "cell_type": "code",
   "execution_count": null,
   "metadata": {},
   "outputs": [],
   "source": [
    "import pandas as pd\n",
    "import matplotlib.pyplot as plt"
   ]
  },
  {
   "cell_type": "markdown",
   "metadata": {},
   "source": [
    "Lesen Sie die Fortnitedaten ein und schauen sich die ersten Zeilen an."
   ]
  },
  {
   "cell_type": "code",
   "execution_count": null,
   "metadata": {
    "scrolled": true
   },
   "outputs": [],
   "source": []
  },
  {
   "cell_type": "markdown",
   "metadata": {},
   "source": [
    "## 8.1 Interpretation der Attribte\n",
    "- **Name** beschreibt den Namen der Waffe, die in Fortnite verwendet werden kann.\n",
    "- **DPS** steht für \"Damage Per Second\" und beschreibt den Schaden, den eine Waffe pro Sekunde verursachen kann an einem gegnerischen Spieler.\n",
    "- **Damage** entspricht dem Schaden, den die Waffe pro Kugel an einem gegnerischen Spieler verursachen kann.\n",
    "- **Fire Rate** beschreibt die geschwindigkeit pro Sekunde, in der eine Kugel der Waffe abgefeuert werden kann.\n",
    "- **Mag. Size** steht für die größe des Magazins einer Waffe, die Anzahl an Kugeln die gefeuert werden können, bevor nachgeladen werden muss.\n",
    "- **Reload** Time stellt dar, wie lange es dauert, bis die Waffe nachgeladen ist.\n",
    "- **Impact** beschreibt im \"Save The World\"-Modus wie sehr eine Waffe ein Monster ins taumeln bringen kann. Im \"Battle Royal\"-Modus hat der Impact keine Auswirkung.\n",
    "\n",
    "## 8.2 Auswahl der Attribute\n",
    "Wählen Sie die Attribute \"DPS\", \"Damage\", \"Fire Rate\", \"Mag. Size\", \"Reload Time\", \"Impact\" für das Clustering. Schauen Sie sich die Datentypen an und nehmen Sie ggf. notwendige Datentransformation vor."
   ]
  },
  {
   "cell_type": "code",
   "execution_count": null,
   "metadata": {
    "scrolled": true
   },
   "outputs": [],
   "source": []
  },
  {
   "cell_type": "code",
   "execution_count": null,
   "metadata": {},
   "outputs": [],
   "source": []
  },
  {
   "cell_type": "markdown",
   "metadata": {},
   "source": [
    "## 8.2 Training & Bewertung der Modelle\n",
    "Ziel ist es drei Cluster in den Daten zu finden und diese optisch ansprechend darzustellen. Nutzen Sie den kMeans Algorithmus für die Clusteranalyse. Wählen Sie als initiale Cluster die ersten drei Datensätze.\n"
   ]
  },
  {
   "cell_type": "markdown",
   "metadata": {},
   "source": [
    "#### A1: k-Means-Algorithmus"
   ]
  },
  {
   "cell_type": "code",
   "execution_count": null,
   "metadata": {},
   "outputs": [],
   "source": []
  },
  {
   "cell_type": "markdown",
   "metadata": {},
   "source": [
    "## 8.3 Streudiagramme\n",
    "Nutzen Sie einen Scatterplot, um die Cluster in jeweils 2 Dimensionen zu visualisieren. Über die Dictionary-Datenstruktur können Farben zugewiesen werden. Testen Sie verschiedene Kombinationen an Merkmalen aus."
   ]
  },
  {
   "cell_type": "code",
   "execution_count": null,
   "metadata": {},
   "outputs": [],
   "source": [
    "label_color_map = { 0: 'green',\n",
    "                    1: 'red',\n",
    "                    2: 'brown'}\n",
    "label_color = [label_color_map[l] for l in kmeans.labels_]\n",
    "plt.scatter(df[\"DPS\"], df[\"Damage\"], c = label_color)\n",
    "x = plt.ylabel(\"Damage\")\n",
    "y = plt.xlabel(\"DPS\")"
   ]
  },
  {
   "cell_type": "markdown",
   "metadata": {},
   "source": [
    "## 8.4 Silhouetten-Koeffizient\n"
   ]
  },
  {
   "cell_type": "markdown",
   "metadata": {},
   "source": [
    "Berechnen Sie den Silhoutten-Koeffizienten des gesamten Clusterings."
   ]
  },
  {
   "cell_type": "code",
   "execution_count": null,
   "metadata": {},
   "outputs": [],
   "source": []
  },
  {
   "cell_type": "markdown",
   "metadata": {},
   "source": [
    "## 8.5 Interpretation der Ergebnisse\n",
    "Schauen Sie sich die Ergebnisse des Scatterplots an und versuchen Sie fachliche Interpretationen der Ergbnisse zu finden. Was stellen die Cluster da?"
   ]
  },
  {
   "cell_type": "code",
   "execution_count": null,
   "metadata": {},
   "outputs": [],
   "source": []
  }
 ],
 "metadata": {
  "kernelspec": {
   "display_name": "Python 3",
   "language": "python",
   "name": "python3"
  },
  "language_info": {
   "codemirror_mode": {
    "name": "ipython",
    "version": 3
   },
   "file_extension": ".py",
   "mimetype": "text/x-python",
   "name": "python",
   "nbconvert_exporter": "python",
   "pygments_lexer": "ipython3",
   "version": "3.8.5"
  }
 },
 "nbformat": 4,
 "nbformat_minor": 4
}
