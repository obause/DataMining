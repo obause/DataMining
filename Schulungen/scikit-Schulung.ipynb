{
 "cells": [
  {
   "cell_type": "markdown",
   "id": "97978e8a",
   "metadata": {},
   "source": [
    "### Schulung Machine Learning Libraries -Scikit-learn"
   ]
  },
  {
   "cell_type": "markdown",
   "id": "a733c9b1",
   "metadata": {},
   "source": [
    "##### Ausgangsinformation: Bitte immer die Kommentare IM Code durch den tatsächlichen Code ersetzen. An manchen Stellen dürfen keine Kommentare (z.B. #Eure Ergänzungen) mehr beim Ausführen im Code stehen!"
   ]
  },
  {
   "cell_type": "markdown",
   "id": "6a891d28",
   "metadata": {},
   "source": [
    "**0.** Ladet euch die Winrar-Datei \"Bilder\" aus Moodle herunter und entpackt diese. Speichert den entpackten Ordner in dasselbe Verzeichnis, indem auch euer Notebook liegt (falls möglich)."
   ]
  },
  {
   "cell_type": "markdown",
   "id": "5a50005b",
   "metadata": {},
   "source": [
    "**1.** Zunächst müssen wir die benötigten Module importieren und opencv per !pip install installieren."
   ]
  },
  {
   "cell_type": "code",
   "execution_count": null,
   "id": "9094ce8c",
   "metadata": {},
   "outputs": [],
   "source": [
    "#!pip install opencv-python"
   ]
  },
  {
   "cell_type": "code",
   "execution_count": null,
   "id": "fbe3fbdb",
   "metadata": {},
   "outputs": [],
   "source": [
    "import numpy as np \n",
    "import pandas as pd \n",
    "import os\n",
    "import matplotlib.pyplot as plt\n",
    "import cv2"
   ]
  },
  {
   "cell_type": "code",
   "execution_count": null,
   "id": "d9e07f12",
   "metadata": {},
   "outputs": [],
   "source": [
    "from sklearn import datasets, svm, metrics\n",
    "from sklearn.model_selection import train_test_split"
   ]
  },
  {
   "cell_type": "markdown",
   "id": "4e38a0fe",
   "metadata": {},
   "source": [
    "**2.** Jetzt müssen wir die Bilder in unser Notebook laden. Dafür legen wir zwei leere Arrays namens `Hund_images` und `Hund_labels` an. Danach bestimmenn wir eine shape-Variable, die eine einheitliche Bildgröße definiert. Wir wollen hier eine Größe von 180x180 festlegen `shape = (Größe, Größe)`."
   ]
  },
  {
   "cell_type": "code",
   "execution_count": null,
   "id": "073912ab",
   "metadata": {},
   "outputs": [],
   "source": [
    "#Hund images anlegen\n",
    "\n",
    "#Hund labels anlegen\n",
    "\n",
    "#Shape anlegen\n",
    "\n",
    "\n",
    "train_path = r\"#Hier müsst ihr euren Pfad von dem Ordner 'Bilder\\Hund' angeben\" \n",
    "\n",
    "for filename in os.listdir(train_path):\n",
    "    if filename.split('.')[1] == 'jpg':\n",
    "        img = cv2.imread(os.path.join(train_path,filename))\n",
    "        \n",
    "        Hund_labels.append(filename.split('_')[0])\n",
    "        \n",
    "        img = cv2.resize(img,shape)\n",
    "        \n",
    "        Hund_images.append(img)\n",
    "\n",
    "Hund_images = np.array(Hund_images)\n"
   ]
  },
  {
   "cell_type": "markdown",
   "id": "44442989",
   "metadata": {},
   "source": [
    "**3.** Jetzt könnt ihr euch einmal die Größe des Hund_image -Arrays ausgeben lassen mit `Hund_images.shape`. Das Ergebnis sollte (100, 180, 180, 3) liefern.\n",
    "\n",
    "Bedeutung der Zahlen:\n",
    "\n",
    "100 = Es befinden sich 100 Hundebilder in dem Array\n",
    "\n",
    "180, 180 = Auflösung der Bilder in Pixel\n",
    "\n",
    "3 = Anzahl der Farbkanäle (rot, grün und blau)"
   ]
  },
  {
   "cell_type": "code",
   "execution_count": null,
   "id": "df87d977",
   "metadata": {},
   "outputs": [],
   "source": [
    "#Hund shape"
   ]
  },
  {
   "cell_type": "markdown",
   "id": "deb8e0ac",
   "metadata": {},
   "source": [
    "**4.** Hier geht ihr ähnlich wie bei Schritt 2 vor. Zunächst werden leere Arrays namens `Katze_images` und `Katze_labels` und eine Shape Variable `shape = (Größe, Größe)` mit einer Größe von 180x180 angelegt. Danach gebt ihr erneut den Pfad für die Dateien an."
   ]
  },
  {
   "cell_type": "code",
   "execution_count": null,
   "id": "9d1494ac",
   "metadata": {},
   "outputs": [],
   "source": [
    "#Katze images anlegen\n",
    "\n",
    "#Katze labels anlegen\n",
    "\n",
    "#Shape anlegen\n",
    "\n",
    "\n",
    "train_path = r\"#Hier müsst ihr euren Pfad von dem Ordner 'Bilder\\Katze' angeben\"\n",
    "\n",
    "for filename in os.listdir(train_path):\n",
    "    if filename.split('.')[1] == 'jpg':\n",
    "        img = cv2.imread(os.path.join(train_path,filename))\n",
    "        \n",
    "        Katze_labels.append(filename.split('_')[0])\n",
    "        \n",
    "        img = cv2.resize(img,shape)\n",
    "        \n",
    "        Katze_images.append(img)\n",
    "\n",
    "Katze_images = np.array(Katze_images)\n"
   ]
  },
  {
   "cell_type": "markdown",
   "id": "59c584af",
   "metadata": {},
   "source": [
    "**5.** Jetzt könnt ihr euch einmal die Größe des Katze_image -Arrays mit `Katze_images.shape` ausgeben lassen."
   ]
  },
  {
   "cell_type": "code",
   "execution_count": null,
   "id": "5e09b247",
   "metadata": {
    "scrolled": true
   },
   "outputs": [],
   "source": [
    "#Katze shape"
   ]
  },
  {
   "cell_type": "markdown",
   "id": "6ef2ef94",
   "metadata": {},
   "source": [
    "**6.** Die Labels von Hund und Katze werden nun in ein gemeinsames Array `all_labels` geschrieben."
   ]
  },
  {
   "cell_type": "code",
   "execution_count": null,
   "id": "278711fc",
   "metadata": {},
   "outputs": [],
   "source": [
    "all_labels=np.concatenate([Hund_labels, Katze_labels])"
   ]
  },
  {
   "cell_type": "markdown",
   "id": "722181c4",
   "metadata": {},
   "source": [
    "Nun wiederholen wir den vorigen Schritt mit den Images und speichern dies in die Variable `all_images`."
   ]
  },
  {
   "cell_type": "code",
   "execution_count": null,
   "id": "49a3e64a",
   "metadata": {},
   "outputs": [],
   "source": [
    "#Ein großes Array für die Images anlegen"
   ]
  },
  {
   "cell_type": "markdown",
   "id": "a3c0061d",
   "metadata": {},
   "source": [
    "**7.** Jetzt können wir uns einmal Beispielbilder ausgeben lassen."
   ]
  },
  {
   "cell_type": "code",
   "execution_count": null,
   "id": "d6043e67",
   "metadata": {
    "scrolled": true
   },
   "outputs": [],
   "source": [
    "plt.imshow(all_images[19])"
   ]
  },
  {
   "cell_type": "markdown",
   "id": "33d86905",
   "metadata": {},
   "source": [
    "**8.** Mit dem Befehl `all_labels.shape` lassen wir uns nun einmal die Größe des Arrays aller Label ausgeben."
   ]
  },
  {
   "cell_type": "code",
   "execution_count": null,
   "id": "a8f644cd",
   "metadata": {},
   "outputs": [],
   "source": []
  },
  {
   "cell_type": "markdown",
   "id": "71f049ec",
   "metadata": {},
   "source": [
    "**9.** Das Ergebnis des vorigen Befehls wird nun übergeben."
   ]
  },
  {
   "cell_type": "code",
   "execution_count": null,
   "id": "a99daed1",
   "metadata": {},
   "outputs": [],
   "source": [
    "all_images=np.reshape(all_images,(#Hier das Ergebnis als Zahl von `all_labels.shape` eingeben ,-1))"
   ]
  },
  {
   "cell_type": "markdown",
   "id": "de642fb0",
   "metadata": {},
   "source": [
    "**10.** Dieses Array wandeln wir nun ein ein DataFrame um und lassen uns das Ergebnis einmal ausgeben."
   ]
  },
  {
   "cell_type": "code",
   "execution_count": null,
   "id": "923c449f",
   "metadata": {},
   "outputs": [],
   "source": [
    "all_images=pd.DataFrame(all_images)"
   ]
  },
  {
   "cell_type": "code",
   "execution_count": null,
   "id": "04a31319",
   "metadata": {
    "scrolled": true
   },
   "outputs": [],
   "source": [
    "all_images"
   ]
  },
  {
   "cell_type": "markdown",
   "id": "dd48899c",
   "metadata": {},
   "source": [
    "Wir sehen, dass die Bilder als Zahlen dargestellt werden, jede Zeile repräsentiert ein Bild."
   ]
  },
  {
   "cell_type": "markdown",
   "id": "344e0f19",
   "metadata": {},
   "source": [
    "**11.** Für dieses DataFrame legen wir nun eine `target`-Spalte an, indem wir das `all_labels` -Array übergeben"
   ]
  },
  {
   "cell_type": "code",
   "execution_count": null,
   "id": "25545463",
   "metadata": {},
   "outputs": [],
   "source": [
    "all_images['target']=all_labels"
   ]
  },
  {
   "cell_type": "markdown",
   "id": "303baf23",
   "metadata": {},
   "source": [
    "**12.** Wenn wir uns das DataFrame nun erneut ausgeben lassen, sehen wir, dass die Target-Spalten den Bildern zugeordnet wurde. Wir haben am Anfang zunächst 100 Hundebilder und danach 100 Katzenbilder in die Arrays geladen. Dadurch bestehen die Zeilen 0-99 aus Hundebildern und die Zeilen 100-199 aus Katzenbildern."
   ]
  },
  {
   "cell_type": "code",
   "execution_count": null,
   "id": "a94c71d1",
   "metadata": {
    "scrolled": true
   },
   "outputs": [],
   "source": [
    "all_images"
   ]
  },
  {
   "cell_type": "markdown",
   "id": "b72e7253",
   "metadata": {},
   "source": [
    "**13.** Dadurch, dass die Bilder wie oben geschrieben nach Hund und Katze geordnet sind, müssen wir diese einmal durchmischen. Dies kann beispielsweise mit dem Befehl `all_images = all_images.sample(frac=1, random_state=29)` geschehen."
   ]
  },
  {
   "cell_type": "code",
   "execution_count": null,
   "id": "695c4cfb",
   "metadata": {},
   "outputs": [],
   "source": []
  },
  {
   "cell_type": "markdown",
   "id": "59b66659",
   "metadata": {},
   "source": [
    "**14.** Wenn wir uns das DataFrame nun nochmal ausgeben lassen, sehen wir, dass die Zeilen nun durchgemischt wurden, der Index aber immer noch zu der Target-Spalte passt."
   ]
  },
  {
   "cell_type": "code",
   "execution_count": null,
   "id": "ee487f01",
   "metadata": {
    "scrolled": true
   },
   "outputs": [],
   "source": [
    "all_images"
   ]
  },
  {
   "cell_type": "markdown",
   "id": "5f3792f3",
   "metadata": {},
   "source": [
    "**15.** Nun erstellen wir die X und y Variablen. Bei der X-Variable wird die Zielspalte entfernt und bei y die Zielspalte hinzugefügt."
   ]
  },
  {
   "cell_type": "code",
   "execution_count": null,
   "id": "00f965c9",
   "metadata": {},
   "outputs": [],
   "source": [
    "X=all_images.drop('target',axis=1)\n",
    "y=all_images['target']"
   ]
  },
  {
   "cell_type": "markdown",
   "id": "9364384c",
   "metadata": {},
   "source": [
    "**16.** Wenn wir uns nun einmal `X` und `y` ausgeben lassen, sehen wir, dass X nur noch die Bildinformationen enthält und y nur noch die Labels (Zielspalte)."
   ]
  },
  {
   "cell_type": "code",
   "execution_count": null,
   "id": "8da1124f",
   "metadata": {},
   "outputs": [],
   "source": [
    "#X ausgeben lassen"
   ]
  },
  {
   "cell_type": "code",
   "execution_count": null,
   "id": "9bb7716c",
   "metadata": {},
   "outputs": [],
   "source": [
    "#y ausgeben lassen"
   ]
  },
  {
   "cell_type": "markdown",
   "id": "0cde3d48",
   "metadata": {},
   "source": [
    "**17.** Jetzt teilen wir die Daten in Trainings- und Testdaten auf. Die Testgröße setzen wir auf 20% `test_size=0.2` und geben an, dass kein Shuffle durchgeführt werden soll (das haben wir schließlich oben schon gemacht) `shuffle=False`."
   ]
  },
  {
   "cell_type": "code",
   "execution_count": null,
   "id": "a1922104",
   "metadata": {},
   "outputs": [],
   "source": [
    "X_train, X_test, y_train, y_test = train_test_split(\n",
    "    X, y, #Testgröße, #Shuffle einstellen)"
   ]
  },
  {
   "cell_type": "markdown",
   "id": "9017a28d",
   "metadata": {},
   "source": [
    "Wir benutzen im Folgenden zwei Modelle, einmal KNN und einmal SVM"
   ]
  },
  {
   "cell_type": "markdown",
   "id": "80919b9b",
   "metadata": {},
   "source": [
    "##### Beginnen wir mit KNN.\n",
    "**18.** Hierfür muss zunächst der `KNeighborsClassifier` importiert werden."
   ]
  },
  {
   "cell_type": "code",
   "execution_count": null,
   "id": "14a9e509",
   "metadata": {},
   "outputs": [],
   "source": [
    "from sklearn.neighbors import KNeighborsClassifier"
   ]
  },
  {
   "cell_type": "markdown",
   "id": "8c878685",
   "metadata": {},
   "source": [
    "**19.** Der Classifier wird nun in eine Variable `knn` geschrieben."
   ]
  },
  {
   "cell_type": "code",
   "execution_count": null,
   "id": "b8643092",
   "metadata": {},
   "outputs": [],
   "source": [
    "knn = KNeighborsClassifier()"
   ]
  },
  {
   "cell_type": "markdown",
   "id": "fabcd218",
   "metadata": {},
   "source": [
    "**20.** Nun kann das Modell trainiert werden. Wir nutzen hierfür die Methode `knn.fit()`. Als Parameter übergeben wir die X und y -Trainingsdaten."
   ]
  },
  {
   "cell_type": "code",
   "execution_count": null,
   "id": "d20cb684",
   "metadata": {},
   "outputs": [],
   "source": []
  },
  {
   "cell_type": "markdown",
   "id": "1137225f",
   "metadata": {},
   "source": [
    "**21.** Das trainierte Modell kann nun getestet und ausgewertet werden."
   ]
  },
  {
   "cell_type": "code",
   "execution_count": null,
   "id": "e588d610",
   "metadata": {},
   "outputs": [],
   "source": [
    "predicted = knn.predict(X_test)"
   ]
  },
  {
   "cell_type": "code",
   "execution_count": null,
   "id": "61b8be58",
   "metadata": {},
   "outputs": [],
   "source": [
    "from sklearn.metrics import classification_report"
   ]
  },
  {
   "cell_type": "code",
   "execution_count": null,
   "id": "ca5f7b28",
   "metadata": {},
   "outputs": [],
   "source": [
    "print(\"Bewertung des KNN:\\n\",metrics.classification_report(y_test, predicted))"
   ]
  },
  {
   "cell_type": "markdown",
   "id": "aa58969f",
   "metadata": {},
   "source": [
    "##### Als zweites Modell wollen wir SVC nutzen"
   ]
  },
  {
   "cell_type": "markdown",
   "id": "cc0d66ef",
   "metadata": {},
   "source": [
    "**22.** Zunächst importieren wir das SVC-Modell."
   ]
  },
  {
   "cell_type": "code",
   "execution_count": null,
   "id": "b2748235",
   "metadata": {},
   "outputs": [],
   "source": [
    "from sklearn.svm import SVC"
   ]
  },
  {
   "cell_type": "markdown",
   "id": "9f9ff4a5",
   "metadata": {},
   "source": [
    "**23.** Dafür definieren wir zunächst die svc-Variable und trainieren diese mit unseren Daten."
   ]
  },
  {
   "cell_type": "code",
   "execution_count": null,
   "id": "c4b9674e",
   "metadata": {},
   "outputs": [],
   "source": [
    "svc = svm.SVC(kernel='linear',gamma='auto')\n",
    "svc.fit(X_train, y_train)"
   ]
  },
  {
   "cell_type": "markdown",
   "id": "d0c3a53f",
   "metadata": {},
   "source": [
    "**24.** Jetzt können wir das trainierte Modell erneut testen und bewerten."
   ]
  },
  {
   "cell_type": "code",
   "execution_count": null,
   "id": "608ae217",
   "metadata": {},
   "outputs": [],
   "source": [
    "y2 = svc.predict(X_test)"
   ]
  },
  {
   "cell_type": "code",
   "execution_count": null,
   "id": "4d3ad2b4",
   "metadata": {
    "scrolled": true
   },
   "outputs": [],
   "source": [
    "print(\"Bewertung des SVC:\\n\",classification_report(y_test,y2))"
   ]
  },
  {
   "cell_type": "markdown",
   "id": "994dd098",
   "metadata": {},
   "source": [
    "#### Was könnten Gründe für die geringen Genauigkeiten sein?\n",
    "#### Datensatz (angepasst) von: https://www.kaggle.com/shaunthesheep/microsoft-catsvsdogs-dataset"
   ]
  }
 ],
 "metadata": {
  "kernelspec": {
   "display_name": "Python 3",
   "language": "python",
   "name": "python3"
  },
  "language_info": {
   "codemirror_mode": {
    "name": "ipython",
    "version": 3
   },
   "file_extension": ".py",
   "mimetype": "text/x-python",
   "name": "python",
   "nbconvert_exporter": "python",
   "pygments_lexer": "ipython3",
   "version": "3.8.10"
  }
 },
 "nbformat": 4,
 "nbformat_minor": 5
}
