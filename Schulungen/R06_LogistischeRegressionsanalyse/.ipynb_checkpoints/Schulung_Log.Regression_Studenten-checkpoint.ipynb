{
 "cells": [
  {
   "cell_type": "markdown",
   "id": "dfb9839e",
   "metadata": {},
   "source": [
    "## 1.1 Importieren der notwendigen Pakete & Bibliotheken"
   ]
  },
  {
   "cell_type": "code",
   "execution_count": 9,
   "id": "763b2d5f",
   "metadata": {},
   "outputs": [],
   "source": [
    "import pandas as pd\n",
    "import numpy as np\n",
    "import matplotlib.pyplot as plt\n",
    "import seaborn as sns\n",
    "sns.set()\n",
    "%matplotlib inline"
   ]
  },
  {
   "cell_type": "markdown",
   "id": "c0859569",
   "metadata": {},
   "source": [
    "## 1.2 Lesen Sie den Data set 'titanic_clean.csv' und lassen Sie die ersten Zeilen ausgeben\n",
    "Hinweis: Der Titanic Datensatz liegt bereits bereinigt vor; Sie müssen keine Transformation vornehmen\n"
   ]
  },
  {
   "cell_type": "code",
   "execution_count": null,
   "id": "f1e253ec",
   "metadata": {},
   "outputs": [],
   "source": []
  },
  {
   "cell_type": "markdown",
   "id": "e00f0f4d",
   "metadata": {},
   "source": [
    "## 1.3 One Hot encoding für kategorische Varaiblen\n",
    "wandeln Sie mit Hilfe von One Hot Encoding die kategorischen Variablen-Spalten ['Pclass', 'Sex', 'Embarked', 'Title', 'GrpSize', 'FareCat', 'AgeCat','CabinType'] in 0 und 1 um und lassen die ersten Zeilen ausgeben.\n"
   ]
  },
  {
   "cell_type": "code",
   "execution_count": null,
   "id": "25f77e26",
   "metadata": {},
   "outputs": [],
   "source": []
  },
  {
   "cell_type": "code",
   "execution_count": 14,
   "id": "6cf517b3",
   "metadata": {},
   "outputs": [],
   "source": [
    "df = df_OneHot.copy()"
   ]
  },
  {
   "cell_type": "markdown",
   "id": "a71c3aec",
   "metadata": {},
   "source": [
    "## 1.4 Erstellen Sie abhängige & unabhängige Variablen"
   ]
  },
  {
   "cell_type": "code",
   "execution_count": null,
   "id": "e379f03f",
   "metadata": {},
   "outputs": [],
   "source": []
  },
  {
   "cell_type": "markdown",
   "id": "dd23f836",
   "metadata": {},
   "source": [
    "## 1.5 Teilen Sie den Datensatz in Test- & Trainingdatensatz auf"
   ]
  },
  {
   "cell_type": "code",
   "execution_count": 16,
   "id": "b9ea805e",
   "metadata": {},
   "outputs": [],
   "source": [
    "# Import the library\n",
    "from sklearn.model_selection import train_test_split"
   ]
  },
  {
   "cell_type": "code",
   "execution_count": null,
   "id": "d41cf43c",
   "metadata": {},
   "outputs": [],
   "source": []
  },
  {
   "cell_type": "markdown",
   "id": "9e2e4349",
   "metadata": {},
   "source": [
    "führen Sie folgende Codes durch und versuchen Sie Ergebnisse zu verstehen"
   ]
  },
  {
   "cell_type": "code",
   "execution_count": null,
   "id": "c1ffaefd",
   "metadata": {},
   "outputs": [],
   "source": [
    "xtrain.head()"
   ]
  },
  {
   "cell_type": "code",
   "execution_count": null,
   "id": "6e9ac75b",
   "metadata": {},
   "outputs": [],
   "source": [
    "ytrain.head()"
   ]
  },
  {
   "cell_type": "markdown",
   "id": "8ffe72aa",
   "metadata": {},
   "source": [
    "# 2. Anpassen der Logistischen Regression an das Trainingset"
   ]
  },
  {
   "cell_type": "markdown",
   "id": "558a02e3",
   "metadata": {},
   "source": [
    "### Erstellung & Trainieren des Modells"
   ]
  },
  {
   "cell_type": "code",
   "execution_count": 20,
   "id": "948c4f91",
   "metadata": {},
   "outputs": [],
   "source": [
    "from sklearn.linear_model import LogisticRegression"
   ]
  },
  {
   "cell_type": "code",
   "execution_count": 21,
   "id": "73957c8e",
   "metadata": {},
   "outputs": [],
   "source": [
    "lr_model = LogisticRegression(random_state=25)"
   ]
  },
  {
   "cell_type": "code",
   "execution_count": null,
   "id": "f4b57e4d",
   "metadata": {},
   "outputs": [],
   "source": [
    "lr_model.fit(xtrain, ytrain)"
   ]
  },
  {
   "cell_type": "markdown",
   "id": "e47244a6",
   "metadata": {},
   "source": [
    "### Sigmoide Kurve\n",
    "führen Sie das Code durch um die Sigmoide Kurve zeichnen zu lassen"
   ]
  },
  {
   "cell_type": "code",
   "execution_count": null,
   "id": "f68777a9",
   "metadata": {},
   "outputs": [],
   "source": [
    "#use seaborn.lmplot to graph the logistic regression function\n",
    "data = pd.read_csv('titanic_data.csv')\n",
    "data1 = data.copy()\n",
    "sns.lmplot(x=\"Fare\", y=\"Survived\", data=data1,\n",
    "           logistic=True, y_jitter=.03, height=15, aspect=1)\n",
    "plt.title('Logistic regression using fare price as estimator for survival outcome')\n",
    "plt.yticks([0, 1], ['Died', 'Survived'])"
   ]
  },
  {
   "cell_type": "markdown",
   "id": "b9718377",
   "metadata": {},
   "source": [
    "## 3. Vorhersage des Testergebnisses & Modellevaluation"
   ]
  },
  {
   "cell_type": "markdown",
   "id": "4ca8cbb2",
   "metadata": {},
   "source": [
    "Unser Modell ist auf dem Trainingssatz gut trainiert, daher werden wir das Ergebnis nun anhand von Testsatzdaten vorhersagen. Unten ist der Code dafür"
   ]
  },
  {
   "cell_type": "code",
   "execution_count": 51,
   "id": "ce257fa0",
   "metadata": {},
   "outputs": [],
   "source": [
    "pred = lr_model.predict(xtest)"
   ]
  },
  {
   "cell_type": "code",
   "execution_count": null,
   "id": "80de2012",
   "metadata": {},
   "outputs": [],
   "source": [
    "pred[0:9]"
   ]
  },
  {
   "cell_type": "markdown",
   "id": "ad4713df",
   "metadata": {},
   "source": [
    "Vorassage der Auftrittswahrscheinlichkeiten von 0 & 1"
   ]
  },
  {
   "cell_type": "code",
   "execution_count": 53,
   "id": "ebc48fe0",
   "metadata": {},
   "outputs": [],
   "source": [
    "pred_prb = lr_model.predict_proba(xtest)"
   ]
  },
  {
   "cell_type": "code",
   "execution_count": null,
   "id": "cc998f37",
   "metadata": {},
   "outputs": [],
   "source": [
    "pred_prb[0:9, 0:9]"
   ]
  },
  {
   "cell_type": "markdown",
   "id": "ea28a6dd",
   "metadata": {},
   "source": [
    "Erster Wert in Numpy Array ist Wahrscheinlichkeit von 0 und der zweite die Wahrscheinlichkeit von 1"
   ]
  },
  {
   "cell_type": "markdown",
   "id": "4458cb84",
   "metadata": {},
   "source": [
    "Mit dem folgenden Code werden die Auftrittswahrscheinlichkeiten von 1 vorausgesagt und extrahiert"
   ]
  },
  {
   "cell_type": "code",
   "execution_count": 55,
   "id": "1bc61a50",
   "metadata": {},
   "outputs": [],
   "source": [
    "lr_pred_prb = lr_model.predict_proba(xtest)[:, 1]"
   ]
  },
  {
   "cell_type": "markdown",
   "id": "77dc5267",
   "metadata": {},
   "source": [
    "### Vergleich der vorhandenen und vorausgesagten Daten"
   ]
  },
  {
   "cell_type": "code",
   "execution_count": null,
   "id": "6baad079",
   "metadata": {},
   "outputs": [],
   "source": [
    "xtest.head()"
   ]
  },
  {
   "cell_type": "code",
   "execution_count": null,
   "id": "4e065492",
   "metadata": {},
   "outputs": [],
   "source": [
    "xt = xtest.copy()\n",
    "xt['pred'] = pred\n",
    "xt['pred_probability'] = lr_pred_prb\n",
    "xt['actual'] = ytest\n",
    "xt.head()"
   ]
  },
  {
   "cell_type": "markdown",
   "id": "0c6b904b",
   "metadata": {},
   "source": [
    "## 4. Testgenauigkeit des Ergebnisses\n",
    "\n",
    "### 4.1 Confusion Matrix\n",
    "Nun erstellen wir hier die Confusion Matrix, um die Richtigkeit der Klassifizierung zu überprüfen"
   ]
  },
  {
   "cell_type": "code",
   "execution_count": 58,
   "id": "e4aa52fe",
   "metadata": {},
   "outputs": [],
   "source": [
    "from sklearn.metrics import confusion_matrix"
   ]
  },
  {
   "cell_type": "markdown",
   "id": "6635d3b0",
   "metadata": {},
   "source": [
    "### !Aufgabe!\n",
    "Die Funktion verwendet zwei Parameter, hauptsächlich die tatsächlichen Werte und die vom Klassifizierer zurückgegebene Zielwert ; Setzen Sie die zugehörige Parameter ein"
   ]
  },
  {
   "cell_type": "code",
   "execution_count": null,
   "id": "4cd1a69f",
   "metadata": {},
   "outputs": [],
   "source": []
  },
  {
   "cell_type": "code",
   "execution_count": null,
   "id": "4f34c847",
   "metadata": {},
   "outputs": [],
   "source": [
    "confusion_matrix(ytest, pred).ravel()"
   ]
  },
  {
   "cell_type": "code",
   "execution_count": null,
   "id": "30f755c6",
   "metadata": {},
   "outputs": [],
   "source": [
    "tn, fp, fn, tp = confusion_matrix(ytest, pred).ravel()\n",
    "conf_matrix = pd.DataFrame({\"pred_Survived\": [tp, fp], \"pred_Not Survived\": [\n",
    "                           fn, tn]}, index=[\"Survived\", \"Not Survived\"])\n",
    "conf_matrix"
   ]
  },
  {
   "cell_type": "markdown",
   "id": "dc0df01e",
   "metadata": {},
   "source": [
    "### Accuracy (Berechnungsgenauigkeit)"
   ]
  },
  {
   "cell_type": "code",
   "execution_count": 62,
   "id": "b0b401ae",
   "metadata": {},
   "outputs": [],
   "source": [
    "from sklearn.metrics import accuracy_score"
   ]
  },
  {
   "cell_type": "markdown",
   "id": "83d2b2a7",
   "metadata": {},
   "source": [
    "### !Aufgabe! \n",
    "Berechnen Sie mit geeignetem Code das Accuracy!"
   ]
  },
  {
   "cell_type": "code",
   "execution_count": null,
   "id": "cc92446f",
   "metadata": {},
   "outputs": [],
   "source": []
  },
  {
   "cell_type": "code",
   "execution_count": null,
   "id": "a67bd97d",
   "metadata": {},
   "outputs": [],
   "source": [
    "accuracy_lr = accuracy_score(ytest, pred)\n",
    "print(\"Accuracy by built-in function: {}\".format(accuracy_lr))"
   ]
  },
  {
   "cell_type": "markdown",
   "id": "c43ca2d5",
   "metadata": {},
   "source": [
    "### Modellgenauigkeit"
   ]
  },
  {
   "cell_type": "code",
   "execution_count": 65,
   "id": "5ae48773",
   "metadata": {},
   "outputs": [],
   "source": [
    "from sklearn.metrics import precision_score"
   ]
  },
  {
   "cell_type": "code",
   "execution_count": null,
   "id": "1205a011",
   "metadata": {},
   "outputs": [],
   "source": [
    "precision_1 = tp / (tp + fp)\n",
    "print(\"Precision for 1: {}\".format(precision_1))\n",
    "precision_0 = tn / (tn + fn)\n",
    "print(\"Precision for 0: {}\".format(precision_0))"
   ]
  },
  {
   "cell_type": "code",
   "execution_count": null,
   "id": "482a183f",
   "metadata": {},
   "outputs": [],
   "source": [
    "precision_lr = precision_score(ytest, pred)\n",
    "print(\"Precision by built-in function: {}\".format(precision_lr))"
   ]
  },
  {
   "cell_type": "markdown",
   "id": "4ec9d226",
   "metadata": {},
   "source": [
    "### Recall"
   ]
  },
  {
   "cell_type": "code",
   "execution_count": 68,
   "id": "c6dc16ac",
   "metadata": {},
   "outputs": [],
   "source": [
    "from sklearn.metrics import recall_score"
   ]
  },
  {
   "cell_type": "code",
   "execution_count": null,
   "id": "3966040b",
   "metadata": {},
   "outputs": [],
   "source": [
    "recall_1 = tp / (tp + fn)\n",
    "print(\"Recall for 1: {}\".format(recall_1))\n",
    "recall_0 = tn / (tn + fp)\n",
    "print(\"Recall for 0: {}\".format(recall_0))"
   ]
  },
  {
   "cell_type": "code",
   "execution_count": null,
   "id": "d81ad24e",
   "metadata": {},
   "outputs": [],
   "source": [
    "recall_lr = recall_score(ytest, pred)\n",
    "print(\"Recall by built-in function: {}\".format(recall_lr))"
   ]
  },
  {
   "cell_type": "markdown",
   "id": "8863a4f0",
   "metadata": {},
   "source": [
    "### F1 Score"
   ]
  },
  {
   "cell_type": "code",
   "execution_count": 71,
   "id": "371a286e",
   "metadata": {},
   "outputs": [],
   "source": [
    "from sklearn.metrics import f1_score"
   ]
  },
  {
   "cell_type": "code",
   "execution_count": null,
   "id": "73b699d1",
   "metadata": {},
   "outputs": [],
   "source": [
    "f1_1 = (2 * precision_1 * recall_1) / (precision_1 + recall_1)\n",
    "print(\"F1 Score for 1: {}\".format(f1_1))\n",
    "f1_0 = (2 * precision_0 * recall_0) / (precision_0 + recall_0)\n",
    "print(\"F1 Score for 0: {}\".format(f1_0))"
   ]
  },
  {
   "cell_type": "code",
   "execution_count": null,
   "id": "ac187bfe",
   "metadata": {},
   "outputs": [],
   "source": [
    "f1_lr = f1_score(ytest, pred)\n",
    "print(\"F1 Score by built-in function: {}\".format(f1_lr))"
   ]
  },
  {
   "cell_type": "markdown",
   "id": "226d9df4",
   "metadata": {},
   "source": [
    "## 5. Visualisierung des Testergebnisses\n",
    "### Klassenverteilung in Training Data\n",
    "### !Aufgabe!\n",
    "Wie würden Sie hier die Ausgabe bewerten?"
   ]
  },
  {
   "cell_type": "code",
   "execution_count": null,
   "id": "5c5e18f5",
   "metadata": {},
   "outputs": [],
   "source": [
    "ytrain.value_counts()"
   ]
  },
  {
   "cell_type": "markdown",
   "id": "a9b10f81",
   "metadata": {},
   "source": []
  },
  {
   "cell_type": "markdown",
   "id": "c03fa0cb",
   "metadata": {},
   "source": [
    "### Classification Report"
   ]
  },
  {
   "cell_type": "code",
   "execution_count": 75,
   "id": "b17da955",
   "metadata": {},
   "outputs": [],
   "source": [
    "from sklearn.metrics import classification_report"
   ]
  },
  {
   "cell_type": "code",
   "execution_count": null,
   "id": "66a4f724",
   "metadata": {},
   "outputs": [],
   "source": [
    "# get report of precision recall and f1 score\n",
    "print(classification_report(ytest, pred))\n",
    "# macro avg"
   ]
  },
  {
   "cell_type": "markdown",
   "id": "38827e5d",
   "metadata": {},
   "source": [
    "## Zusatzaufgabe :\n",
    "Was sagt das Classification Report aus?"
   ]
  },
  {
   "cell_type": "code",
   "execution_count": null,
   "id": "f805ca62",
   "metadata": {},
   "outputs": [],
   "source": []
  }
 ],
 "metadata": {
  "kernelspec": {
   "display_name": "Python 3",
   "language": "python",
   "name": "python3"
  },
  "language_info": {
   "codemirror_mode": {
    "name": "ipython",
    "version": 3
   },
   "file_extension": ".py",
   "mimetype": "text/x-python",
   "name": "python",
   "nbconvert_exporter": "python",
   "pygments_lexer": "ipython3",
   "version": "3.8.8"
  }
 },
 "nbformat": 4,
 "nbformat_minor": 5
}
