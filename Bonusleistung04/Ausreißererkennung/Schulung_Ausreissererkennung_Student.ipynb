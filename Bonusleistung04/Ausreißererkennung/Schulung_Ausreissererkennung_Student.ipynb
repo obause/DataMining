{
 "cells": [
  {
   "cell_type": "markdown",
   "metadata": {},
   "source": [
    "# Schulung Ausreißererkennung - DBSCAN und Prophet"
   ]
  },
  {
   "cell_type": "markdown",
   "metadata": {},
   "source": [
    "In dieser Schulung soll der Umgang mit dem DBSCAN gelernt und angewandt werden. Zusätzlich kann der Prophet Algorithmus beispielhaft benutzt werden."
   ]
  },
  {
   "cell_type": "markdown",
   "metadata": {},
   "source": [
    "### 1. DBSCAN"
   ]
  },
  {
   "cell_type": "markdown",
   "metadata": {},
   "source": [
    "In dem vorliegenden Datensatz sind verschiedene Fischarten mit deren Gewicht (in Gramm), Größe (in cm) und Lebensraum aufgelistet. Ziel der Übung ist es die Fische zu erkennen, die untypische Merkmale aufweisen.\n",
    "Dies soll mit Hilfe des DBSCANs realisiert werden. Untypische Datensätze (Ausreißer) können dann näher betrachtet werden und sofern notwendig bearbeitet werden. (Handelt es sich um fehlerhafte Daten oder um Zufälle?)"
   ]
  },
  {
   "cell_type": "markdown",
   "metadata": {},
   "source": [
    "Zuerst werden die notwendigen Standardbibliotheken importiert. "
   ]
  },
  {
   "cell_type": "code",
   "execution_count": 1,
   "metadata": {},
   "outputs": [],
   "source": [
    "import pandas as pd\n",
    "import numpy as np \n",
    "import matplotlib.pyplot as plt"
   ]
  },
  {
   "cell_type": "markdown",
   "metadata": {},
   "source": [
    "Nun soll der Datensatz Fischarten.xslx eingelesen werden (pd.read_excel) und die Spalte Index soll als Index übernommen werden."
   ]
  },
  {
   "cell_type": "code",
   "execution_count": 3,
   "metadata": {},
   "outputs": [
    {
     "data": {
      "text/html": [
       "<div>\n",
       "<style scoped>\n",
       "    .dataframe tbody tr th:only-of-type {\n",
       "        vertical-align: middle;\n",
       "    }\n",
       "\n",
       "    .dataframe tbody tr th {\n",
       "        vertical-align: top;\n",
       "    }\n",
       "\n",
       "    .dataframe thead th {\n",
       "        text-align: right;\n",
       "    }\n",
       "</style>\n",
       "<table border=\"1\" class=\"dataframe\">\n",
       "  <thead>\n",
       "    <tr style=\"text-align: right;\">\n",
       "      <th></th>\n",
       "      <th>Fisch</th>\n",
       "      <th>Gewicht</th>\n",
       "      <th>Gewässer</th>\n",
       "      <th>Größe</th>\n",
       "    </tr>\n",
       "    <tr>\n",
       "      <th>Index</th>\n",
       "      <th></th>\n",
       "      <th></th>\n",
       "      <th></th>\n",
       "      <th></th>\n",
       "    </tr>\n",
       "  </thead>\n",
       "  <tbody>\n",
       "    <tr>\n",
       "      <th>1</th>\n",
       "      <td>Bullenhai</td>\n",
       "      <td>76882</td>\n",
       "      <td>Salzwasser</td>\n",
       "      <td>158</td>\n",
       "    </tr>\n",
       "    <tr>\n",
       "      <th>2</th>\n",
       "      <td>Wels</td>\n",
       "      <td>27723</td>\n",
       "      <td>Suesswasser</td>\n",
       "      <td>132</td>\n",
       "    </tr>\n",
       "    <tr>\n",
       "      <th>3</th>\n",
       "      <td>Bullenhai</td>\n",
       "      <td>66112</td>\n",
       "      <td>Salzwasser</td>\n",
       "      <td>155</td>\n",
       "    </tr>\n",
       "    <tr>\n",
       "      <th>4</th>\n",
       "      <td>Karpfen</td>\n",
       "      <td>41555</td>\n",
       "      <td>Suesswasser</td>\n",
       "      <td>100</td>\n",
       "    </tr>\n",
       "    <tr>\n",
       "      <th>5</th>\n",
       "      <td>Zander</td>\n",
       "      <td>1766</td>\n",
       "      <td>Suesswasser</td>\n",
       "      <td>65</td>\n",
       "    </tr>\n",
       "    <tr>\n",
       "      <th>...</th>\n",
       "      <td>...</td>\n",
       "      <td>...</td>\n",
       "      <td>...</td>\n",
       "      <td>...</td>\n",
       "    </tr>\n",
       "    <tr>\n",
       "      <th>151</th>\n",
       "      <td>Bullenhai</td>\n",
       "      <td>62004</td>\n",
       "      <td>Salzwasser</td>\n",
       "      <td>121</td>\n",
       "    </tr>\n",
       "    <tr>\n",
       "      <th>152</th>\n",
       "      <td>Forelle</td>\n",
       "      <td>8162</td>\n",
       "      <td>Suesswasser</td>\n",
       "      <td>42</td>\n",
       "    </tr>\n",
       "    <tr>\n",
       "      <th>153</th>\n",
       "      <td>Karpfen</td>\n",
       "      <td>39862</td>\n",
       "      <td>Suesswasser</td>\n",
       "      <td>63</td>\n",
       "    </tr>\n",
       "    <tr>\n",
       "      <th>154</th>\n",
       "      <td>Wels</td>\n",
       "      <td>38145</td>\n",
       "      <td>Suesswasser</td>\n",
       "      <td>141</td>\n",
       "    </tr>\n",
       "    <tr>\n",
       "      <th>155</th>\n",
       "      <td>Rotauge</td>\n",
       "      <td>12000</td>\n",
       "      <td>Suesswasser</td>\n",
       "      <td>21</td>\n",
       "    </tr>\n",
       "  </tbody>\n",
       "</table>\n",
       "<p>155 rows × 4 columns</p>\n",
       "</div>"
      ],
      "text/plain": [
       "           Fisch  Gewicht     Gewässer  Größe\n",
       "Index                                        \n",
       "1      Bullenhai    76882   Salzwasser    158\n",
       "2           Wels    27723  Suesswasser    132\n",
       "3      Bullenhai    66112   Salzwasser    155\n",
       "4        Karpfen    41555  Suesswasser    100\n",
       "5         Zander     1766  Suesswasser     65\n",
       "...          ...      ...          ...    ...\n",
       "151    Bullenhai    62004   Salzwasser    121\n",
       "152      Forelle     8162  Suesswasser     42\n",
       "153      Karpfen    39862  Suesswasser     63\n",
       "154         Wels    38145  Suesswasser    141\n",
       "155      Rotauge    12000  Suesswasser     21\n",
       "\n",
       "[155 rows x 4 columns]"
      ]
     },
     "execution_count": 3,
     "metadata": {},
     "output_type": "execute_result"
    }
   ],
   "source": [
    "df = pd.read_excel(\"Fischarten.xlsx\", index_col=\"Index\")\n",
    "df"
   ]
  },
  {
   "cell_type": "markdown",
   "metadata": {},
   "source": [
    "Der eingelesene Datensatz soll um seine vorerst nicht notwendigen Spalten (Fisch und Gewässer) gekürzt werden und unter neuem Namen abgespeichert werden."
   ]
  },
  {
   "cell_type": "code",
   "execution_count": 4,
   "metadata": {},
   "outputs": [
    {
     "data": {
      "text/html": [
       "<div>\n",
       "<style scoped>\n",
       "    .dataframe tbody tr th:only-of-type {\n",
       "        vertical-align: middle;\n",
       "    }\n",
       "\n",
       "    .dataframe tbody tr th {\n",
       "        vertical-align: top;\n",
       "    }\n",
       "\n",
       "    .dataframe thead th {\n",
       "        text-align: right;\n",
       "    }\n",
       "</style>\n",
       "<table border=\"1\" class=\"dataframe\">\n",
       "  <thead>\n",
       "    <tr style=\"text-align: right;\">\n",
       "      <th></th>\n",
       "      <th>Gewicht</th>\n",
       "      <th>Größe</th>\n",
       "    </tr>\n",
       "    <tr>\n",
       "      <th>Index</th>\n",
       "      <th></th>\n",
       "      <th></th>\n",
       "    </tr>\n",
       "  </thead>\n",
       "  <tbody>\n",
       "    <tr>\n",
       "      <th>1</th>\n",
       "      <td>76882</td>\n",
       "      <td>158</td>\n",
       "    </tr>\n",
       "    <tr>\n",
       "      <th>2</th>\n",
       "      <td>27723</td>\n",
       "      <td>132</td>\n",
       "    </tr>\n",
       "    <tr>\n",
       "      <th>3</th>\n",
       "      <td>66112</td>\n",
       "      <td>155</td>\n",
       "    </tr>\n",
       "    <tr>\n",
       "      <th>4</th>\n",
       "      <td>41555</td>\n",
       "      <td>100</td>\n",
       "    </tr>\n",
       "    <tr>\n",
       "      <th>5</th>\n",
       "      <td>1766</td>\n",
       "      <td>65</td>\n",
       "    </tr>\n",
       "    <tr>\n",
       "      <th>...</th>\n",
       "      <td>...</td>\n",
       "      <td>...</td>\n",
       "    </tr>\n",
       "    <tr>\n",
       "      <th>151</th>\n",
       "      <td>62004</td>\n",
       "      <td>121</td>\n",
       "    </tr>\n",
       "    <tr>\n",
       "      <th>152</th>\n",
       "      <td>8162</td>\n",
       "      <td>42</td>\n",
       "    </tr>\n",
       "    <tr>\n",
       "      <th>153</th>\n",
       "      <td>39862</td>\n",
       "      <td>63</td>\n",
       "    </tr>\n",
       "    <tr>\n",
       "      <th>154</th>\n",
       "      <td>38145</td>\n",
       "      <td>141</td>\n",
       "    </tr>\n",
       "    <tr>\n",
       "      <th>155</th>\n",
       "      <td>12000</td>\n",
       "      <td>21</td>\n",
       "    </tr>\n",
       "  </tbody>\n",
       "</table>\n",
       "<p>155 rows × 2 columns</p>\n",
       "</div>"
      ],
      "text/plain": [
       "       Gewicht  Größe\n",
       "Index                \n",
       "1        76882    158\n",
       "2        27723    132\n",
       "3        66112    155\n",
       "4        41555    100\n",
       "5         1766     65\n",
       "...        ...    ...\n",
       "151      62004    121\n",
       "152       8162     42\n",
       "153      39862     63\n",
       "154      38145    141\n",
       "155      12000     21\n",
       "\n",
       "[155 rows x 2 columns]"
      ]
     },
     "execution_count": 4,
     "metadata": {},
     "output_type": "execute_result"
    }
   ],
   "source": [
    "df_neu = df.drop(columns=['Fisch', 'Gewässer'], axis = 1)\n",
    "df_neu"
   ]
  },
  {
   "cell_type": "markdown",
   "metadata": {},
   "source": [
    "Da der DBSCAN ein Clustering Algorithmus ist, ist es sinnvoll sich einen Überblick über die Daten zu machen. Hierfür soll ein Scatterplot für die beiden Merkmale Größe und Gewicht erstellt werden (plt.scatter). Wie viele Cluster sind zu erkennen? Sind schon Ausreißer erkennbar? Wie viele Fischarten sind im Datensatz vorhanden? (df['Fisch'].unique())"
   ]
  },
  {
   "cell_type": "code",
   "execution_count": 7,
   "metadata": {},
   "outputs": [
    {
     "data": {
      "text/plain": [
       "<matplotlib.collections.PathCollection at 0x7fa1f132ff40>"
      ]
     },
     "execution_count": 7,
     "metadata": {},
     "output_type": "execute_result"
    },
    {
     "data": {
      "image/png": "[encoded data removed]",
      "text/plain": [
       "<Figure size 432x288 with 1 Axes>"
      ]
     },
     "metadata": {
      "needs_background": "light"
     },
     "output_type": "display_data"
    }
   ],
   "source": [
    "plt.scatter(df_neu['Gewicht'], df_neu['Größe'])"
   ]
  },
  {
   "cell_type": "code",
   "execution_count": 5,
   "metadata": {},
   "outputs": [
    {
     "data": {
      "text/plain": [
       "array(['Bullenhai', 'Wels', 'Karpfen', 'Zander', 'Forelle', 'Rotauge'],\n",
       "      dtype=object)"
      ]
     },
     "execution_count": 5,
     "metadata": {},
     "output_type": "execute_result"
    }
   ],
   "source": [
    "df['Fisch'].unique()"
   ]
  },
  {
   "cell_type": "markdown",
   "metadata": {},
   "source": [
    "Um einen einfacheren Umgang mit dem DBSCAN zu ermöglichen, ist es sinnvoll die Daten mit dem MinMaxScaler zu transformieren (zu Werten zwischen 0 und 1). Dieser Schritt sollte aus den Übungen bekannt sein (bei Problemen schaut nochmal in Übung 8 Fortnite Daten Clustering vorbei (8.2)). Der skalierte Dataframe soll hier df_scaled heißen."
   ]
  },
  {
   "cell_type": "code",
   "execution_count": 19,
   "metadata": {},
   "outputs": [
    {
     "data": {
      "text/html": [
       "<div>\n",
       "<style scoped>\n",
       "    .dataframe tbody tr th:only-of-type {\n",
       "        vertical-align: middle;\n",
       "    }\n",
       "\n",
       "    .dataframe tbody tr th {\n",
       "        vertical-align: top;\n",
       "    }\n",
       "\n",
       "    .dataframe thead th {\n",
       "        text-align: right;\n",
       "    }\n",
       "</style>\n",
       "<table border=\"1\" class=\"dataframe\">\n",
       "  <thead>\n",
       "    <tr style=\"text-align: right;\">\n",
       "      <th></th>\n",
       "      <th>Gewicht</th>\n",
       "      <th>Größe</th>\n",
       "    </tr>\n",
       "    <tr>\n",
       "      <th>Index</th>\n",
       "      <th></th>\n",
       "      <th></th>\n",
       "    </tr>\n",
       "  </thead>\n",
       "  <tbody>\n",
       "    <tr>\n",
       "      <th>1</th>\n",
       "      <td>0.968433</td>\n",
       "      <td>0.980132</td>\n",
       "    </tr>\n",
       "    <tr>\n",
       "      <th>2</th>\n",
       "      <td>0.348701</td>\n",
       "      <td>0.807947</td>\n",
       "    </tr>\n",
       "    <tr>\n",
       "      <th>3</th>\n",
       "      <td>0.832659</td>\n",
       "      <td>0.960265</td>\n",
       "    </tr>\n",
       "    <tr>\n",
       "      <th>4</th>\n",
       "      <td>0.523077</td>\n",
       "      <td>0.596026</td>\n",
       "    </tr>\n",
       "    <tr>\n",
       "      <th>5</th>\n",
       "      <td>0.021469</td>\n",
       "      <td>0.364238</td>\n",
       "    </tr>\n",
       "  </tbody>\n",
       "</table>\n",
       "</div>"
      ],
      "text/plain": [
       "        Gewicht     Größe\n",
       "Index                    \n",
       "1      0.968433  0.980132\n",
       "2      0.348701  0.807947\n",
       "3      0.832659  0.960265\n",
       "4      0.523077  0.596026\n",
       "5      0.021469  0.364238"
      ]
     },
     "execution_count": 19,
     "metadata": {},
     "output_type": "execute_result"
    }
   ],
   "source": [
    "from sklearn.preprocessing import MinMaxScaler\n",
    "\n",
    "scaler = MinMaxScaler()\n",
    "df_scaled = pd.DataFrame(scaler.fit_transform(df_neu), columns = df_neu.columns, index = df_neu.index)\n",
    "df_scaled.head()\n",
    "\n",
    "#scaler = MinMaxScaler()\n",
    "#d_scaled = scaler.fit_transform(df_neu)\n",
    "#df_scaled = pd.DataFrame(d_scaled)\n",
    "#df_scaled.head()"
   ]
  },
  {
   "cell_type": "markdown",
   "metadata": {},
   "source": [
    "Der DBSCAN kann folgendermaßen importiert werden (from sklearn.cluster import DBSCAN) und mit folgendem Befehl ausgeführt werden: clustering = DBSCAN(eps=Ein Wert, min_samples=Anderer Wert).fit(df_scaled). Der Wert für eps steht für den Radius, in dem nach Nachbarn gesucht wird und min_samples steht für die Mindestanzahl an Nachbarn, die für einen Cluster benötigt wird. (Beachte: Alle Werte sind nach dem MinMaxScaler zwischen 0 und 1. eps sollte also auch zwischen 0 und 1 liegen.)"
   ]
  },
  {
   "cell_type": "code",
   "execution_count": 49,
   "metadata": {},
   "outputs": [],
   "source": [
    "from sklearn.cluster import DBSCAN\n",
    "\n",
    "clustering = DBSCAN(eps=0.1, min_samples=10).fit(df_scaled)"
   ]
  },
  {
   "cell_type": "code",
   "execution_count": 50,
   "metadata": {},
   "outputs": [
    {
     "data": {
      "text/html": [
       "<div>\n",
       "<style scoped>\n",
       "    .dataframe tbody tr th:only-of-type {\n",
       "        vertical-align: middle;\n",
       "    }\n",
       "\n",
       "    .dataframe tbody tr th {\n",
       "        vertical-align: top;\n",
       "    }\n",
       "\n",
       "    .dataframe thead th {\n",
       "        text-align: right;\n",
       "    }\n",
       "</style>\n",
       "<table border=\"1\" class=\"dataframe\">\n",
       "  <thead>\n",
       "    <tr style=\"text-align: right;\">\n",
       "      <th></th>\n",
       "      <th>0</th>\n",
       "    </tr>\n",
       "  </thead>\n",
       "  <tbody>\n",
       "    <tr>\n",
       "      <th>count</th>\n",
       "      <td>155.000000</td>\n",
       "    </tr>\n",
       "    <tr>\n",
       "      <th>mean</th>\n",
       "      <td>1.922581</td>\n",
       "    </tr>\n",
       "    <tr>\n",
       "      <th>std</th>\n",
       "      <td>1.224933</td>\n",
       "    </tr>\n",
       "    <tr>\n",
       "      <th>min</th>\n",
       "      <td>-1.000000</td>\n",
       "    </tr>\n",
       "    <tr>\n",
       "      <th>25%</th>\n",
       "      <td>1.000000</td>\n",
       "    </tr>\n",
       "    <tr>\n",
       "      <th>50%</th>\n",
       "      <td>2.000000</td>\n",
       "    </tr>\n",
       "    <tr>\n",
       "      <th>75%</th>\n",
       "      <td>3.000000</td>\n",
       "    </tr>\n",
       "    <tr>\n",
       "      <th>max</th>\n",
       "      <td>3.000000</td>\n",
       "    </tr>\n",
       "  </tbody>\n",
       "</table>\n",
       "</div>"
      ],
      "text/plain": [
       "                0\n",
       "count  155.000000\n",
       "mean     1.922581\n",
       "std      1.224933\n",
       "min     -1.000000\n",
       "25%      1.000000\n",
       "50%      2.000000\n",
       "75%      3.000000\n",
       "max      3.000000"
      ]
     },
     "execution_count": 50,
     "metadata": {},
     "output_type": "execute_result"
    }
   ],
   "source": [
    "pd.DataFrame(clustering.labels_).describe()"
   ]
  },
  {
   "cell_type": "markdown",
   "metadata": {},
   "source": [
    "Die clustering.labels_ sollen einem neuen Dataframe (df_final) hinzugefügt werden als Spalte Cluster, genauso wie die Spalte Fisch, die anfänglich entfernt wurde. Außerdem sollen die Spalten Gewicht und Größe enthalten sein. (MinMax Skaliert)"
   ]
  },
  {
   "cell_type": "code",
   "execution_count": 51,
   "metadata": {},
   "outputs": [
    {
     "data": {
      "text/html": [
       "<div>\n",
       "<style scoped>\n",
       "    .dataframe tbody tr th:only-of-type {\n",
       "        vertical-align: middle;\n",
       "    }\n",
       "\n",
       "    .dataframe tbody tr th {\n",
       "        vertical-align: top;\n",
       "    }\n",
       "\n",
       "    .dataframe thead th {\n",
       "        text-align: right;\n",
       "    }\n",
       "</style>\n",
       "<table border=\"1\" class=\"dataframe\">\n",
       "  <thead>\n",
       "    <tr style=\"text-align: right;\">\n",
       "      <th></th>\n",
       "      <th>0</th>\n",
       "      <th>Fisch</th>\n",
       "      <th>Gewicht</th>\n",
       "      <th>Größe</th>\n",
       "      <th>Cluster</th>\n",
       "    </tr>\n",
       "  </thead>\n",
       "  <tbody>\n",
       "    <tr>\n",
       "      <th>0</th>\n",
       "      <td>0</td>\n",
       "      <td>NaN</td>\n",
       "      <td>NaN</td>\n",
       "      <td>NaN</td>\n",
       "      <td>1</td>\n",
       "    </tr>\n",
       "    <tr>\n",
       "      <th>1</th>\n",
       "      <td>1</td>\n",
       "      <td>Bullenhai</td>\n",
       "      <td>0.968433</td>\n",
       "      <td>0.980132</td>\n",
       "      <td>0</td>\n",
       "    </tr>\n",
       "    <tr>\n",
       "      <th>2</th>\n",
       "      <td>0</td>\n",
       "      <td>Wels</td>\n",
       "      <td>0.348701</td>\n",
       "      <td>0.807947</td>\n",
       "      <td>1</td>\n",
       "    </tr>\n",
       "    <tr>\n",
       "      <th>3</th>\n",
       "      <td>2</td>\n",
       "      <td>Bullenhai</td>\n",
       "      <td>0.832659</td>\n",
       "      <td>0.960265</td>\n",
       "      <td>2</td>\n",
       "    </tr>\n",
       "    <tr>\n",
       "      <th>4</th>\n",
       "      <td>3</td>\n",
       "      <td>Karpfen</td>\n",
       "      <td>0.523077</td>\n",
       "      <td>0.596026</td>\n",
       "      <td>3</td>\n",
       "    </tr>\n",
       "    <tr>\n",
       "      <th>5</th>\n",
       "      <td>3</td>\n",
       "      <td>Zander</td>\n",
       "      <td>0.021469</td>\n",
       "      <td>0.364238</td>\n",
       "      <td>3</td>\n",
       "    </tr>\n",
       "    <tr>\n",
       "      <th>6</th>\n",
       "      <td>2</td>\n",
       "      <td>Forelle</td>\n",
       "      <td>0.012808</td>\n",
       "      <td>0.218543</td>\n",
       "      <td>2</td>\n",
       "    </tr>\n",
       "    <tr>\n",
       "      <th>7</th>\n",
       "      <td>0</td>\n",
       "      <td>Karpfen</td>\n",
       "      <td>0.513886</td>\n",
       "      <td>0.589404</td>\n",
       "      <td>1</td>\n",
       "    </tr>\n",
       "    <tr>\n",
       "      <th>8</th>\n",
       "      <td>0</td>\n",
       "      <td>Bullenhai</td>\n",
       "      <td>0.882052</td>\n",
       "      <td>0.927152</td>\n",
       "      <td>1</td>\n",
       "    </tr>\n",
       "    <tr>\n",
       "      <th>9</th>\n",
       "      <td>3</td>\n",
       "      <td>Bullenhai</td>\n",
       "      <td>0.844509</td>\n",
       "      <td>0.973510</td>\n",
       "      <td>3</td>\n",
       "    </tr>\n",
       "    <tr>\n",
       "      <th>10</th>\n",
       "      <td>0</td>\n",
       "      <td>Forelle</td>\n",
       "      <td>0.010199</td>\n",
       "      <td>0.231788</td>\n",
       "      <td>1</td>\n",
       "    </tr>\n",
       "    <tr>\n",
       "      <th>11</th>\n",
       "      <td>3</td>\n",
       "      <td>Bullenhai</td>\n",
       "      <td>0.874248</td>\n",
       "      <td>0.874172</td>\n",
       "      <td>3</td>\n",
       "    </tr>\n",
       "    <tr>\n",
       "      <th>12</th>\n",
       "      <td>1</td>\n",
       "      <td>Forelle</td>\n",
       "      <td>0.008320</td>\n",
       "      <td>0.238411</td>\n",
       "      <td>0</td>\n",
       "    </tr>\n",
       "    <tr>\n",
       "      <th>13</th>\n",
       "      <td>1</td>\n",
       "      <td>Wels</td>\n",
       "      <td>0.247457</td>\n",
       "      <td>0.874172</td>\n",
       "      <td>0</td>\n",
       "    </tr>\n",
       "    <tr>\n",
       "      <th>14</th>\n",
       "      <td>3</td>\n",
       "      <td>Wels</td>\n",
       "      <td>0.317058</td>\n",
       "      <td>0.927152</td>\n",
       "      <td>3</td>\n",
       "    </tr>\n",
       "    <tr>\n",
       "      <th>15</th>\n",
       "      <td>2</td>\n",
       "      <td>Forelle</td>\n",
       "      <td>0.006568</td>\n",
       "      <td>0.238411</td>\n",
       "      <td>2</td>\n",
       "    </tr>\n",
       "    <tr>\n",
       "      <th>16</th>\n",
       "      <td>1</td>\n",
       "      <td>Karpfen</td>\n",
       "      <td>0.553698</td>\n",
       "      <td>0.470199</td>\n",
       "      <td>0</td>\n",
       "    </tr>\n",
       "    <tr>\n",
       "      <th>17</th>\n",
       "      <td>3</td>\n",
       "      <td>Wels</td>\n",
       "      <td>0.267980</td>\n",
       "      <td>0.913907</td>\n",
       "      <td>3</td>\n",
       "    </tr>\n",
       "    <tr>\n",
       "      <th>18</th>\n",
       "      <td>3</td>\n",
       "      <td>Forelle</td>\n",
       "      <td>0.007148</td>\n",
       "      <td>0.139073</td>\n",
       "      <td>3</td>\n",
       "    </tr>\n",
       "    <tr>\n",
       "      <th>19</th>\n",
       "      <td>1</td>\n",
       "      <td>Zander</td>\n",
       "      <td>0.013224</td>\n",
       "      <td>0.238411</td>\n",
       "      <td>0</td>\n",
       "    </tr>\n",
       "    <tr>\n",
       "      <th>20</th>\n",
       "      <td>0</td>\n",
       "      <td>Wels</td>\n",
       "      <td>0.303607</td>\n",
       "      <td>0.834437</td>\n",
       "      <td>1</td>\n",
       "    </tr>\n",
       "    <tr>\n",
       "      <th>21</th>\n",
       "      <td>3</td>\n",
       "      <td>Bullenhai</td>\n",
       "      <td>0.854935</td>\n",
       "      <td>0.900662</td>\n",
       "      <td>3</td>\n",
       "    </tr>\n",
       "    <tr>\n",
       "      <th>22</th>\n",
       "      <td>3</td>\n",
       "      <td>Zander</td>\n",
       "      <td>0.034807</td>\n",
       "      <td>0.397351</td>\n",
       "      <td>3</td>\n",
       "    </tr>\n",
       "    <tr>\n",
       "      <th>23</th>\n",
       "      <td>2</td>\n",
       "      <td>Rotauge</td>\n",
       "      <td>0.000504</td>\n",
       "      <td>0.046358</td>\n",
       "      <td>2</td>\n",
       "    </tr>\n",
       "    <tr>\n",
       "      <th>24</th>\n",
       "      <td>1</td>\n",
       "      <td>Karpfen</td>\n",
       "      <td>0.485017</td>\n",
       "      <td>0.596026</td>\n",
       "      <td>0</td>\n",
       "    </tr>\n",
       "    <tr>\n",
       "      <th>25</th>\n",
       "      <td>3</td>\n",
       "      <td>Wels</td>\n",
       "      <td>0.199854</td>\n",
       "      <td>0.781457</td>\n",
       "      <td>3</td>\n",
       "    </tr>\n",
       "    <tr>\n",
       "      <th>26</th>\n",
       "      <td>2</td>\n",
       "      <td>Forelle</td>\n",
       "      <td>0.011258</td>\n",
       "      <td>0.205298</td>\n",
       "      <td>2</td>\n",
       "    </tr>\n",
       "    <tr>\n",
       "      <th>27</th>\n",
       "      <td>3</td>\n",
       "      <td>Karpfen</td>\n",
       "      <td>0.506877</td>\n",
       "      <td>0.569536</td>\n",
       "      <td>3</td>\n",
       "    </tr>\n",
       "    <tr>\n",
       "      <th>28</th>\n",
       "      <td>0</td>\n",
       "      <td>Rotauge</td>\n",
       "      <td>0.000000</td>\n",
       "      <td>0.000000</td>\n",
       "      <td>1</td>\n",
       "    </tr>\n",
       "    <tr>\n",
       "      <th>29</th>\n",
       "      <td>2</td>\n",
       "      <td>Bullenhai</td>\n",
       "      <td>0.931016</td>\n",
       "      <td>0.953642</td>\n",
       "      <td>2</td>\n",
       "    </tr>\n",
       "  </tbody>\n",
       "</table>\n",
       "</div>"
      ],
      "text/plain": [
       "    0      Fisch   Gewicht     Größe  Cluster\n",
       "0   0        NaN       NaN       NaN        1\n",
       "1   1  Bullenhai  0.968433  0.980132        0\n",
       "2   0       Wels  0.348701  0.807947        1\n",
       "3   2  Bullenhai  0.832659  0.960265        2\n",
       "4   3    Karpfen  0.523077  0.596026        3\n",
       "5   3     Zander  0.021469  0.364238        3\n",
       "6   2    Forelle  0.012808  0.218543        2\n",
       "7   0    Karpfen  0.513886  0.589404        1\n",
       "8   0  Bullenhai  0.882052  0.927152        1\n",
       "9   3  Bullenhai  0.844509  0.973510        3\n",
       "10  0    Forelle  0.010199  0.231788        1\n",
       "11  3  Bullenhai  0.874248  0.874172        3\n",
       "12  1    Forelle  0.008320  0.238411        0\n",
       "13  1       Wels  0.247457  0.874172        0\n",
       "14  3       Wels  0.317058  0.927152        3\n",
       "15  2    Forelle  0.006568  0.238411        2\n",
       "16  1    Karpfen  0.553698  0.470199        0\n",
       "17  3       Wels  0.267980  0.913907        3\n",
       "18  3    Forelle  0.007148  0.139073        3\n",
       "19  1     Zander  0.013224  0.238411        0\n",
       "20  0       Wels  0.303607  0.834437        1\n",
       "21  3  Bullenhai  0.854935  0.900662        3\n",
       "22  3     Zander  0.034807  0.397351        3\n",
       "23  2    Rotauge  0.000504  0.046358        2\n",
       "24  1    Karpfen  0.485017  0.596026        0\n",
       "25  3       Wels  0.199854  0.781457        3\n",
       "26  2    Forelle  0.011258  0.205298        2\n",
       "27  3    Karpfen  0.506877  0.569536        3\n",
       "28  0    Rotauge  0.000000  0.000000        1\n",
       "29  2  Bullenhai  0.931016  0.953642        2"
      ]
     },
     "execution_count": 51,
     "metadata": {},
     "output_type": "execute_result"
    }
   ],
   "source": [
    "df_final['Cluster'] = pd.DataFrame(clustering.labels_)\n",
    "df_final['Fisch'] = df['Fisch']\n",
    "df_final['Gewicht'] = df_scaled['Gewicht']\n",
    "df_final['Größe'] = df_scaled['Größe']\n",
    "\n",
    "df_final.head(30)"
   ]
  },
  {
   "cell_type": "markdown",
   "metadata": {},
   "source": [
    "Nun sollen die Cluster geplotted werden. Hierfür ist es am Einfachsten für jeden Cluster einen eigenen Dataframe zu erstellen. Ausreißer haben den Cluster-Wert -1 und werden als x dargestellt.\n",
    "Sofern ihr die 5 Cluster und 5 Ausreißer gefunden habt könnt ihr den unten stehenden Code einfach ausführen.\n",
    "\n",
    "(Um zu überprüfen ob ihr sie gefunden habt könnt ihr den Plot natürlich auch benutzen. Sofern ihr nicht 5 Cluster und 5 Ausreißer habt müsst ihr den Wert für eps beim DBSCAN noch anpassen.)"
   ]
  },
  {
   "cell_type": "code",
   "execution_count": 52,
   "metadata": {},
   "outputs": [
    {
     "data": {
      "image/png": "[encoded data removed]",
      "text/plain": [
       "<Figure size 720x720 with 1 Axes>"
      ]
     },
     "metadata": {
      "needs_background": "light"
     },
     "output_type": "display_data"
    }
   ],
   "source": [
    "plt.figure(figsize=(10,10))\n",
    "df1 = df_final[df_final.Cluster==0]\n",
    "df2 = df_final[df_final.Cluster==1]\n",
    "df3 = df_final[df_final.Cluster==2]\n",
    "df4 = df_final[df_final.Cluster==3]\n",
    "df5 = df_final[df_final.Cluster==4]\n",
    "df6 = df_final[df_final.Cluster==-1]\n",
    "plt.scatter(df1[\"Größe\"],df1[\"Gewicht\"],color='green', label='Bullenhai')\n",
    "plt.scatter(df2[\"Größe\"],df2[\"Gewicht\"],color='magenta', label='Wels')\n",
    "plt.scatter(df3[\"Größe\"],df3[\"Gewicht\"],color='orange', label='Karpfen')\n",
    "plt.scatter(df4[\"Größe\"],df4[\"Gewicht\"],color='red', label='Zander und Forelle')\n",
    "plt.scatter(df5[\"Größe\"],df5[\"Gewicht\"],color='blue', label='Rotauge')\n",
    "plt.scatter(df6[\"Größe\"],df6[\"Gewicht\"],color='black', marker=\"x\", label=\"Ausreißer\")\n",
    "plt.title('Clustering Result', fontweight='bold',fontsize=20)\n",
    "plt.xlabel('Größe',fontsize=15)\n",
    "plt.ylabel('Gewicht',fontsize=15)\n",
    "plt.legend(fontsize=15)\n",
    "plt.show()"
   ]
  },
  {
   "cell_type": "markdown",
   "metadata": {},
   "source": [
    "### 2. Prophet"
   ]
  },
  {
   "cell_type": "markdown",
   "metadata": {},
   "source": [
    "Sofern die obige Übung vollständig erledigt ist, könnt ihr hier einmal ein Beispiel für den prophet Algorithmus von Facebook sehen und versuchen nachzuvollziehen.\n",
    "\n",
    "Zuerst müssen dafür 2 Pakete installiert werden. Prophet kann nur installiert werden, wenn C++ Version 14.0 vorhanden ist. (Sofern ihr Visual Studio Code installiert habt sollte es kein Problem geben)\n",
    "\n",
    "Falls ihr das nicht installiert habt bzw. es eine Fehlermeldung gibt. Könnt ihr das Notebook auch in Google colab ausführen.\n",
    "(https://colab.research.google.com/)\n",
    "\n",
    "##### Achtung! Bitte nur ausführen sofern Anaconda mindestens 4Gb Arbeitsspeicher zur Verfügung stehen! \n",
    "Es Werden 4Gb Arbeitsspeicher für die Installation benötigt und 2Gb zum Ausführen."
   ]
  },
  {
   "cell_type": "code",
   "execution_count": null,
   "metadata": {},
   "outputs": [],
   "source": [
    "!pip install pystan==2.19.1.1"
   ]
  },
  {
   "cell_type": "code",
   "execution_count": null,
   "metadata": {},
   "outputs": [],
   "source": [
    "!pip install prophet"
   ]
  },
  {
   "cell_type": "code",
   "execution_count": null,
   "metadata": {},
   "outputs": [],
   "source": [
    "from prophet import Prophet"
   ]
  },
  {
   "cell_type": "markdown",
   "metadata": {},
   "source": [
    "Der Prophet Algorithmus soll hier auf den DAX seit 1998 angewandt werden. Der Algorithmus wird mit den gewählten Einstellungen eine Trendlinie berechnen, eine Prognose für die nächsten 750 Handelstage erstellen und uncertainty intervals berechnen. \n",
    "Werte außerhalb der uncertainty intervals gelten als Ausreißer."
   ]
  },
  {
   "cell_type": "code",
   "execution_count": null,
   "metadata": {},
   "outputs": [],
   "source": [
    "df_dax = pd.read_excel('Dax_ab98.xlsx')"
   ]
  },
  {
   "cell_type": "code",
   "execution_count": null,
   "metadata": {},
   "outputs": [],
   "source": [
    "m = Prophet()\n",
    "m.fit(df_dax)\n",
    "future = m.make_future_dataframe(periods=750)\n",
    "forecast = m.predict(future)\n",
    "fig = m.plot(forecast)"
   ]
  },
  {
   "cell_type": "markdown",
   "metadata": {},
   "source": [
    "Mit den Standardeinstellungen fällt auf, dass der Einfluss der Coronakrise anfang 2020 hier als Ausreißer erkannt wird. "
   ]
  },
  {
   "cell_type": "markdown",
   "metadata": {},
   "source": [
    "Wenn ihr hiermit fertig seit, meldet euch gerne im Chat, damit wir euch den Link zum Quiz zu Verfügung stellen können.\n",
    "\n",
    "## Vielen Dank für die Mitarbeit!"
   ]
  }
 ],
 "metadata": {
  "kernelspec": {
   "display_name": "Python 3",
   "language": "python",
   "name": "python3"
  },
  "language_info": {
   "codemirror_mode": {
    "name": "ipython",
    "version": 3
   },
   "file_extension": ".py",
   "mimetype": "text/x-python",
   "name": "python",
   "nbconvert_exporter": "python",
   "pygments_lexer": "ipython3",
   "version": "3.8.10"
  }
 },
 "nbformat": 4,
 "nbformat_minor": 4
}
