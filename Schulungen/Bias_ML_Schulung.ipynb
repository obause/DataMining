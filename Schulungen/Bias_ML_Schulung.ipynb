{
 "cells": [
  {
   "cell_type": "markdown",
   "id": "a77edc18-8b2b-4ef8-a7dd-73993c203c77",
   "metadata": {},
   "source": [
    "# Bias in Machine Learning Schulung\n",
    "### Ethischer Bias"
   ]
  },
  {
   "cell_type": "markdown",
   "id": "86ca0000-a5b5-4f92-b7a2-2e678896b853",
   "metadata": {},
   "source": [
    "### 1 Einführung\n",
    "\n",
    "In diesem Teil der Übung soll der ethische Bias etwas näher betrachtet werden.    \n",
    "Als Grundlage dient ein Dataset mit ~2 Millionen Kommentaren von Online-Plattformen.    \n",
    "    \n",
    "Mit diesen wird ein Modell trainiert, das anhand eines Kommentars bewerten soll, ob dieser \"toxisch\" oder \"nicht toxisch\" ist. Also ein Kommentar negative Ausdrucksweisen enthält oder nicht.\n",
    "    \n",
    "Da es hier nicht direkt im das Trainieren des Modells gehen soll ist dies bereits vorgegeben."
   ]
  },
  {
   "cell_type": "markdown",
   "id": "288badc6-f12e-4d3a-8dd3-2664f4542052",
   "metadata": {},
   "source": [
    "#### 1.1 Dataset laden und vorbereiten\n",
    "Führt den unten angegebenen Code aus. Da das Dataset sehr groß ist kann es bei der Verarbeitung etwas länger dauern."
   ]
  },
  {
   "cell_type": "code",
   "execution_count": null,
   "id": "66534bdd-f526-4108-bbb7-e2a28ffa46d8",
   "metadata": {},
   "outputs": [],
   "source": [
    "import numpy as np\n",
    "import pandas as pd\n",
    "from sklearn.model_selection import train_test_split\n",
    "from sklearn.feature_extraction.text import CountVectorizer\n",
    "\n",
    "# Seed setzen, um immer die gleichen Ergebnisse zu erhalten\n",
    "np.random.seed(0)\n",
    "\n",
    "# Daten einlesen und benötigte Spalten extrahieren\n",
    "data = pd.read_csv(\"comments_data.csv\")\n",
    "comments = data[\"comment_text\"]\n",
    "target = (data[\"target\"]>0.7).astype(int)\n",
    "\n",
    "# Daten in Trainings- und Test-Sets aufteilen (70:30)\n",
    "comments_train, comments_test, y_train, y_test = train_test_split(comments, target, test_size=0.30, stratify=target)\n",
    "\n",
    "# Alle einzelnen Wörter aus allen Kommentaren extrahieren und Wörterbuch mit ihrer Häufigkeit erstellen\n",
    "vectorizer = CountVectorizer()\n",
    "vectorizer.fit(comments_train)\n",
    "\n",
    "# Dictionary für das Trainings- und Test-Set mit der Anzahl der Wörter erstellen\n",
    "X_train = vectorizer.transform(comments_train)\n",
    "X_test = vectorizer.transform(comments_test)"
   ]
  },
  {
   "cell_type": "markdown",
   "id": "ff3afdfe-9b07-4dc1-867c-9faa4a4134f1",
   "metadata": {},
   "source": [
    "#### 1.2 Daten betrachten\n",
    "Nun wollen wir uns die erstellten Daten anschauen und lernen mit diesen zu arbeiten. Mit `vectorizer.vocabulary_` bekommt ihr das Wörterbuch mit der Häufigkeit der einzelnen Wörter als Dictionary zurück (Dies werdet ihr später noch benötigen).    \n",
    "    \n",
    "Wie oft kommt in unserem Dataset das Wort `love` und das Wort `dumbass` vor?"
   ]
  },
  {
   "cell_type": "code",
   "execution_count": null,
   "id": "e8279de8-2720-4d39-b39e-a306a2cd7e2b",
   "metadata": {
    "tags": []
   },
   "outputs": [],
   "source": []
  },
  {
   "cell_type": "markdown",
   "id": "776b3139-0982-4cdf-a52a-11bf3af7c88a",
   "metadata": {},
   "source": [
    "Gebt euch ein paar Kommentare aus der Series(Dataframe mit einer Spalte) `comments_train` aus. Würdet ihr von diesen welche als toxisch einstufen?"
   ]
  },
  {
   "cell_type": "code",
   "execution_count": null,
   "id": "82018f91-6828-4400-9aca-af57bc4fc17c",
   "metadata": {},
   "outputs": [],
   "source": [
    "print(comments_train.iloc[22])\n",
    "print(comments_train.iloc[17])\n",
    "print(comments_train.iloc[28])"
   ]
  },
  {
   "cell_type": "markdown",
   "id": "fde995ac-17f7-401a-8d2a-61c17a054812",
   "metadata": {},
   "source": [
    "### 2 Model trainieren"
   ]
  },
  {
   "cell_type": "markdown",
   "id": "cb8d83e0-f2f2-4562-bacd-f17e5630749a",
   "metadata": {},
   "source": [
    "#### 2.1 Model trainieren und Genauigkeit überprüfen\n",
    "Führt den unten angegebenen Code nun aus, um ein einfaches Model zu trainieren. Zusätzlich berechnen wir die Genauigkeit des Models auf den Testdaten."
   ]
  },
  {
   "cell_type": "code",
   "execution_count": null,
   "id": "5b8d1479-0f7c-42b0-b4c6-3c665aca7eb0",
   "metadata": {},
   "outputs": [],
   "source": [
    "from sklearn.linear_model import LogisticRegression\n",
    "\n",
    "classifier = LogisticRegression(max_iter=2000)\n",
    "classifier.fit(X_train, y_train)\n",
    "score = classifier.score(X_test, y_test)\n",
    "print(\"Genauigkeit:\", score)"
   ]
  },
  {
   "cell_type": "markdown",
   "id": "16aed4e5-e517-4939-a04e-7c4425df1b89",
   "metadata": {},
   "source": [
    "Ziemlich genau 93% der Kommentare werden von unserem Model korrekt erkannt."
   ]
  },
  {
   "cell_type": "markdown",
   "id": "365ce2c1-ea8b-4f6b-b0de-71aa5a98e4c0",
   "metadata": {},
   "source": [
    "#### 2.2 Model ausprobieren\n",
    "Versucht nun ein paar eigene Kommentare an das Model zu übergeben und von diesem die Klassifizierung zurück zu erhalten.    \n",
    "    \n",
    "Da die Kommentare nur auf englischer Sprache basieren müsst ihr natürlich auch einen englischen Kommentar verfassen.    \n",
    "Beispiele:\n",
    " - \"I love Data Mining\"\n",
    " - \"Corona is stupid\"\n",
    " \n",
    "Versucht unterschiedliche Kommentare zu testen."
   ]
  },
  {
   "cell_type": "code",
   "execution_count": null,
   "id": "7d7c70ef-b91c-48cb-a29a-5aa79e56373d",
   "metadata": {},
   "outputs": [],
   "source": [
    "# Funktion, um einen String zu Klassifizieren (Hier nichts verändern)\n",
    "def classify_string(string, investigate=False):\n",
    "    prediction = classifier.predict(vectorizer.transform([string]))[0]\n",
    "    if prediction == 0:\n",
    "        print(\"NICHT TOXISCH:\", string)\n",
    "    else:\n",
    "        print(\"TOXISCH:\", string)"
   ]
  },
  {
   "cell_type": "code",
   "execution_count": null,
   "id": "23356798-298f-45c5-a1f2-7894d464b308",
   "metadata": {},
   "outputs": [],
   "source": [
    "kommentar = \"<Hier euer Kommentar>\"\n",
    "classify_string(mein_kommentar)"
   ]
  },
  {
   "cell_type": "code",
   "execution_count": null,
   "id": "9161348f-dcab-439f-bc67-436cfd23b768",
   "metadata": {},
   "outputs": [],
   "source": []
  },
  {
   "cell_type": "markdown",
   "id": "71f2c9ab-b2e4-4052-86d7-b40adc424615",
   "metadata": {},
   "source": [
    "### 3 Genauere Betrachtung des Modells\n",
    "\n",
    "Nachdem ihr das Modell nun etwas getestet habt, betrachten wir das Modell einmal etwas näher, um zu verstehen wie dieses Entscheidungen trifft.    \n",
    "    \n",
    "Das Modell fügt jedem der einzelnen Wörter in den Kommentaren einen Koeffizienten hinzu. Dieser sagt aus, ob ein entsprechendes Wort toxisch oder eben nicht toxisch ist. Desto höher der Koeffizient ist, desto mehr nimmt das Modell an, dass der Kommentar negativ behaftet ist.    \n",
    "Ihr sollt nun ein Dataframe erstellen, das die Wörter mit den höchsten Koeffizienten anzeigt.\n",
    "\n",
    "Benötigte Objekte:\n",
    " - `vectorizer.vocabulary_`: Gibt alle Wörter und ihre Häufigkeit als Dictionary zurück(Dies kennt ihr bereits). Wir benötigen nur die Wörter-Spalte alphabetisch sortiert als Liste.\n",
    " - `classifier.coef_`: Gibt ein mehrdimensionales Array bestehend aus den Koeffizienten zurück. Wir benötigen nur das erste Array.    \n",
    "     \n",
    "Erstellt nun ein Dataframe mit zwei Spalten: Einmal Spalte \"Wort\" mit den Wörtern und einmal die Spalte \"Koeffizient\" mit den entsprechenden Werten.    \n",
    "    \n",
    "**Hilfestellungen für die Wörter-Spalte:** \n",
    "  - <dict>.keys() gibt nur die Keys aus einem Dictionary zurück\n",
    "  - list() wandelt die Keys in eine Liste um\n",
    "  - sorted() sortiert die Liste alphabetisch (Damit die Einträge in der Liste zu den Koeffizienten passen muss diese so sortiert werden)\n"
   ]
  },
  {
   "cell_type": "code",
   "execution_count": null,
   "id": "1fbef4f7-e265-424d-9c0b-cce4b9c8cfad",
   "metadata": {
    "ExecuteTime": {
     "end_time": "2021-12-20T21:09:47.240174Z",
     "start_time": "2021-12-20T21:09:47.226654Z"
    }
   },
   "outputs": [],
   "source": [
    "# Spalte für die Wörter und Spalte für die Koeffizienten erstellen\n",
    "words = #Wir benötigen nur die Wörter-Spalte alphabetisch sortiert als Liste\n",
    "coeffs = #Wir benötigen nur das erste Array\n",
    "# Dataframe erstellen\n",
    "df = pd.DataFrame({\"Wort\": words, \"Koeffizient\": coeffs})"
   ]
  },
  {
   "cell_type": "markdown",
   "id": "fa8742cf-2c15-4522-b9ce-f1c3a590e06a",
   "metadata": {},
   "source": [
    "Sortiert nun das Dataframe absteigend nach der Spalte Koeffizient und lasst euch die ersten 15 Datensätze anzeigen.    \n",
    "**Tipp:** Die Funktion `sort_values()`von pandas kann euch dabei helfen: [Dokumentation](https://pandas.pydata.org/docs/reference/api/pandas.DataFrame.sort_values.html)"
   ]
  },
  {
   "cell_type": "code",
   "execution_count": null,
   "id": "a390db76-d9d5-4256-9452-bd0a6f1e7d1a",
   "metadata": {},
   "outputs": [],
   "source": [
    "# Dataframe nach Koeffizient absteigend sortieren\n",
    "df_sorted = \n",
    "\n",
    "# Erste 15 Datensätze des sortierten Dataframes ausgeben\n"
   ]
  },
  {
   "cell_type": "markdown",
   "id": "3e1cdaa3-adb5-4bf6-99b8-60adb0eefecf",
   "metadata": {},
   "source": [
    "Schaut euch die Wörter an. Gibt es Wörter die überraschend sind? Sind bei euch welche dabei, die nicht dabei sein sollten?"
   ]
  },
  {
   "cell_type": "markdown",
   "id": "8b205eb3-95ad-4b42-9ea5-6814d13346b4",
   "metadata": {},
   "source": [
    "### 4 Bias finden"
   ]
  },
  {
   "cell_type": "markdown",
   "id": "047b0879-0340-4e82-a671-e59effc78dd6",
   "metadata": {},
   "source": [
    "#### 4.1 Kommentare genauer analysieren\n",
    "Wir wollen nun versuchen einen Bias in unserem Modell zu finden. Versucht dafür als erstes den Kommentar `\"I have a christian friend\"` zu klassifizieren.    \n",
    "Nutzt dafür wieder einfach unsere Methode `classify_string()`"
   ]
  },
  {
   "cell_type": "code",
   "execution_count": null,
   "id": "a22ddf4e-af24-4870-8c73-69d5f826a30e",
   "metadata": {},
   "outputs": [],
   "source": []
  },
  {
   "cell_type": "markdown",
   "id": "a5f938eb-542b-4b3f-abdf-e6cbc20d1dce",
   "metadata": {},
   "source": [
    "Probiert das gleiche mit dem Kommentar `\"I have a muslim friend\"`. Gibt es einen Unterschied?"
   ]
  },
  {
   "cell_type": "code",
   "execution_count": null,
   "id": "57a1df16-5321-4059-bf35-3c6f13de377b",
   "metadata": {},
   "outputs": [],
   "source": []
  },
  {
   "cell_type": "markdown",
   "id": "589ebb1d-4bf3-4a99-b995-a06e2a9b4895",
   "metadata": {},
   "source": [
    "Testet dieses Vorgehen nun mit weiteren Kommentaren. Beispielweise könnt ihr \"I have a white bzw. black friend\" testen, aber versucht euch gerne etwas eigenes zu überlegen."
   ]
  },
  {
   "cell_type": "code",
   "execution_count": null,
   "id": "08423f34-d33c-4e46-bcec-fe1a6335587d",
   "metadata": {
    "tags": []
   },
   "outputs": [],
   "source": []
  },
  {
   "cell_type": "markdown",
   "id": "a362b417-bdc1-4902-b7e2-29756e26e826",
   "metadata": {
    "tags": []
   },
   "source": [
    "#### Optionale Zusatzaufgabe\n",
    "\n",
    "Lasst euch nun die Koeffizienten der einzelnen Wörter in den Kommentaren ausgeben, um herauszufinden welche Wörte wie bewertet wurden. Dafür könnt ihr euer zuvor erstelltes Dataframe mit der Liste aller Wörter und ihren Koeffizienten nutzen(`df_sorted`).    \n",
    "    \n",
    "**Hilfestellungen:**\n",
    " - `<string>.split()`: Teilt einen String in eine Liste der einzelnen Wörter (Trennung bei den Leerzeichen)\n",
    " - Um den Eintrag im Dataframe zu finden gibt es verschiedene Möglichkeiten: `<df>.<spalte>.isin(<liste der Wörter>)` gibt euch eine Series zurück bei der der es für jeden Datensatz einen boolschen Wert gibt und mit True bzw. False angibt, ob das Wort in dem Satz vorkommt. Dies könnt ihr auf das Dataset anwenden (Als Bedingung) um nur die Koeffizienten des Kommentars anzeigen zu lassen."
   ]
  },
  {
   "cell_type": "code",
   "execution_count": null,
   "id": "21b3735e-ae6d-44a2-8d3f-20345e794dea",
   "metadata": {},
   "outputs": [],
   "source": []
  },
  {
   "cell_type": "markdown",
   "id": "6d1206e2-8da3-4dc8-9c5a-6cf698603a23",
   "metadata": {},
   "source": [
    "Versucht als nächstes den Kommentar \"I have a muslim friend\" auf die gleiche Weise zu bewerten."
   ]
  },
  {
   "cell_type": "code",
   "execution_count": null,
   "id": "505b61f6-f2ad-4b18-bf19-8d52c04b688d",
   "metadata": {},
   "outputs": [],
   "source": []
  },
  {
   "cell_type": "code",
   "execution_count": null,
   "id": "1df02c2e-051a-4527-8bc1-d8f8d00a4c34",
   "metadata": {},
   "outputs": [],
   "source": []
  },
  {
   "cell_type": "markdown",
   "id": "30d4bd79-88dd-4d06-89e9-868e9e70c92a",
   "metadata": {},
   "source": [
    "#### 4.2 Bias identifizieren und verstehen\n",
    "Nun wollen wir bewerten was wir gerade herausgefunden haben.\n",
    "  \n",
    "##### Wie klassifiziert das Modell eure Kommentare?    "
   ]
  },
  {
   "cell_type": "markdown",
   "id": "1b19a372-6cda-429d-95ac-109113293380",
   "metadata": {},
   "source": [
    "**Antwort:** "
   ]
  },
  {
   "cell_type": "markdown",
   "id": "c5422fe1-fbbb-48ef-8c6b-5ae40f9f94cd",
   "metadata": {},
   "source": [
    "##### Konntet ihr einen potenziellen Bias in dem Model finden? "
   ]
  },
  {
   "cell_type": "markdown",
   "id": "46ca8fba-d12d-4dd8-86e2-d971cd7b3491",
   "metadata": {},
   "source": [
    "**Antwort:** "
   ]
  },
  {
   "cell_type": "markdown",
   "id": "cba149d0-c72f-4b1f-a98b-23ea6c4950c4",
   "metadata": {},
   "source": [
    "##### Stellt eine Vermutung an wieso das Model einen Bias aufweist.    "
   ]
  },
  {
   "cell_type": "markdown",
   "id": "4d5263fb-2e23-43da-9b0a-79df0fc939ee",
   "metadata": {},
   "source": [
    "**Antwort:**    \n"
   ]
  },
  {
   "cell_type": "markdown",
   "id": "67b0ac05-513a-4698-b61a-fa2feb8225a2",
   "metadata": {},
   "source": [
    "##### Um welche Art von Bias könnte es sich handeln?"
   ]
  },
  {
   "cell_type": "markdown",
   "id": "8cbe9fd6-f87e-49eb-8bdf-af23ce7e923e",
   "metadata": {},
   "source": [
    "**Antwort:**    "
   ]
  }
 ],
 "metadata": {
  "kernelspec": {
   "display_name": "Python 3",
   "language": "python",
   "name": "python3"
  },
  "language_info": {
   "codemirror_mode": {
    "name": "ipython",
    "version": 3
   },
   "file_extension": ".py",
   "mimetype": "text/x-python",
   "name": "python",
   "nbconvert_exporter": "python",
   "pygments_lexer": "ipython3",
   "version": "3.8.10"
  },
  "toc": {
   "base_numbering": 1,
   "nav_menu": {},
   "number_sections": false,
   "sideBar": true,
   "skip_h1_title": false,
   "title_cell": "Table of Contents",
   "title_sidebar": "Contents",
   "toc_cell": false,
   "toc_position": {},
   "toc_section_display": true,
   "toc_window_display": false
  }
 },
 "nbformat": 4,
 "nbformat_minor": 5
}
