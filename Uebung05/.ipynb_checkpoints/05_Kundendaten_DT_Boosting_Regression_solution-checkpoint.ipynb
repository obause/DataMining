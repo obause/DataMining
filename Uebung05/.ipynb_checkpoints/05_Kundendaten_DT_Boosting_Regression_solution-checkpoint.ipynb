{
 "cells": [
  {
   "cell_type": "markdown",
   "metadata": {},
   "source": [
    "# Übung 5 - DT, Gradient Boosting und Random Forest für Regression"
   ]
  },
  {
   "cell_type": "code",
   "execution_count": 1,
   "metadata": {},
   "outputs": [],
   "source": [
    "import pandas as pd\n",
    "import numpy as np\n",
    "import matplotlib.pyplot as plt\n",
    "from sklearn import preprocessing"
   ]
  },
  {
   "cell_type": "markdown",
   "metadata": {},
   "source": [
    "Wir verwenden wieder die Kundendaten. Diesmal wollen wir keine Klassifikation nach high_revenue durchführen, sondern direkt den numerischen Wert Umsatz (total_sum) vorhersagen."
   ]
  },
  {
   "cell_type": "code",
   "execution_count": 2,
   "metadata": {},
   "outputs": [
    {
     "data": {
      "text/html": [
       "<div>\n",
       "<style scoped>\n",
       "    .dataframe tbody tr th:only-of-type {\n",
       "        vertical-align: middle;\n",
       "    }\n",
       "\n",
       "    .dataframe tbody tr th {\n",
       "        vertical-align: top;\n",
       "    }\n",
       "\n",
       "    .dataframe thead th {\n",
       "        text-align: right;\n",
       "    }\n",
       "</style>\n",
       "<table border=\"1\" class=\"dataframe\">\n",
       "  <thead>\n",
       "    <tr style=\"text-align: right;\">\n",
       "      <th></th>\n",
       "      <th>customerID</th>\n",
       "      <th>gender</th>\n",
       "      <th>age_first_order</th>\n",
       "      <th>user_agent_brand</th>\n",
       "      <th>user_agent_os</th>\n",
       "      <th>ip_address_geopoint</th>\n",
       "      <th>ip_address_city</th>\n",
       "      <th>ip_address_region</th>\n",
       "      <th>ip_address_country_code</th>\n",
       "      <th>campaign</th>\n",
       "      <th>pages_visited_avg</th>\n",
       "      <th>total_sum</th>\n",
       "      <th>count</th>\n",
       "    </tr>\n",
       "  </thead>\n",
       "  <tbody>\n",
       "    <tr>\n",
       "      <th>0</th>\n",
       "      <td>000759</td>\n",
       "      <td>M</td>\n",
       "      <td>19.0</td>\n",
       "      <td>Chrome</td>\n",
       "      <td>MacOS X</td>\n",
       "      <td>POINT(126.9741 37.5112)</td>\n",
       "      <td>NaN</td>\n",
       "      <td>NaN</td>\n",
       "      <td>KR</td>\n",
       "      <td>True</td>\n",
       "      <td>13.666667</td>\n",
       "      <td>146.0</td>\n",
       "      <td>3</td>\n",
       "    </tr>\n",
       "    <tr>\n",
       "      <th>1</th>\n",
       "      <td>000759</td>\n",
       "      <td>M</td>\n",
       "      <td>NaN</td>\n",
       "      <td>Firefox</td>\n",
       "      <td>Linux</td>\n",
       "      <td>POINT(-97.822 37.751)</td>\n",
       "      <td>NaN</td>\n",
       "      <td>NaN</td>\n",
       "      <td>US</td>\n",
       "      <td>False</td>\n",
       "      <td>13.666667</td>\n",
       "      <td>146.0</td>\n",
       "      <td>3</td>\n",
       "    </tr>\n",
       "    <tr>\n",
       "      <th>2</th>\n",
       "      <td>001571</td>\n",
       "      <td>M</td>\n",
       "      <td>38.0</td>\n",
       "      <td>Chrome</td>\n",
       "      <td>MacOS X</td>\n",
       "      <td>POINT(121.5318 25.0478)</td>\n",
       "      <td>Taipei</td>\n",
       "      <td>Taipei City</td>\n",
       "      <td>TW</td>\n",
       "      <td>False</td>\n",
       "      <td>13.333333</td>\n",
       "      <td>66.0</td>\n",
       "      <td>3</td>\n",
       "    </tr>\n",
       "    <tr>\n",
       "      <th>3</th>\n",
       "      <td>002453</td>\n",
       "      <td>F</td>\n",
       "      <td>42.0</td>\n",
       "      <td>Chrome</td>\n",
       "      <td>MacOS X</td>\n",
       "      <td>POINT(139.69 35.69)</td>\n",
       "      <td>NaN</td>\n",
       "      <td>NaN</td>\n",
       "      <td>JP</td>\n",
       "      <td>True</td>\n",
       "      <td>12.333333</td>\n",
       "      <td>93.0</td>\n",
       "      <td>3</td>\n",
       "    </tr>\n",
       "    <tr>\n",
       "      <th>4</th>\n",
       "      <td>004074</td>\n",
       "      <td>M</td>\n",
       "      <td>NaN</td>\n",
       "      <td>Chrome</td>\n",
       "      <td>Windows</td>\n",
       "      <td>POINT(-71.5213 42.9403)</td>\n",
       "      <td>Bedford</td>\n",
       "      <td>New Hampshire</td>\n",
       "      <td>US</td>\n",
       "      <td>True</td>\n",
       "      <td>9.000000</td>\n",
       "      <td>23.0</td>\n",
       "      <td>1</td>\n",
       "    </tr>\n",
       "  </tbody>\n",
       "</table>\n",
       "</div>"
      ],
      "text/plain": [
       "  customerID gender  age_first_order user_agent_brand user_agent_os  \\\n",
       "0     000759      M             19.0           Chrome       MacOS X   \n",
       "1     000759      M              NaN          Firefox         Linux   \n",
       "2     001571      M             38.0           Chrome       MacOS X   \n",
       "3     002453      F             42.0           Chrome       MacOS X   \n",
       "4     004074      M              NaN           Chrome       Windows   \n",
       "\n",
       "       ip_address_geopoint ip_address_city ip_address_region  \\\n",
       "0  POINT(126.9741 37.5112)             NaN               NaN   \n",
       "1    POINT(-97.822 37.751)             NaN               NaN   \n",
       "2  POINT(121.5318 25.0478)          Taipei       Taipei City   \n",
       "3      POINT(139.69 35.69)             NaN               NaN   \n",
       "4  POINT(-71.5213 42.9403)         Bedford     New Hampshire   \n",
       "\n",
       "  ip_address_country_code  campaign  pages_visited_avg  total_sum  count  \n",
       "0                      KR      True          13.666667      146.0      3  \n",
       "1                      US     False          13.666667      146.0      3  \n",
       "2                      TW     False          13.333333       66.0      3  \n",
       "3                      JP      True          12.333333       93.0      3  \n",
       "4                      US      True           9.000000       23.0      1  "
      ]
     },
     "execution_count": 2,
     "metadata": {},
     "output_type": "execute_result"
    }
   ],
   "source": [
    "df = pd.read_csv('01_Kundendaten.csv')\n",
    "df.head()"
   ]
  },
  {
   "cell_type": "markdown",
   "metadata": {},
   "source": [
    "## 5.1 Behandlung von fehlenden Werten\n",
    "Zunächst beginnen wir auch hier mit einer Behandlung der fehlenden Werte."
   ]
  },
  {
   "cell_type": "code",
   "execution_count": 3,
   "metadata": {},
   "outputs": [
    {
     "data": {
      "text/html": [
       "<div>\n",
       "<style scoped>\n",
       "    .dataframe tbody tr th:only-of-type {\n",
       "        vertical-align: middle;\n",
       "    }\n",
       "\n",
       "    .dataframe tbody tr th {\n",
       "        vertical-align: top;\n",
       "    }\n",
       "\n",
       "    .dataframe thead th {\n",
       "        text-align: right;\n",
       "    }\n",
       "</style>\n",
       "<table border=\"1\" class=\"dataframe\">\n",
       "  <thead>\n",
       "    <tr style=\"text-align: right;\">\n",
       "      <th></th>\n",
       "      <th>gender</th>\n",
       "      <th>age_first_order</th>\n",
       "      <th>user_agent_brand</th>\n",
       "      <th>user_agent_os</th>\n",
       "      <th>campaign</th>\n",
       "      <th>pages_visited_avg</th>\n",
       "      <th>total_sum</th>\n",
       "    </tr>\n",
       "  </thead>\n",
       "  <tbody>\n",
       "    <tr>\n",
       "      <th>0</th>\n",
       "      <td>M</td>\n",
       "      <td>19.0</td>\n",
       "      <td>Chrome</td>\n",
       "      <td>MacOS X</td>\n",
       "      <td>True</td>\n",
       "      <td>13.666667</td>\n",
       "      <td>146.0</td>\n",
       "    </tr>\n",
       "    <tr>\n",
       "      <th>1</th>\n",
       "      <td>M</td>\n",
       "      <td>65.0</td>\n",
       "      <td>Firefox</td>\n",
       "      <td>Linux</td>\n",
       "      <td>False</td>\n",
       "      <td>13.666667</td>\n",
       "      <td>146.0</td>\n",
       "    </tr>\n",
       "    <tr>\n",
       "      <th>2</th>\n",
       "      <td>M</td>\n",
       "      <td>38.0</td>\n",
       "      <td>Chrome</td>\n",
       "      <td>MacOS X</td>\n",
       "      <td>False</td>\n",
       "      <td>13.333333</td>\n",
       "      <td>66.0</td>\n",
       "    </tr>\n",
       "    <tr>\n",
       "      <th>3</th>\n",
       "      <td>F</td>\n",
       "      <td>42.0</td>\n",
       "      <td>Chrome</td>\n",
       "      <td>MacOS X</td>\n",
       "      <td>True</td>\n",
       "      <td>12.333333</td>\n",
       "      <td>93.0</td>\n",
       "    </tr>\n",
       "    <tr>\n",
       "      <th>4</th>\n",
       "      <td>M</td>\n",
       "      <td>65.0</td>\n",
       "      <td>Chrome</td>\n",
       "      <td>Windows</td>\n",
       "      <td>True</td>\n",
       "      <td>9.000000</td>\n",
       "      <td>23.0</td>\n",
       "    </tr>\n",
       "  </tbody>\n",
       "</table>\n",
       "</div>"
      ],
      "text/plain": [
       "  gender  age_first_order user_agent_brand user_agent_os  campaign  \\\n",
       "0      M             19.0           Chrome       MacOS X      True   \n",
       "1      M             65.0          Firefox         Linux     False   \n",
       "2      M             38.0           Chrome       MacOS X     False   \n",
       "3      F             42.0           Chrome       MacOS X      True   \n",
       "4      M             65.0           Chrome       Windows      True   \n",
       "\n",
       "   pages_visited_avg  total_sum  \n",
       "0          13.666667      146.0  \n",
       "1          13.666667      146.0  \n",
       "2          13.333333       66.0  \n",
       "3          12.333333       93.0  \n",
       "4           9.000000       23.0  "
      ]
     },
     "execution_count": 3,
     "metadata": {},
     "output_type": "execute_result"
    }
   ],
   "source": [
    "from sklearn import preprocessing\n",
    "\n",
    "dfFilter = df[['gender','age_first_order','user_agent_brand',\n",
    "         'user_agent_os', 'campaign', 'pages_visited_avg', 'total_sum']]\n",
    "\n",
    "dfCopy = dfFilter.copy()\n",
    "\n",
    "dfCopy['gender'] = dfCopy['gender'].fillna(dfCopy['gender'].mode()[0])\n",
    "dfCopy['age_first_order'] = dfCopy['age_first_order'].fillna(df['age_first_order'].mode()[0])\n",
    "dfCopy.head()"
   ]
  },
  {
   "cell_type": "markdown",
   "metadata": {},
   "source": [
    "## 5.2 Kodierung relevanter Attribute\n",
    "Lesen Sie in der Dokumentation der zu verwendenden Algorithmen nach, welche Datentransformation notwendig ist.\n",
    "\n",
    "https://scikit-learn.org/stable/modules/classes.html#module-sklearn.tree\n",
    "\n",
    "https://scikit-learn.org/stable/modules/classes.html#module-sklearn.ensemble"
   ]
  },
  {
   "cell_type": "code",
   "execution_count": 4,
   "metadata": {
    "scrolled": true
   },
   "outputs": [
    {
     "data": {
      "text/html": [
       "<div>\n",
       "<style scoped>\n",
       "    .dataframe tbody tr th:only-of-type {\n",
       "        vertical-align: middle;\n",
       "    }\n",
       "\n",
       "    .dataframe tbody tr th {\n",
       "        vertical-align: top;\n",
       "    }\n",
       "\n",
       "    .dataframe thead th {\n",
       "        text-align: right;\n",
       "    }\n",
       "</style>\n",
       "<table border=\"1\" class=\"dataframe\">\n",
       "  <thead>\n",
       "    <tr style=\"text-align: right;\">\n",
       "      <th></th>\n",
       "      <th>gender</th>\n",
       "      <th>age_first_order</th>\n",
       "      <th>user_agent_brand</th>\n",
       "      <th>user_agent_os</th>\n",
       "      <th>campaign</th>\n",
       "      <th>pages_visited_avg</th>\n",
       "      <th>total_sum</th>\n",
       "    </tr>\n",
       "  </thead>\n",
       "  <tbody>\n",
       "    <tr>\n",
       "      <th>0</th>\n",
       "      <td>1</td>\n",
       "      <td>19.0</td>\n",
       "      <td>0</td>\n",
       "      <td>1</td>\n",
       "      <td>1</td>\n",
       "      <td>13.666667</td>\n",
       "      <td>146.0</td>\n",
       "    </tr>\n",
       "    <tr>\n",
       "      <th>1</th>\n",
       "      <td>1</td>\n",
       "      <td>65.0</td>\n",
       "      <td>2</td>\n",
       "      <td>0</td>\n",
       "      <td>0</td>\n",
       "      <td>13.666667</td>\n",
       "      <td>146.0</td>\n",
       "    </tr>\n",
       "    <tr>\n",
       "      <th>2</th>\n",
       "      <td>1</td>\n",
       "      <td>38.0</td>\n",
       "      <td>0</td>\n",
       "      <td>1</td>\n",
       "      <td>0</td>\n",
       "      <td>13.333333</td>\n",
       "      <td>66.0</td>\n",
       "    </tr>\n",
       "    <tr>\n",
       "      <th>3</th>\n",
       "      <td>0</td>\n",
       "      <td>42.0</td>\n",
       "      <td>0</td>\n",
       "      <td>1</td>\n",
       "      <td>1</td>\n",
       "      <td>12.333333</td>\n",
       "      <td>93.0</td>\n",
       "    </tr>\n",
       "    <tr>\n",
       "      <th>4</th>\n",
       "      <td>1</td>\n",
       "      <td>65.0</td>\n",
       "      <td>0</td>\n",
       "      <td>2</td>\n",
       "      <td>1</td>\n",
       "      <td>9.000000</td>\n",
       "      <td>23.0</td>\n",
       "    </tr>\n",
       "  </tbody>\n",
       "</table>\n",
       "</div>"
      ],
      "text/plain": [
       "   gender  age_first_order  user_agent_brand  user_agent_os  campaign  \\\n",
       "0       1             19.0                 0              1         1   \n",
       "1       1             65.0                 2              0         0   \n",
       "2       1             38.0                 0              1         0   \n",
       "3       0             42.0                 0              1         1   \n",
       "4       1             65.0                 0              2         1   \n",
       "\n",
       "   pages_visited_avg  total_sum  \n",
       "0          13.666667      146.0  \n",
       "1          13.666667      146.0  \n",
       "2          13.333333       66.0  \n",
       "3          12.333333       93.0  \n",
       "4           9.000000       23.0  "
      ]
     },
     "execution_count": 4,
     "metadata": {},
     "output_type": "execute_result"
    }
   ],
   "source": [
    "labelenc = preprocessing.LabelEncoder()\n",
    "labelenc.fit(dfCopy.gender)\n",
    "dfCopy['gender'] = labelenc.transform(dfCopy.gender)\n",
    "\n",
    "labelenc.fit(dfCopy.user_agent_os)\n",
    "dfCopy['user_agent_os'] = labelenc.transform(dfCopy.user_agent_os)\n",
    "\n",
    "labelenc.fit(dfCopy.user_agent_brand)\n",
    "dfCopy['user_agent_brand'] = labelenc.transform(dfCopy.user_agent_brand)\n",
    "\n",
    "dfCopy[\"campaign\"] = dfCopy[\"campaign\"].astype(int)\n",
    "\n",
    "dfPrepared = dfCopy\n",
    "\n",
    "dfPrepared.head()"
   ]
  },
  {
   "cell_type": "code",
   "execution_count": 5,
   "metadata": {},
   "outputs": [
    {
     "data": {
      "text/html": [
       "<div>\n",
       "<style scoped>\n",
       "    .dataframe tbody tr th:only-of-type {\n",
       "        vertical-align: middle;\n",
       "    }\n",
       "\n",
       "    .dataframe tbody tr th {\n",
       "        vertical-align: top;\n",
       "    }\n",
       "\n",
       "    .dataframe thead th {\n",
       "        text-align: right;\n",
       "    }\n",
       "</style>\n",
       "<table border=\"1\" class=\"dataframe\">\n",
       "  <thead>\n",
       "    <tr style=\"text-align: right;\">\n",
       "      <th></th>\n",
       "      <th>gender</th>\n",
       "      <th>age_first_order</th>\n",
       "      <th>user_agent_brand</th>\n",
       "      <th>user_agent_os</th>\n",
       "      <th>campaign</th>\n",
       "      <th>pages_visited_avg</th>\n",
       "      <th>total_sum</th>\n",
       "    </tr>\n",
       "  </thead>\n",
       "  <tbody>\n",
       "    <tr>\n",
       "      <th>0</th>\n",
       "      <td>1</td>\n",
       "      <td>0</td>\n",
       "      <td>0</td>\n",
       "      <td>1</td>\n",
       "      <td>1</td>\n",
       "      <td>13.666667</td>\n",
       "      <td>146.0</td>\n",
       "    </tr>\n",
       "    <tr>\n",
       "      <th>1</th>\n",
       "      <td>1</td>\n",
       "      <td>5</td>\n",
       "      <td>2</td>\n",
       "      <td>0</td>\n",
       "      <td>0</td>\n",
       "      <td>13.666667</td>\n",
       "      <td>146.0</td>\n",
       "    </tr>\n",
       "    <tr>\n",
       "      <th>2</th>\n",
       "      <td>1</td>\n",
       "      <td>2</td>\n",
       "      <td>0</td>\n",
       "      <td>1</td>\n",
       "      <td>0</td>\n",
       "      <td>13.333333</td>\n",
       "      <td>66.0</td>\n",
       "    </tr>\n",
       "    <tr>\n",
       "      <th>3</th>\n",
       "      <td>0</td>\n",
       "      <td>3</td>\n",
       "      <td>0</td>\n",
       "      <td>1</td>\n",
       "      <td>1</td>\n",
       "      <td>12.333333</td>\n",
       "      <td>93.0</td>\n",
       "    </tr>\n",
       "    <tr>\n",
       "      <th>4</th>\n",
       "      <td>1</td>\n",
       "      <td>5</td>\n",
       "      <td>0</td>\n",
       "      <td>2</td>\n",
       "      <td>1</td>\n",
       "      <td>9.000000</td>\n",
       "      <td>23.0</td>\n",
       "    </tr>\n",
       "  </tbody>\n",
       "</table>\n",
       "</div>"
      ],
      "text/plain": [
       "   gender age_first_order  user_agent_brand  user_agent_os  campaign  \\\n",
       "0       1               0                 0              1         1   \n",
       "1       1               5                 2              0         0   \n",
       "2       1               2                 0              1         0   \n",
       "3       0               3                 0              1         1   \n",
       "4       1               5                 0              2         1   \n",
       "\n",
       "   pages_visited_avg  total_sum  \n",
       "0          13.666667      146.0  \n",
       "1          13.666667      146.0  \n",
       "2          13.333333       66.0  \n",
       "3          12.333333       93.0  \n",
       "4           9.000000       23.0  "
      ]
     },
     "execution_count": 5,
     "metadata": {},
     "output_type": "execute_result"
    }
   ],
   "source": [
    "dfBins = dfCopy.copy()\n",
    "bin_labels_alt = [0, 1, 2, 3, 4, 5, 6 ]\n",
    "dfBins['age_first_order'] = pd.cut(x = dfCopy['age_first_order'],\n",
    "                              bins=[0, 20,30,40,50,60,70, 100],\n",
    "                              labels = bin_labels_alt)\n",
    "\n",
    "dfPrepared = dfBins\n",
    "\n",
    "dfPrepared.head()"
   ]
  },
  {
   "cell_type": "markdown",
   "metadata": {},
   "source": [
    "## 5.3 Training der Algorithmen mit k-fold Cross-Validation\n",
    "Im Folgenden sollen drei baumbasierte Methoden der Vorlesung \"Überwachte Methoden Teil 2\" angewendet werden. Dazu soll eine 10-fold Cross-Validation angewendet und anschließend das Modell anhand von statistischen Kennzahlen bewertet werden.\n",
    "Nutzen Sie jeweils die Funktion cross_val_predict(modell, x,y,cv=10) für die Cross-Validation."
   ]
  },
  {
   "cell_type": "code",
   "execution_count": 6,
   "metadata": {
    "scrolled": true
   },
   "outputs": [],
   "source": [
    "\n",
    "from sklearn.model_selection import cross_val_predict, cross_validate\n",
    "import sklearn.metrics as metrics\n",
    "\n",
    "x = dfPrepared.drop(['total_sum'], axis = 1)\n",
    "y = dfPrepared['total_sum'].astype(int)"
   ]
  },
  {
   "cell_type": "markdown",
   "metadata": {},
   "source": [
    "#### A1: Decision Tree Regressor"
   ]
  },
  {
   "cell_type": "code",
   "execution_count": 7,
   "metadata": {},
   "outputs": [],
   "source": [
    "from sklearn.tree import DecisionTreeRegressor\n",
    "\n",
    "treeRegressor = DecisionTreeRegressor(min_samples_split = 10, min_samples_leaf = 5)\n",
    "y_pred = cross_val_predict(treeRegressor, x, y, cv = 10)"
   ]
  },
  {
   "cell_type": "code",
   "execution_count": 8,
   "metadata": {},
   "outputs": [
    {
     "name": "stdout",
     "output_type": "stream",
     "text": [
      "Ergebnisse von sklearn.metrics:\n",
      "\n",
      "R-Squared: 0.06789635229649849\n",
      "\n",
      "MAE: 101.47744798562134\n",
      "MSE: 45263.757647711136\n",
      "RMSE: 212.7528087892405\n"
     ]
    }
   ],
   "source": [
    "mae = metrics.mean_absolute_error(y, y_pred)\n",
    "mse = metrics.mean_squared_error(y, y_pred)\n",
    "rmse = np.sqrt(mse)  \n",
    "r2 = metrics.r2_score(y,y_pred)\n",
    "\n",
    "print(\"Ergebnisse von sklearn.metrics:\\n\")\n",
    "print(\"R-Squared:\", r2)\n",
    "print()\n",
    "\n",
    "print(\"MAE:\",mae)\n",
    "print(\"MSE:\", mse)\n",
    "print(\"RMSE:\", rmse)"
   ]
  },
  {
   "cell_type": "markdown",
   "metadata": {},
   "source": [
    "#### A2: Random Forest Regressor"
   ]
  },
  {
   "cell_type": "code",
   "execution_count": 9,
   "metadata": {},
   "outputs": [],
   "source": [
    "from sklearn.ensemble import RandomForestRegressor\n",
    "\n",
    "forestRegressor = RandomForestRegressor(min_samples_split = 10, min_samples_leaf = 5, n_estimators = 100)\n",
    "\n",
    "y_pred = cross_val_predict(forestRegressor, x, y, cv = 10)"
   ]
  },
  {
   "cell_type": "code",
   "execution_count": 10,
   "metadata": {},
   "outputs": [
    {
     "name": "stdout",
     "output_type": "stream",
     "text": [
      "Ergebnisse von sklearn.metrics:\n",
      "\n",
      "R-Squared: 0.15412665391247937\n",
      "\n",
      "MAE: 95.98118257151019\n",
      "MSE: 41076.339774332795\n",
      "RMSE: 202.6729872832904\n"
     ]
    }
   ],
   "source": [
    "mae = metrics.mean_absolute_error(y, y_pred)\n",
    "mse = metrics.mean_squared_error(y, y_pred)\n",
    "rmse = np.sqrt(mse)  \n",
    "r2 = metrics.r2_score(y,y_pred)\n",
    "\n",
    "print(\"Ergebnisse von sklearn.metrics:\\n\")\n",
    "print(\"R-Squared:\", r2)\n",
    "print()\n",
    "\n",
    "print(\"MAE:\",mae)\n",
    "print(\"MSE:\", mse)\n",
    "print(\"RMSE:\", rmse)"
   ]
  },
  {
   "cell_type": "markdown",
   "metadata": {},
   "source": [
    "#### A3: Gradient Boost Trees (Regression)"
   ]
  },
  {
   "cell_type": "code",
   "execution_count": 11,
   "metadata": {},
   "outputs": [],
   "source": [
    "from sklearn.ensemble import GradientBoostingRegressor\n",
    "\n",
    "gbRegressor = GradientBoostingRegressor(n_estimators = 100, max_depth = 4)\n",
    "\n",
    "y_pred = cross_val_predict(gbRegressor, x, y, cv = 10)"
   ]
  },
  {
   "cell_type": "code",
   "execution_count": 12,
   "metadata": {
    "scrolled": true
   },
   "outputs": [
    {
     "name": "stdout",
     "output_type": "stream",
     "text": [
      "Ergebnisse von sklearn.metrics:\n",
      "\n",
      "R-Squared: 0.18438163264862717\n",
      "\n",
      "MAE: 92.08769948568937\n",
      "MSE: 39607.13189329544\n",
      "RMSE: 199.01540617071694\n"
     ]
    }
   ],
   "source": [
    "mae = metrics.mean_absolute_error(y, y_pred)\n",
    "mse = metrics.mean_squared_error(y, y_pred)\n",
    "rmse = np.sqrt(mse)  \n",
    "r2 = metrics.r2_score(y,y_pred)\n",
    "\n",
    "print(\"Ergebnisse von sklearn.metrics:\\n\")\n",
    "print(\"R-Squared:\", r2)\n",
    "print()\n",
    "\n",
    "print(\"MAE:\",mae)\n",
    "print(\"MSE:\", mse)\n",
    "print(\"RMSE:\", rmse)"
   ]
  },
  {
   "cell_type": "markdown",
   "metadata": {},
   "source": [
    "## 5.4 Interpretation der Gütekriterien\n",
    "Interpretieren Sie die Gütekriterien und treffen Sie eine Aussage zur Nutzbarkeit der Modelle.\n",
    "\n",
    "Je näher das Bestimmtheitsmaß R^2 an 1 liegt, desto besser sind die Daten über das Modell beschreibbar. Da alle Modelle Bestimmtheitsmaße nahe 0,1 haben eignen sie sich nicht, um Vorhersagen zu treffen.\n",
    "\n",
    "Weitere Indikatoren sind Mean Squared Error, Mean Absolute Error und Root Mean Squared Error, welche im Idealfall bei 0 liegen. Die Fehlerwerte sind zu hoch und bekräftigen, dass es eine ungenaue Vorhersage ist.\n",
    "\n",
    "Das beste Modell der drei ist der Gradient Boosting Regressor."
   ]
  },
  {
   "cell_type": "markdown",
   "metadata": {},
   "source": [
    "## 5.5 Mehrere Modelle gleichzeitig trainieren und visuell vergleichen\n",
    "Gehen Sie den Code unten durch und vollziehen Sie die einzelnen Schritte nach. Was sagt Ihnen die Visualisierung?"
   ]
  },
  {
   "cell_type": "code",
   "execution_count": 13,
   "metadata": {},
   "outputs": [],
   "source": [
    "import time\n",
    "\n",
    "estimators = [('DT', DecisionTreeRegressor(min_samples_split = 10, min_samples_leaf = 5)),\n",
    "    ('RF', RandomForestRegressor(min_samples_split = 10, min_samples_leaf = 5, n_estimators = 100)), \n",
    "              ('GB', GradientBoostingRegressor(n_estimators = 100, max_depth = 4))]"
   ]
  },
  {
   "cell_type": "code",
   "execution_count": 14,
   "metadata": {},
   "outputs": [
    {
     "data": {
      "image/png": "[encoded data removed]",
      "text/plain": [
       "<Figure size 648x360 with 3 Axes>"
      ]
     },
     "metadata": {
      "needs_background": "light"
     },
     "output_type": "display_data"
    }
   ],
   "source": [
    "def plot_regression_results(ax, y, y_pred, title, scores, elapsed_time):\n",
    "    \"\"\"Scatter plot of the predicted vs true targets.\"\"\"\n",
    "    ax.plot([y.min(), y.max()],\n",
    "            [y.min(), y.max()],\n",
    "            '--r', linewidth=2)\n",
    "    ax.scatter(y, y_pred, alpha=0.2)\n",
    "\n",
    "    ax.spines['top'].set_visible(False)\n",
    "    ax.spines['right'].set_visible(False)\n",
    "    ax.get_xaxis().tick_bottom()\n",
    "    ax.get_yaxis().tick_left()\n",
    "    ax.spines['left'].set_position(('outward', 10))\n",
    "    ax.spines['bottom'].set_position(('outward', 10))\n",
    "    ax.set_xlim([y.min(), y.max()])\n",
    "    ax.set_ylim([y.min(), y.max()])\n",
    "    ax.set_xlabel('Measured')\n",
    "    ax.set_ylabel('Predicted')\n",
    "    extra = plt.Rectangle((0, 0), 0, 0, fc=\"w\", fill=False,\n",
    "                          edgecolor='none', linewidth=0)\n",
    "    ax.legend([extra], [scores], loc='upper left')\n",
    "    title = title + '\\n Evaluation in {:.2f} seconds'.format(elapsed_time)\n",
    "    ax.set_title(title)\n",
    "\n",
    "\n",
    "fig, axs = plt.subplots(1, 3, figsize=(9, 5))\n",
    "axs = np.ravel(axs)\n",
    "\n",
    "for ax, (name, est) in zip(axs, estimators):\n",
    "    start_time = time.time()\n",
    "    score = cross_validate(est, x, y,\n",
    "                           scoring=['r2', 'neg_mean_absolute_error'],\n",
    "                           cv = 10, n_jobs=-1, verbose=0)\n",
    "    elapsed_time = time.time() - start_time\n",
    "\n",
    "    y_pred = cross_val_predict(est, x, y, n_jobs=-1, verbose=0)\n",
    "\n",
    "    plot_regression_results(\n",
    "        ax, y, y_pred,\n",
    "        name,\n",
    "        (r'$R^2={:.2f} \\pm {:.2f}$' + '\\n' + r'$MAE={:.2f} \\pm {:.2f}$')\n",
    "        .format(np.mean(score['test_r2']),\n",
    "                np.std(score['test_r2']),\n",
    "                -np.mean(score['test_neg_mean_absolute_error']),\n",
    "                np.std(score['test_neg_mean_absolute_error'])),\n",
    "        elapsed_time)\n",
    "\n",
    "plt.suptitle('Performance Single predictors')\n",
    "plt.tight_layout()\n",
    "plt.subplots_adjust(top=0.8)\n",
    "plt.show()"
   ]
  },
  {
   "cell_type": "code",
   "execution_count": 15,
   "metadata": {},
   "outputs": [],
   "source": [
    "for (name, est) in estimators:\n",
    "    start_time = time.time()\n",
    "    score = cross_validate(est, x, y,\n",
    "                           scoring=['r2', 'neg_mean_absolute_error'],\n",
    "                           cv=10, verbose=0)\n",
    "    elapsed_time = time.time() - start_time\n"
   ]
  },
  {
   "cell_type": "code",
   "execution_count": null,
   "metadata": {},
   "outputs": [],
   "source": []
  },
  {
   "cell_type": "code",
   "execution_count": null,
   "metadata": {},
   "outputs": [],
   "source": []
  }
 ],
 "metadata": {
  "kernelspec": {
   "display_name": "Python 3",
   "language": "python",
   "name": "python3"
  },
  "language_info": {
   "codemirror_mode": {
    "name": "ipython",
    "version": 3
   },
   "file_extension": ".py",
   "mimetype": "text/x-python",
   "name": "python",
   "nbconvert_exporter": "python",
   "pygments_lexer": "ipython3",
   "version": "3.8.5"
  }
 },
 "nbformat": 4,
 "nbformat_minor": 4
}
