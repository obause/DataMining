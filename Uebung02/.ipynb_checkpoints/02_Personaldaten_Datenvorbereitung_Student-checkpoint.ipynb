{
 "cells": [
  {
   "cell_type": "markdown",
   "metadata": {},
   "source": [
    "# Übung 2 - Datenvorbereitung und -aggregation\n",
    "Importiert die Pakete."
   ]
  },
  {
   "cell_type": "code",
   "execution_count": null,
   "metadata": {},
   "outputs": [],
   "source": [
    "import pandas as pd\n",
    "import numpy as np\n",
    "\n",
    "import matplotlib.pyplot as plt\n",
    "from sklearn.preprocessing import MinMaxScaler"
   ]
  },
  {
   "cell_type": "markdown",
   "metadata": {},
   "source": [
    "Lesen Sie die Daten \"02_Personaldaten.csv\" ein und lassen Sie sich die Daten anzeigen.\n",
    "Damit die Formate richtig importiert werden muss die ANSI-Kodierung mit einem Semikolon als Trenner eingestellt werden.\n",
    "Da die Personalnummer für die Bezeichnung eines laufenden Indexes etws lang ist, ist sie durch die ID abgekürzt."
   ]
  },
  {
   "cell_type": "code",
   "execution_count": null,
   "metadata": {},
   "outputs": [],
   "source": [
    "df = pd.read_csv(\"XXX\", encoding = 'ANSI', sep = \";\", index_col = 'Personalnummer')\n",
    "df.index.names = ['ID']\n",
    "\n"
   ]
  },
  {
   "cell_type": "markdown",
   "metadata": {},
   "source": [
    "## 2.1 Datenbereinigung\n",
    "\n",
    "**Was fällt bei den Daten auf?**\n",
    "\n",
    "Es sind Lücken und nicht einheitliche Ausprägungen einzelner Attribute zu sehen.\n",
    "\n",
    "Folgende passende Bereinigungsschritte sind durchzuführen:\n",
    "1. Attribut Wohnort löschen\n",
    "2. Geschlecht vereinheitlichen\n",
    "3. Jahresgehalt in T€ vereinheitlichen\n",
    "4. Datensatz 12 löschen\n",
    "5. Betriebszugehörigkeit auf Jahre vereinheitlichen\n",
    "6. Bildungsabschluss durch häufigsten Wert ersetzen\n",
    "\n",
    "Führen Sie die Schritte aus und lassen Sie sich das bereinigte Ergebnis anzeigen."
   ]
  },
  {
   "cell_type": "code",
   "execution_count": null,
   "metadata": {},
   "outputs": [],
   "source": []
  },
  {
   "cell_type": "markdown",
   "metadata": {},
   "source": [
    "## 2.2 Datentransformation 1: Diskretisierung\n",
    "Nun sollen alle numerischen Werte in Wertebereiche (engl. bins) zusammengefasst werden, so dass keine numerischen Daten mehr vorhanden sind. Legen Sie dazu zunächst eine Kopie \"dfBins\" des bereinigten Dataframes an. \n",
    "Neue Ausprägungen: \n",
    "\n",
    "- Alter in (jung, alt)\n",
    "- Jahresgehalt in (wenig, viel)\n",
    "- Betriebszugehörigkeit in (kurz, lang)\n",
    "\n",
    "Die Umwandlung von Alter ist bereits vorhanden. Führen Sie die anderen analog aus und lassen sich das Ergebnis anzeigen.\n"
   ]
  },
  {
   "cell_type": "code",
   "execution_count": null,
   "metadata": {},
   "outputs": [],
   "source": [
    "dfBins = df.copy()\n",
    "bin_labels_alt = ['jung', 'alt']\n",
    "dfBins['Alter'] = pd.cut(x = df['Alter'],\n",
    "                              bins=[0, 40, 100],\n",
    "                              labels = bin_labels_alt)\n"
   ]
  },
  {
   "cell_type": "markdown",
   "metadata": {},
   "source": [
    "## 2.3 Datentransformation 2: Numerische Kodierung und Normierung\n",
    "Nun sollen alle Daten in normierte numerische Werte transformiert werden. Legen Sie auch hierfür eine Kopie \"dfNumeric\" des originären bereinigten Dataframes an.\n",
    "1. Ausprägungen von Geschlecht, Position und Bildung durch numerische aufeinanderfolgende Werte (1,2,...) ersetzen. \n",
    "2. Werte auf das Intervall [0, 1] normalisieren. Hierfür wird der MinMaxScaler() verwendet, den Sie oben importiert haben.\n",
    "\n",
    "Lassen Sie sich erneut das Ergebnis ausgeben."
   ]
  },
  {
   "cell_type": "code",
   "execution_count": null,
   "metadata": {},
   "outputs": [],
   "source": []
  },
  {
   "cell_type": "code",
   "execution_count": null,
   "metadata": {
    "scrolled": true
   },
   "outputs": [],
   "source": [
    "scaler = MinMaxScaler()\n",
    "\n",
    "dfNumeric = pd.DataFrame(scaler.fit_transform(dfNumeric), columns = dfNumeric.columns, index = dfNumeric.index)\n"
   ]
  },
  {
   "cell_type": "markdown",
   "metadata": {},
   "source": [
    "Überprüfen Sie mit einem geeigneten Aufruf, ob die Skalierung erfolgreich war."
   ]
  },
  {
   "cell_type": "code",
   "execution_count": null,
   "metadata": {},
   "outputs": [],
   "source": []
  },
  {
   "cell_type": "markdown",
   "metadata": {},
   "source": [
    "## 2.4 Datentransformation 3: Binärkodierung der Kategorien\n",
    "Nun soll auf den bereinigten Daten eine Binärkodierung (One-to-Many) der kategorischen Variablen durchgeführt werden. Dafür verwenden wir eine Kopie \"dfBinaer\". Normieren Sie das Ergebnis wie in Schritt 2.3.\n"
   ]
  },
  {
   "cell_type": "code",
   "execution_count": null,
   "metadata": {},
   "outputs": [],
   "source": [
    "dfBinaer = df.copy()\n",
    "dfBinaer = pd.get_dummies(dfBinaer, prefix = '', prefix_sep = '')\n",
    "dfBinaer"
   ]
  },
  {
   "cell_type": "code",
   "execution_count": null,
   "metadata": {},
   "outputs": [],
   "source": []
  },
  {
   "cell_type": "markdown",
   "metadata": {},
   "source": [
    "Welche der beiden Varianten der Kodierung halten Sie in dem Beispiel für geeigneter?"
   ]
  },
  {
   "cell_type": "code",
   "execution_count": null,
   "metadata": {},
   "outputs": [],
   "source": []
  }
 ],
 "metadata": {
  "kernelspec": {
   "display_name": "Python 3",
   "language": "python",
   "name": "python3"
  },
  "language_info": {
   "codemirror_mode": {
    "name": "ipython",
    "version": 3
   },
   "file_extension": ".py",
   "mimetype": "text/x-python",
   "name": "python",
   "nbconvert_exporter": "python",
   "pygments_lexer": "ipython3",
   "version": "3.8.5"
  }
 },
 "nbformat": 4,
 "nbformat_minor": 4
}
