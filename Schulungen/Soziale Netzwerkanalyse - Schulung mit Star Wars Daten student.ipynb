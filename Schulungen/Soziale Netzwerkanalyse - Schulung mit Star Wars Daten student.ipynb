{
 "cells": [
  {
   "cell_type": "markdown",
   "id": "95ae52f5",
   "metadata": {},
   "source": [
    "# Soziale Netzwerkanalyse - Schulung mit Star Wars Daten \n",
    "\n",
    "Vorgestellt von Marc Sutjipto, Henry Mohrhoff und Simon Luckert\n",
    "\n",
    "Die Vorliegende Schulung analysiert die Ineraktion zwischen Star Wars Charakteren. Der Datensatz basiert auf den Star Wars Filmen eins bis sieben.\n",
    "\n",
    "Die Schulung ist folgernmaßen gegliedert:\n",
    "\n",
    "1. Datenvisualisierung\n",
    "2. Anwendung der Algorithmen \n",
    "3. Bonusaufgabe (Traveling Salesman Problem)\n",
    "\n",
    "Das Ziel dieser Schulung ist es herauszufinden: \n",
    "1. Wer die drei Hauptcharaktere der Star Wars Reihe sind \n",
    "2. Welche Communities in der Star Wars Reihe gebildet werden \n",
    "\n",
    "\n",
    "Viel Spaß beim Bearbeiten!"
   ]
  },
  {
   "cell_type": "markdown",
   "id": "fed15c67",
   "metadata": {},
   "source": [
    "## Aufgabe 0 - Arbeitsplatz einrichten \n",
    "\n",
    "Um die folgenden Aufgaben reibungslos durchführen zu können, müssen Sie zunächst die Networkx Bibliothek aktualisieren und die Community Bibliothek herunterladen.\n",
    "\n",
    "Falls Sie dies noch nicht gemacht haben, führen sie die unten aufgeführten Befehle aus.\n",
    "Importieren Sie alle notwendigen Bibliotheken, indem Sie auch die zweite Zelle ausführen.\n"
   ]
  },
  {
   "cell_type": "code",
   "execution_count": 1,
   "id": "d1ca99c3",
   "metadata": {},
   "outputs": [
    {
     "name": "stdout",
     "output_type": "stream",
     "text": [
      "Requirement already satisfied: networkx in /opt/conda/lib/python3.8/site-packages (2.5.1)\n",
      "Collecting networkx\n",
      "  Downloading networkx-2.6.3-py3-none-any.whl (1.9 MB)\n",
      "\u001b[K     |████████████████████████████████| 1.9 MB 8.9 MB/s eta 0:00:01\n",
      "\u001b[?25hInstalling collected packages: networkx\n",
      "  Attempting uninstall: networkx\n",
      "    Found existing installation: networkx 2.5.1\n",
      "    Uninstalling networkx-2.5.1:\n",
      "      Successfully uninstalled networkx-2.5.1\n",
      "Successfully installed networkx-2.6.3\n",
      "\u001b[33mWARNING: Running pip as the 'root' user can result in broken permissions and conflicting behaviour with the system package manager. It is recommended to use a virtual environment instead: https://pip.pypa.io/warnings/venv\u001b[0m\n",
      "Requirement already satisfied: python-louvain in /opt/conda/lib/python3.8/site-packages (0.15)\n",
      "Requirement already satisfied: networkx in /opt/conda/lib/python3.8/site-packages (from python-louvain) (2.6.3)\n",
      "Requirement already satisfied: numpy in /opt/conda/lib/python3.8/site-packages (from python-louvain) (1.19.5)\n",
      "\u001b[33mWARNING: Running pip as the 'root' user can result in broken permissions and conflicting behaviour with the system package manager. It is recommended to use a virtual environment instead: https://pip.pypa.io/warnings/venv\u001b[0m\n"
     ]
    }
   ],
   "source": [
    "!pip install --upgrade networkx\n",
    "!pip install python-louvain # Dies ist die Community Bibliothek, sie enthält die Louvian-Methode"
   ]
  },
  {
   "cell_type": "code",
   "execution_count": 2,
   "id": "cdde6e23",
   "metadata": {},
   "outputs": [],
   "source": [
    "import networkx as nx\n",
    "from matplotlib import pyplot as plt\n",
    "import numpy as np \n",
    "import pandas as pd"
   ]
  },
  {
   "cell_type": "markdown",
   "id": "53e91d48",
   "metadata": {},
   "source": [
    "## Aufgabe 1 - Einlesen des Star Wars Datensatzes\n",
    "\n",
    "Lesen Sie den StarWarsEdges.csv Datensatz, mit dem gewohnten Vorgehen aus der Übung, ein und schauen Sie sich den Datensatz an\n",
    "\n",
    "Beantworten Sie dabei folgende Fragen:\n",
    "\n",
    "Hinweis: Source, Target und Value werden durch ein Delimiter \";\" getrennt.\n",
    "\n",
    "1.In welchem Kontext stehen die Spalten Source und Target zueinander?  \n",
    "\n",
    "\n",
    "2.Für was könnte die value Spalte stehen? <br> \n",
    "\n"
   ]
  },
  {
   "cell_type": "code",
   "execution_count": 4,
   "id": "76f1de4b",
   "metadata": {},
   "outputs": [
    {
     "data": {
      "text/html": [
       "<div>\n",
       "<style scoped>\n",
       "    .dataframe tbody tr th:only-of-type {\n",
       "        vertical-align: middle;\n",
       "    }\n",
       "\n",
       "    .dataframe tbody tr th {\n",
       "        vertical-align: top;\n",
       "    }\n",
       "\n",
       "    .dataframe thead th {\n",
       "        text-align: right;\n",
       "    }\n",
       "</style>\n",
       "<table border=\"1\" class=\"dataframe\">\n",
       "  <thead>\n",
       "    <tr style=\"text-align: right;\">\n",
       "      <th></th>\n",
       "      <th>source</th>\n",
       "      <th>target</th>\n",
       "      <th>value</th>\n",
       "    </tr>\n",
       "  </thead>\n",
       "  <tbody>\n",
       "    <tr>\n",
       "      <th>0</th>\n",
       "      <td>NUTE GUNRAY</td>\n",
       "      <td>QUI-GON</td>\n",
       "      <td>1</td>\n",
       "    </tr>\n",
       "    <tr>\n",
       "      <th>1</th>\n",
       "      <td>PK-4</td>\n",
       "      <td>TC-14</td>\n",
       "      <td>1</td>\n",
       "    </tr>\n",
       "    <tr>\n",
       "      <th>2</th>\n",
       "      <td>OBI-WAN</td>\n",
       "      <td>TC-14</td>\n",
       "      <td>1</td>\n",
       "    </tr>\n",
       "    <tr>\n",
       "      <th>3</th>\n",
       "      <td>QUI-GON</td>\n",
       "      <td>TC-14</td>\n",
       "      <td>1</td>\n",
       "    </tr>\n",
       "    <tr>\n",
       "      <th>4</th>\n",
       "      <td>OBI-WAN</td>\n",
       "      <td>QUI-GON</td>\n",
       "      <td>26</td>\n",
       "    </tr>\n",
       "    <tr>\n",
       "      <th>...</th>\n",
       "      <td>...</td>\n",
       "      <td>...</td>\n",
       "      <td>...</td>\n",
       "    </tr>\n",
       "    <tr>\n",
       "      <th>393</th>\n",
       "      <td>JESS</td>\n",
       "      <td>YOLO ZIFF</td>\n",
       "      <td>1</td>\n",
       "    </tr>\n",
       "    <tr>\n",
       "      <th>394</th>\n",
       "      <td>JESS</td>\n",
       "      <td>POE</td>\n",
       "      <td>2</td>\n",
       "    </tr>\n",
       "    <tr>\n",
       "      <th>395</th>\n",
       "      <td>ELLO ASTY</td>\n",
       "      <td>JESS</td>\n",
       "      <td>2</td>\n",
       "    </tr>\n",
       "    <tr>\n",
       "      <th>396</th>\n",
       "      <td>POE</td>\n",
       "      <td>YOLO ZIFF</td>\n",
       "      <td>1</td>\n",
       "    </tr>\n",
       "    <tr>\n",
       "      <th>397</th>\n",
       "      <td>ELLO ASTY</td>\n",
       "      <td>YOLO ZIFF</td>\n",
       "      <td>1</td>\n",
       "    </tr>\n",
       "  </tbody>\n",
       "</table>\n",
       "<p>398 rows × 3 columns</p>\n",
       "</div>"
      ],
      "text/plain": [
       "          source     target  value\n",
       "0    NUTE GUNRAY    QUI-GON      1\n",
       "1           PK-4      TC-14      1\n",
       "2        OBI-WAN      TC-14      1\n",
       "3        QUI-GON      TC-14      1\n",
       "4        OBI-WAN    QUI-GON     26\n",
       "..           ...        ...    ...\n",
       "393         JESS  YOLO ZIFF      1\n",
       "394         JESS        POE      2\n",
       "395    ELLO ASTY       JESS      2\n",
       "396          POE  YOLO ZIFF      1\n",
       "397    ELLO ASTY  YOLO ZIFF      1\n",
       "\n",
       "[398 rows x 3 columns]"
      ]
     },
     "execution_count": 4,
     "metadata": {},
     "output_type": "execute_result"
    }
   ],
   "source": [
    "df = pd.read_csv(\"StarWarsEdges.csv\", delimiter=\";\")\n",
    "df"
   ]
  },
  {
   "cell_type": "markdown",
   "id": "6eb35906",
   "metadata": {},
   "source": [
    "### 1.1 Zuordnung der Kanten \n",
    "Es gibt mehrere Möglichkeiten die Beziehungen zwischen den Star Wars Charakteren, durch eine Kante zu definieren.Eine Möglichkeit ist es, zunächst einen leeren Graphen zu definieren und anschließend durch eine Schleife die Kanten zuzuordnen.\n",
    "In der unteren Zelle sehen Sie ein Beispiel dafür. Hierbei wird auch der value Wert beachtet. "
   ]
  },
  {
   "cell_type": "code",
   "execution_count": 5,
   "id": "a047d256",
   "metadata": {},
   "outputs": [],
   "source": [
    "M = nx.Graph()\n",
    "for i in range (0, len(df)):\n",
    "    M.add_edge(df['source'].iloc[i], df['target'].iloc[i], distance = df['value'].iloc[i])"
   ]
  },
  {
   "cell_type": "markdown",
   "id": "553e0bd7",
   "metadata": {},
   "source": [
    "Eine andere Methode mit der es möglich ist, Kanten zu definieren ist mit der Funktion nx.from_pandas_edgelist. Vorsicht diese Methode beachtet nicht den value Wert aus dem oberen DataFrame! \n",
    "\n",
    "Definieren Sie nun mit dem Befehl nx.from_pandas_edgelist(df,source = \" \", target=\" \") die Beziehung zwischen den Star Wars Charakteren. Speichern Sie das Ergebnis in der Variablen SW_graph.\n",
    "\n",
    "Was müssen Sie in source = \" \" und target = \" \" eintragen? <br>"
   ]
  },
  {
   "cell_type": "code",
   "execution_count": 7,
   "id": "7b124877",
   "metadata": {},
   "outputs": [
    {
     "data": {
      "text/plain": [
       "<networkx.classes.graph.Graph at 0x7f76ab4d0520>"
      ]
     },
     "execution_count": 7,
     "metadata": {},
     "output_type": "execute_result"
    }
   ],
   "source": [
    "SW_graph = nx.from_pandas_edgelist(df,source = \"source\", target=\"target\")\n",
    "SW_graph"
   ]
  },
  {
   "cell_type": "markdown",
   "id": "6c31b7cd",
   "metadata": {},
   "source": [
    "### 1.2 Informationen zum Graphen ausgeben lassen \n",
    "Mit welcher Funktion aus der Networkx Bibliothek können sie herausfinden wie viele Knoten und Kanten ein Graph hat?\n",
    "\n",
    "Wie viele Knoten und Kanten hat der SW_graph?"
   ]
  },
  {
   "cell_type": "code",
   "execution_count": null,
   "id": "52750947",
   "metadata": {},
   "outputs": [],
   "source": [
    "# Hier Code eingeben "
   ]
  },
  {
   "cell_type": "markdown",
   "id": "c91360cf",
   "metadata": {},
   "source": [
    "### 1.3 Graphen Visualisieren\n",
    "Zeichnen Sie nun den Graphen. Benutzen Sie dafür die nx.draw Funktion. Die Knoten sollen außerdem mit ihren Bezeichnungen gezeichnet werden.\n",
    "\n",
    "Die Größe des Graphen ist voreingestellt. \n",
    "\n",
    "Was sagen Sie zu diesem Graphen? \n",
    "- Ist der Graph anschaulich? \n",
    "- Lässt sich damit herausfinden, wer die Hauptcharaktere sind?"
   ]
  },
  {
   "cell_type": "code",
   "execution_count": null,
   "id": "85f50006",
   "metadata": {},
   "outputs": [],
   "source": [
    "G = nx.Graph(SW_graph)\n",
    "plt.figure(figsize = (50,40))\n",
    "# Hier Code eingeben "
   ]
  },
  {
   "cell_type": "markdown",
   "id": "36bff8af",
   "metadata": {},
   "source": [
    "Versuchen Sie den unten stehenden Code nachzuvollziehen\n",
    "\n",
    "- Ist der Graph nun anschaulicher? \n",
    "- Sind die Hauptcharaktere erkennbar? "
   ]
  },
  {
   "cell_type": "code",
   "execution_count": null,
   "id": "7f91a2c6",
   "metadata": {},
   "outputs": [],
   "source": [
    "plt.figure(figsize = (100,100))\n",
    "layout = nx.spring_layout(G, k = 0.8)\n",
    "nx.draw_networkx_nodes(G, pos=layout, node_size = 1000, alpha = 0.8, node_color= \"red\")\n",
    "nx.draw_networkx_edges(G, pos=layout, width = 3, style = 'dotted', edge_color = 'green')\n",
    "nx.draw_networkx_labels(G, pos=layout, font_size = 50)\n",
    "plt.show()"
   ]
  },
  {
   "cell_type": "markdown",
   "id": "252a714c",
   "metadata": {},
   "source": [
    "# Aufgabe 2 - Anwendung der Algorithmen\n",
    "Nun wollen wir uns nochmal genauer mit den in der Präsentation vorgestellten Algorithmen beschäftigen.\n",
    "Es geht also um die Anwendung des PageRank Algorithmus und die Anwendung Louvian Methode. Benutzen Sie dafür den Graphen M, da dieser auch die value bzw. weight Werte berücksichtigt."
   ]
  },
  {
   "cell_type": "markdown",
   "id": "ff0ae6f5",
   "metadata": {},
   "source": [
    "### Aufgabe 2.1 - PageRank Algorithmus \n",
    "\n",
    "Wer hat den größen PageRank Wert und was sagt der PageRank Algorithmus in diesem Kontext aus?\n",
    "\n",
    "Um den PageRank der Charaktere zu berechnen, benutze Sie am besten die nx.pagerank Funktion. Speichern Sie das Ergebnis in der Variablen p_rank."
   ]
  },
  {
   "cell_type": "code",
   "execution_count": null,
   "id": "0b24ff1b",
   "metadata": {},
   "outputs": [],
   "source": [
    "# Anwendung des Page Rank Algorithmus \n",
    "# Hier Code eingeben "
   ]
  },
  {
   "cell_type": "markdown",
   "id": "8062450a",
   "metadata": {},
   "source": [
    "Im unten stehenden Code wird das Ergebnis des PageRanks in zwei Spalten aufgeteilt. Einmal in die Namen und einmal in die PageRank Werte. Diese beiden Spalten werden zunächst in je einem DataFrame gespeichert und anschließend wieder zu einem DataFrame zusammengeführt. \n",
    "\n",
    "Versuchen Sie den Code nachzuvollziehen und die obere Frage damit zu beantworten."
   ]
  },
  {
   "cell_type": "code",
   "execution_count": null,
   "id": "60c5a03a",
   "metadata": {},
   "outputs": [],
   "source": [
    "# Die Namen von den PageRank Values trennen \n",
    "keys = p_rank.keys()\n",
    "values = p_rank.values()\n",
    "\n",
    "#DataFrame mit den Namen zu den zugehörigen PageRanks machen\n",
    "df1 = pd.DataFrame(keys, columns = ['Name'])\n",
    "df1[\"ID\"] = df1.index + 1\n",
    "\n",
    "#DataFrame mit den Werten des PageRanks machen\n",
    "df2 = pd.DataFrame(values, columns = ['Werte'])\n",
    "df2[\"ID\"] = df2.index + 1\n",
    "\n",
    "# Beide DataFrames auf der Attribut ID zusammenführen \n",
    "df_merge = pd.merge(df1, df2, on = 'ID')\n",
    "\n",
    "# Attribut ID rausstreichen\n",
    "df_filter = df_merge[['Name','Werte']]\n",
    "\n",
    "# DataFrame nach den Werten des PageRank absteigend sortieren \n",
    "dfPageRank = df_filter.sort_values(by=['Werte','Name'], ascending=False)\n",
    "\n",
    "# Ersten zehn Zeilen des DataFrames ausgeben\n",
    "dfPageRank.head(10)"
   ]
  },
  {
   "cell_type": "markdown",
   "id": "b3347169",
   "metadata": {},
   "source": [
    "### Aufgaben 2.2 - Graphen mit den PageRank Werten zeichnen \n",
    "\n",
    "Versuchen Sie den vorliegenden Code nachzuvollziehen und ändern sie anschließend folgende Merkmale:\n",
    "\n",
    "- Layout: spring Layout\n",
    "- Transparenz der Nodes auf 0.5 \n",
    "- Node Größe in Abhängigkeit der PageRank Werte \n",
    "\n",
    "Hinweise:\n",
    "- Der Zugriff auf die PageRank Werte erfolgt über p_rank.values()\n",
    "- Um die Node Größe in Abhängigkeit der PageRank Werte zu übergeben wird eine for Schleife benötigt"
   ]
  },
  {
   "cell_type": "code",
   "execution_count": null,
   "id": "293a6490",
   "metadata": {},
   "outputs": [],
   "source": [
    "# Im unten stehenden Code sollen die Parameter verändert werden\n",
    "plt.figure(figsize = (100,100))\n",
    "layout = nx.random_layout(M, k = 2)\n",
    "nx.draw_networkx_labels(M, pos=layout, font_size = 50)\n",
    "nx.draw_networkx_nodes(M, pos=layout, node_size = 2000, alpha = 1, node_color= \"blue\") \n",
    "nx.draw_networkx_edges(M, pos=layout, width = 1, style = 'dotted', edge_color = 'green')\n",
    "plt.show()"
   ]
  },
  {
   "cell_type": "markdown",
   "id": "05fefe99",
   "metadata": {},
   "source": [
    "### Aufgabe 2.3 - Louvian-Methode \n",
    "\n",
    "Versuchen Sie den Code nachzuvollziehen und anschließend folgende Fragen zu beantworten\n",
    "\n",
    "Wie viele Communities werden hier durch die Louvian-Methode gefunden? Fügen Sie dafür einen Befehl ein, aus dem Sie die Anzahl der Communities sehen können.\n",
    "\n",
    "\n",
    "Zu welcher Community gehört der Charakter KYLO REN? Erstellen Sie dafür einen Befehl mit dem es möglich ist. Anfragen nach bestimmten Kriterien an ein DataFrame durchzuführen"
   ]
  },
  {
   "cell_type": "code",
   "execution_count": null,
   "id": "fe7fd8ee",
   "metadata": {},
   "outputs": [],
   "source": [
    "import community as community_louvain\n",
    "import matplotlib.cm as cm\n",
    "import networkx as nx\n",
    "\n",
    "# Louvian Methode durchführen\n",
    "partition = community_louvain.best_partition(M)"
   ]
  },
  {
   "cell_type": "code",
   "execution_count": null,
   "id": "5ebd6585",
   "metadata": {},
   "outputs": [],
   "source": [
    "# Namen und die gefundenen Cluster trennen\n",
    "keys = partition.keys()\n",
    "values = partition.values()\n",
    "\n",
    "# DataFrame mit den Namen der Charakteren erstellen\n",
    "df1 = pd.DataFrame(keys, columns = ['Name'])\n",
    "df1[\"ID\"] = df1.index + 1\n",
    "\n",
    "# DataFrame mit den Communitys der Charaktere erstellen\n",
    "df2 = pd.DataFrame(values, columns = ['Community'])\n",
    "df2[\"ID\"] = df2.index + 1\n",
    "\n",
    "# Beide DataFrames auf der ID Spalte zusammenführen\n",
    "df_merge = pd.merge(df1, df2, on = 'ID')\n",
    "\n",
    "# ID Spalte entfernen\n",
    "df_filter = df_merge[['Name','Community']]\n",
    "\n",
    "# DataFrame in Abhängigkeit der Community aufsteigend sortieren\n",
    "dfLouvian = df_filter.sort_values(by=['Community','Name'], ascending=True)"
   ]
  },
  {
   "cell_type": "code",
   "execution_count": null,
   "id": "7065a92a",
   "metadata": {},
   "outputs": [],
   "source": [
    "#dfLouvian ausgeben und überprüfen wie viele Cluster identifiziert wurden\n",
    "# Hier Code eingeben "
   ]
  },
  {
   "cell_type": "code",
   "execution_count": null,
   "id": "c665a1cf",
   "metadata": {},
   "outputs": [],
   "source": [
    "#Zeile des DataFrames ausgeben in dem KYLO REN auftaucht\n",
    "# Hier Code eingeben "
   ]
  },
  {
   "cell_type": "markdown",
   "id": "7f7def4c",
   "metadata": {},
   "source": [
    "Nochmals alle Cluster des Louvian visuell dargestellt"
   ]
  },
  {
   "cell_type": "code",
   "execution_count": null,
   "id": "23ac314c",
   "metadata": {},
   "outputs": [],
   "source": [
    "pos = nx.spring_layout(M)\n",
    "# Nodefarbe nach der Community ausgeben und Nodes nach der Größe des PageRank ausgeben\n",
    "plt.figure(figsize = (60,40))\n",
    "cmap = cm.get_cmap('viridis', max(partition.values()) + 1)\n",
    "nx.draw_networkx(G, pos, partition.keys(), node_size=[v * 100000 for v in p_rank.values()], cmap= cmap,\n",
    "                        node_color=list(partition.values()), width=1.0, alpha=1, font_size = 20)\n",
    "plt.show()"
   ]
  },
  {
   "cell_type": "markdown",
   "id": "97b98027",
   "metadata": {},
   "source": [
    "# Bonusaufgabe - Traveling Salesman Problem \n"
   ]
  },
  {
   "cell_type": "markdown",
   "id": "94ed17cd",
   "metadata": {},
   "source": [
    "Der Traveling Salesman Problem Algorithmus findet den kürzesten Weg innerhalb eines Netzwerk von einem Knoten zu einem anderen Knoten. Diesen Algorithmus wollen wir nun auf unsere Star Wars Netzwerk anwenden. \n",
    "\n",
    "Bestimmen Sie dafür den kürzesten Weg von SHMI zu KYLO REN. Tragen Sie den Weg der Knoten unten ein.\n",
    "\n",
    "\n",
    "\n",
    "Wie könnte man dieses Ergebnis in unserem Kontext interpretieren?\n",
    "\n",
    "\n",
    "\n",
    "\n",
    "(Uns ist bewusst, dass wir dieses Thema nicht in unserem Referat behandelt haben. Deshalb ist das hier nur als Bonusaufgabe aufgeführt)"
   ]
  },
  {
   "cell_type": "code",
   "execution_count": null,
   "id": "8bd2324f",
   "metadata": {},
   "outputs": [],
   "source": [
    "from networkx.algorithms import approximation \n",
    "\n",
    "tsp = nx.approximation.traveling_salesman_problem\n",
    "  \n",
    "tsp(M, nodes = ['', ''], cycle = False)    #In dem Befehl Links die Charaktere eintragen"
   ]
  },
  {
   "cell_type": "markdown",
   "id": "a1637b7d",
   "metadata": {},
   "source": [
    "### Quelle für den Datensatz\n",
    "https://github.com/ApoorvRusia/StarWars_Network_Analysis\n"
   ]
  },
  {
   "cell_type": "code",
   "execution_count": null,
   "id": "81ab7a67",
   "metadata": {},
   "outputs": [],
   "source": []
  }
 ],
 "metadata": {
  "kernelspec": {
   "display_name": "Python 3",
   "language": "python",
   "name": "python3"
  },
  "language_info": {
   "codemirror_mode": {
    "name": "ipython",
    "version": 3
   },
   "file_extension": ".py",
   "mimetype": "text/x-python",
   "name": "python",
   "nbconvert_exporter": "python",
   "pygments_lexer": "ipython3",
   "version": "3.8.10"
  }
 },
 "nbformat": 4,
 "nbformat_minor": 5
}
